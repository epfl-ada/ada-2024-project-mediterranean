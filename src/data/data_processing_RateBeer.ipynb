{
 "cells": [
  {
   "cell_type": "markdown",
   "metadata": {},
   "source": [
    "# Data processing RateBeer"
   ]
  },
  {
   "cell_type": "code",
   "execution_count": 1,
   "metadata": {},
   "outputs": [],
   "source": [
    "import pandas as pd"
   ]
  },
  {
   "cell_type": "code",
   "execution_count": 3,
   "metadata": {},
   "outputs": [
    {
     "name": "stdout",
     "output_type": "stream",
     "text": [
      "   beer_id               beer_name  brewery_id      brewery_name  \\\n",
      "0   410549       33 Export (Gabon)        3198           Sobraga   \n",
      "1   105273     Castel Beer (Gabon)        3198           Sobraga   \n",
      "2    19445                   Régab        3198           Sobraga   \n",
      "3   155699  Ards Bally Black Stout       13538  Ards Brewing Co.   \n",
      "4   239097        Ards Belfast 366       13538  Ards Brewing Co.   \n",
      "\n",
      "                  style  nbr_ratings  overall_score  style_score   avg  abv  \\\n",
      "0            Pale Lager            1            NaN          NaN  2.72  5.0   \n",
      "1            Pale Lager           10            5.0         58.0  2.18  5.2   \n",
      "2            Pale Lager           27            1.0         22.0  1.83  4.5   \n",
      "3                 Stout            6            NaN          NaN  3.18  4.6   \n",
      "4  Golden Ale/Blond Ale            1            NaN          NaN  2.79  4.2   \n",
      "\n",
      "   avg_computed    zscore  nbr_matched_valid_ratings  \\\n",
      "0      2.000000       NaN                          0   \n",
      "1      1.910000       NaN                          0   \n",
      "2      1.811111       NaN                          0   \n",
      "3      3.866667  0.823699                          6   \n",
      "4      3.000000       NaN                          0   \n",
      "\n",
      "   avg_matched_valid_ratings  \n",
      "0                        NaN  \n",
      "1                        NaN  \n",
      "2                        NaN  \n",
      "3                   3.866667  \n",
      "4                        NaN  \n",
      "      id          location                       name  nbr_beers\n",
      "0   3198             Gabon                    Sobraga          3\n",
      "1  13538  Northern Ireland           Ards Brewing Co.         13\n",
      "2  22304  Northern Ireland  Barrahooley Craft Brewery          4\n",
      "3  22818  Northern Ireland                   Boundary         66\n",
      "4  24297  Northern Ireland            Brewbot Belfast          3\n",
      "   nbr_ratings  user_id     user_name        joined location\n",
      "0         1890   175852       Manslow  1.337508e+09   Poland\n",
      "1           89   442761  MAGICuenca91  1.484046e+09    Spain\n",
      "2          169   288889        Sibarh  1.384600e+09   Poland\n",
      "3         3371   250510       fombe89  1.363950e+09    Spain\n",
      "4        13043   122778    kevnic2008  1.296644e+09  Germany\n"
     ]
    }
   ],
   "source": [
    "# Load datasets\n",
    "beers_rate = pd.read_csv(\"../../data/RateBeer/beers.csv\", sep=\",\")\n",
    "breweries_rate = pd.read_csv(\"../../data/RateBeer/breweries.csv\", sep=\",\")\n",
    "users_rate = pd.read_csv(\"../../data/RateBeer/users.csv\", sep=\",\")\n",
    "\n",
    "# Display the first few rows of each DataFrame (optional)\n",
    "print(beers_rate.head())\n",
    "print(breweries_rate.head())\n",
    "print(users_rate.head())"
   ]
  }
 ],
 "metadata": {
  "kernelspec": {
   "display_name": "ada",
   "language": "python",
   "name": "python3"
  },
  "language_info": {
   "codemirror_mode": {
    "name": "ipython",
    "version": 3
   },
   "file_extension": ".py",
   "mimetype": "text/x-python",
   "name": "python",
   "nbconvert_exporter": "python",
   "pygments_lexer": "ipython3",
   "version": "3.11.10"
  }
 },
 "nbformat": 4,
 "nbformat_minor": 2
}
