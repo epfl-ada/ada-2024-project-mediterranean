{
 "cells": [
  {
   "cell_type": "markdown",
   "metadata": {},
   "source": [
    "# Matched"
   ]
  },
  {
   "cell_type": "code",
   "execution_count": null,
   "metadata": {},
   "outputs": [],
   "source": [
    "import pandas as pd"
   ]
  },
  {
   "cell_type": "markdown",
   "metadata": {},
   "source": []
  },
  {
   "cell_type": "code",
   "execution_count": null,
   "metadata": {},
   "outputs": [],
   "source": [
    "beers_matched = pd.read_csv(\"Matched/beers.csv\", sep=\",\")\n",
    "breweries_matched = pd.read_csv(\"Matched/breweries.csv\", sep=\",\")\n",
    "users_matched = pd.read_csv(\"Matched/users.csv\", sep=\",\")\n",
    "usersapprox_matched = pd.read_csv(\"Matched/users_approx.csv\", sep=\",\")\n",
    "ratings_matched = pd.read_csv(\"Matched/ratings.csv\", sep=\",\")"
   ]
  }
 ],
 "metadata": {
  "language_info": {
   "name": "python"
  }
 },
 "nbformat": 4,
 "nbformat_minor": 2
}
