{
 "cells": [
  {
   "cell_type": "markdown",
   "id": "dc4eb51e-2a01-4ab3-bf8f-fa32ff77bf9d",
   "metadata": {},
   "source": [
    "# ANALYSIS ON USERS\n",
    "In this code, we want to analyse the **geographical distribution** of **breweries** in order to better understand user distribution data."
   ]
  },
  {
   "cell_type": "code",
   "execution_count": 1,
   "id": "86a88a37-7efd-4471-8963-cbfb7d57f0c0",
   "metadata": {},
   "outputs": [
    {
     "name": "stdout",
     "output_type": "stream",
     "text": [
      "Requirement already satisfied: plotly in /opt/anaconda3/envs/ada/lib/python3.11/site-packages (5.24.1)\n",
      "Requirement already satisfied: tenacity>=6.2.0 in /opt/anaconda3/envs/ada/lib/python3.11/site-packages (from plotly) (9.0.0)\n",
      "Requirement already satisfied: packaging in /opt/anaconda3/envs/ada/lib/python3.11/site-packages (from plotly) (24.1)\n",
      "Note: you may need to restart the kernel to use updated packages.\n"
     ]
    }
   ],
   "source": [
    "import pandas as pd\n",
    "import numpy as np\n",
    "from datetime import datetime\n",
    "import matplotlib.pyplot as plt\n",
    "import re\n",
    "import math\n",
    "from utils import *\n",
    "from scipy import stats\n",
    "%pip install plotly\n",
    "import plotly.express as px\n"
   ]
  },
  {
   "cell_type": "markdown",
   "id": "850857f0-a7eb-45c0-b011-e113ad18b7a9",
   "metadata": {},
   "source": [
    "We want to make the code reusable with both datasets, so we will create functions that work on generic entity names, so that we can replicate the analysis while avoiding code redundancy."
   ]
  },
  {
   "cell_type": "code",
   "execution_count": 2,
   "id": "2cd9f39d-bad9-451c-9091-bf358f61dbf6",
   "metadata": {},
   "outputs": [
    {
     "name": "stdout",
     "output_type": "stream",
     "text": [
      "BeerAdvocate Users Columns: ['nbr_ratings', 'nbr_reviews', 'user_id', 'user_name', 'joined', 'location']\n",
      "RateBeer Users Columns: ['nbr_ratings', 'user_id', 'user_name', 'joined', 'location']\n",
      "Matched Users Columns: ['ba', 'ba.1', 'ba.2', 'ba.3', 'ba.4', 'ba.5', 'ba.6', 'rb', 'rb.1', 'rb.2', 'rb.3', 'rb.4', 'rb.5']\n"
     ]
    }
   ],
   "source": [
    "import pandas as pd\n",
    "\n",
    "# Load BeerAdvocate user dataset\n",
    "ba_users = pd.read_csv('../data/BeerAdvocate/users.csv')\n",
    "\n",
    "# Load RateBeer user dataset\n",
    "rb_users = pd.read_csv('../data/RateBeer/users.csv')\n",
    "\n",
    "# Load Matched Beer Data user dataset\n",
    "matched_users = pd.read_csv('../data/matched_beer_data/users.csv')\n",
    "\n",
    "# Print the column names of each DataFrame\n",
    "print(\"BeerAdvocate Users Columns:\", ba_users.columns.tolist())\n",
    "print(\"RateBeer Users Columns:\", rb_users.columns.tolist())\n",
    "print(\"Matched Users Columns:\", matched_users.columns.tolist())"
   ]
  },
  {
   "cell_type": "code",
   "execution_count": 3,
   "id": "4d2209f2",
   "metadata": {},
   "outputs": [
    {
     "data": {
      "text/plain": [
       "(153704, 70174, 3021)"
      ]
     },
     "execution_count": 3,
     "metadata": {},
     "output_type": "execute_result"
    }
   ],
   "source": [
    "len(ba_users), len(rb_users), len(matched_users)"
   ]
  },
  {
   "cell_type": "markdown",
   "id": "e2ec3188",
   "metadata": {},
   "source": [
    "Here we see that matched_users is a really small subset of the data and it probably originated from just joining both dfs using the user_name. Since we want a deeper exploratory analysis, we'll merge the dfs ourselves and keep all entries, even if they only appear in one of the review sites."
   ]
  },
  {
   "cell_type": "code",
   "execution_count": 4,
   "id": "423bee3e",
   "metadata": {},
   "outputs": [
    {
     "name": "stdout",
     "output_type": "stream",
     "text": [
      "Unique locations in BeerAdvocate Users:\n",
      "['United States, Washington' 'United States, New York' 'Northern Ireland'\n",
      " 'United States, Kansas' 'United States, New Jersey'\n",
      " 'United States, North Carolina' 'United States, Oklahoma'\n",
      " 'United States, Pennsylvania' 'United States, California' nan\n",
      " 'United States, Wisconsin' 'United States, Illinois'\n",
      " 'United States, Virginia' 'United States, Massachusetts'\n",
      " 'United States, South Carolina' 'United States, Georgia'\n",
      " 'United States, Louisiana' 'United States, West Virginia'\n",
      " 'United States, Alabama' 'United States, New Hampshire'\n",
      " 'United States, Indiana' 'United States, Rhode Island'\n",
      " 'United States, Missouri' 'United States, Arkansas' 'United States, Ohio'\n",
      " 'United States, Connecticut' 'United States, Florida'\n",
      " 'United States, Minnesota' 'United States, Maryland'\n",
      " 'United States, Alaska' 'United States, Mississippi'\n",
      " 'United States, Iowa' 'United States, Oregon' 'United States, Kentucky'\n",
      " 'England' 'Ireland' 'United States, Michigan' 'Serbia' 'Spain' 'Vietnam'\n",
      " 'Romania' 'Russia' 'United States, Colorado' 'Canada'\n",
      " 'United States, Texas' 'Australia' 'Finland' 'Sweden' 'Switzerland'\n",
      " 'United States, Arizona' 'United States, Montana' 'United States, Hawaii'\n",
      " 'Austria' 'Cyprus' 'United States, Idaho' 'United States, Delaware'\n",
      " 'Brazil' 'Slovenia' 'United States, Tennessee' 'Germany' 'France'\n",
      " 'South Africa' 'Scotland' 'Denmark' 'Japan' 'Belarus' 'Jersey'\n",
      " 'United States, Wyoming' 'United States, Maine' 'Hong Kong' 'Italy'\n",
      " 'China' 'Thailand' 'Chile' 'United States, Vermont' 'Norway' 'Portugal'\n",
      " 'Poland' 'Netherlands' 'Wales' 'Czech Republic' 'Belgium' 'Greece'\n",
      " 'Singapore' 'United Arab Emirates' 'Ukraine' 'United States, New Mexico'\n",
      " 'United States, Nevada' 'United States, Nebraska' 'Venezuela'\n",
      " 'Philippines' 'Ethiopia' 'United States, Utah' 'Estonia' 'Malaysia'\n",
      " 'Svalbard and Jan Mayen Islands' 'Taiwan' 'United States, North Dakota'\n",
      " 'Tajikistan' 'United States, South Dakota' 'Mexico' 'Luxembourg'\n",
      " 'Bahamas' 'Panama' 'Croatia' 'Lithuania' 'Bolivia' 'Antarctica' 'Hungary'\n",
      " 'Bulgaria' 'Puerto Rico' 'Turkey' 'Malta' 'Trinidad and Tobago'\n",
      " 'Guernsey' 'Lesotho' 'Latvia' 'Aotearoa' 'Jordan' 'Israel' 'Argentina'\n",
      " 'Lebanon' 'India' 'Iceland' 'Egypt' 'American Samoa' 'Papua New Guinea'\n",
      " 'Faroe Islands' 'Mozambique' 'Costa Rica' 'Barbados' 'Bermuda' 'Colombia'\n",
      " 'Tokelau' 'Guam' 'Fiji Islands' 'Isle of Man' 'Anguilla' 'Cambodia'\n",
      " 'Haiti' 'Uganda' 'Paraguay' 'Uruguay' 'El Salvador' 'Honduras' 'Peru'\n",
      " 'Dominican Republic' 'Moldova' 'Slovak Republic' 'Bhutan'\n",
      " 'Northern Mariana Islands' 'Guatemala' 'Gibraltar' 'Tanzania' 'Sri Lanka'\n",
      " 'Nigeria' 'Bosnia and Herzegovina' 'Kenya' 'Cayman Islands' 'Indonesia'\n",
      " 'Afghanistan' 'Belize' 'Nicaragua' 'Rwanda' 'Heard and McDonald Islands'\n",
      " 'Burkina Faso' 'Bouvet Island' 'Macedonia' 'Equatorial Guinea'\n",
      " 'South Georgia and South Sandwich Islands' 'Angola' 'Ecuador'\n",
      " 'Kazakhstan' 'Andorra' 'Uzbekistan' 'Solomon Islands' 'Aruba' 'Liberia'\n",
      " 'New Caledonia' 'Turkmenistan' 'Palestine' 'Vanuatu' 'Kyrgyzstan'\n",
      " 'Seychelles' 'Christmas Island' 'Mauritania' 'Antigua and Barbuda'\n",
      " 'Albania' 'Senegal' 'Zimbabwe' 'Marshall Islands' 'Malvinas' 'Mauritius'\n",
      " 'British Indian Ocean Territory' 'Sint Maarten']\n",
      "\n",
      "Unique locations in RateBeer Users:\n",
      "['Poland' 'Spain' 'Germany' 'Belgium' 'United States, Connecticut'\n",
      " 'United States, Virginia' 'United States, Washington'\n",
      " 'United States, North Carolina' 'Denmark' 'Scotland' 'Sweden' 'Finland'\n",
      " nan 'United States, Minnesota' 'Ireland' 'Northern Ireland' 'New Zealand'\n",
      " 'Estonia' 'England' 'Netherlands' 'Israel' 'Czech Republic' 'Singapore'\n",
      " 'United States, Wisconsin' 'United States, Alabama' 'France' 'Austria'\n",
      " 'Norway' 'Italy' 'Canada' 'Switzerland' 'Australia'\n",
      " 'United States, New York' 'Malaysia' 'United States, Texas'\n",
      " 'United States, Oregon' 'Belarus' 'United States, Georgia'\n",
      " 'United States, Michigan' 'United States, Ohio' 'United States, Maryland'\n",
      " 'Japan' 'Bulgaria' 'United States, Kansas' 'Russia'\n",
      " 'United States, California' 'United States, Pennsylvania'\n",
      " 'United States, New Jersey' 'Hungary' 'Greece' 'Luxembourg' 'Mexico'\n",
      " 'Wales' 'Slovenia' 'Croatia' 'Slovak Republic' 'Lithuania' 'China'\n",
      " 'Latvia' 'United States, Indiana' 'United States, Florida'\n",
      " 'United States, Illinois' 'Brazil' 'United States, Massachusetts'\n",
      " 'United States, Colorado' 'United States, Missouri'\n",
      " 'United States, Idaho' 'United States, Arizona' 'United States, Nebraska'\n",
      " 'United States, Louisiana' 'United States, New Hampshire'\n",
      " 'United States, Nevada' 'United States, Tennessee'\n",
      " 'United States, Mississippi' 'United States, Iowa'\n",
      " 'United States, South Carolina' 'Thailand' 'Portugal' 'Serbia'\n",
      " 'United States, New Mexico' 'Taiwan' 'Panama' 'Hong Kong' 'Cambodia'\n",
      " 'Faroe Islands' 'Chile' 'Mozambique' 'United States, Utah'\n",
      " 'United States, Maine' 'Ascension Island' 'Iceland'\n",
      " 'United States, Oklahoma' 'United States, Delaware'\n",
      " 'United States, Hawaii' 'United States, South Dakota' 'Turkey'\n",
      " 'United States, Arkansas' 'Ecuador' 'India' 'United States, Kentucky'\n",
      " 'Moldova' 'South Africa' 'Dominican Republic' 'Nepal' 'Indonesia'\n",
      " 'Colombia' 'United States, Wyoming' 'Cyprus' 'El Salvador'\n",
      " 'United States, Alaska' 'Romania' 'Vietnam' 'North Korea' 'Uruguay'\n",
      " 'United States, West Virginia' 'Venezuela' 'South Korea'\n",
      " 'United States, North Dakota' 'Bolivia' 'Marshall Islands'\n",
      " 'United States, Vermont' 'United States, Rhode Island' 'Philippines'\n",
      " 'Greenland' 'Bermuda' 'Guatemala' 'Ukraine' 'Peru' 'Algeria' 'Namibia'\n",
      " 'Nigeria' 'Laos' 'Armenia' 'Kazakhstan' 'Montenegro'\n",
      " 'Bosnia and Herzegovina' 'Macedonia' 'Bangladesh' 'Afghanistan'\n",
      " 'Azerbaijan' 'United States, Montana' 'Argentina' 'Costa Rica' 'Paraguay'\n",
      " 'Guam' 'Isle of Man' 'United Arab Emirates' 'Puerto Rico' 'Honduras'\n",
      " 'Togo' 'Monaco' 'Abkhazia' 'Saudi Arabia' 'Pakistan'\n",
      " 'Virgin Islands (U.S.)' 'Lebanon' 'Cayman Islands' 'Andorra'\n",
      " 'Trinidad and Tobago' 'Jersey' 'Mauritius' 'Antigua and Barbuda'\n",
      " 'Slovakia' 'Saint Helena' 'Burundi' 'Dem Rep of Congo' 'Malta' 'Tanzania'\n",
      " 'Ivory Coast' 'San Marino' 'Cuba' 'Norfolk Island' 'French Guiana'\n",
      " 'Botswana' 'Papua New Guinea' 'Mongolia' 'Kenya' 'Jordan' 'Montserrat'\n",
      " 'Syria' 'Morocco' 'Burkina Faso' 'Albania' 'Sudan' 'Kosovo' 'Palestine'\n",
      " 'Oman' 'Liechtenstein' 'Zimbabwe' 'Barbados' 'Egypt' 'Tunisia' 'Lesotho'\n",
      " 'East Timor' 'Vanuatu' 'Belize' 'Falkland Islands' 'Kyrgyzstan' 'Hawaii'\n",
      " 'Nagorno-Karabakh' 'Fiji Islands' 'Iraq' 'Zambia' 'Uzbekistan' 'Uganda'\n",
      " 'Sint Maarten' 'Ghana' 'Tuvalu' 'Nicaragua' 'Vatican City'\n",
      " 'American Samoa' 'Macau' 'Bahamas' 'Tajikistan' 'Iran' 'Jamaica' 'Haiti'\n",
      " 'Saint Vincent and The Grenadines' 'Saint Lucia' 'Micronesia'\n",
      " 'Virgin Islands (British)' 'Yemen' 'Tibet']\n"
     ]
    }
   ],
   "source": [
    "# Inspect the unique values in the location column\n",
    "print(\"Unique locations in BeerAdvocate Users:\")\n",
    "print(ba_users['location'].unique())\n",
    "\n",
    "print(\"\\nUnique locations in RateBeer Users:\")\n",
    "print(rb_users['location'].unique())"
   ]
  },
  {
   "cell_type": "code",
   "execution_count": 5,
   "id": "c6c01673",
   "metadata": {},
   "outputs": [
    {
     "name": "stdout",
     "output_type": "stream",
     "text": [
      "Before preprocessing:\n",
      "BeerAdvocate Users: 153704 rows, 194 unique locations\n",
      "RateBeer Users: 70174 rows, 222 unique locations\n",
      "\n",
      "After preprocessing:\n",
      "BeerAdvocate Users: 122425 rows, 142 unique locations\n",
      "RateBeer Users: 50592 rows, 169 unique locations\n"
     ]
    }
   ],
   "source": [
    "#Here we clean the location data by applying the preprocess_location function to each location in the BeerAdvocate and RateBeer datasets\n",
    "def preprocess_location(df, location_column='location'):\n",
    "    \"\"\"\n",
    "    Preprocess the location column in the given DataFrame.\n",
    "    \n",
    "    Parameters:\n",
    "    df (pd.DataFrame): The DataFrame containing the location column.\n",
    "    location_column (str): The name of the location column to preprocess.\n",
    "    \n",
    "    Returns:\n",
    "    pd.DataFrame: The DataFrame with the preprocessed location column.\n",
    "    \"\"\"\n",
    "    # Convert to lowercase and remove leading/trailing whitespace\n",
    "    df[location_column] = df[location_column].str.lower().str.strip()\n",
    "    \n",
    "    # Replace state-specific locations with 'United States'\n",
    "    df[location_column] = df[location_column].apply(lambda x: 'united states' if isinstance(x, str) and 'united states' in x else x)\n",
    "    \n",
    "    # Correct common misspellings and variations\n",
    "    # These corrections come from manual inspection of the data and checking that same country is instatiated differently in each dataset\n",
    "    location_corrections = {\n",
    "        'england': 'united kingdom',\n",
    "        'northern ireland': 'united kingdom',\n",
    "        'scotland': 'united kingdom',\n",
    "        'wales': 'united kingdom',\n",
    "        'czech republic': 'czechia',\n",
    "        'slovak republic': 'slovakia',\n",
    "    }\n",
    "    \n",
    "    df[location_column] = df[location_column].replace(location_corrections)\n",
    "    \n",
    "    # Handle missing values by removing rows with missing locations\n",
    "    df = df.dropna(subset=[location_column])\n",
    "    \n",
    "    return df\n",
    "# Print the length and unique values before preprocessing\n",
    "print(\"Before preprocessing:\")\n",
    "print(f\"BeerAdvocate Users: {len(ba_users)} rows, {ba_users['location'].nunique()} unique locations\")\n",
    "print(f\"RateBeer Users: {len(rb_users)} rows, {rb_users['location'].nunique()} unique locations\")\n",
    "\n",
    "# Clean the location data in the BeerAdvocate and RateBeer datasets\n",
    "ba_users = preprocess_location(ba_users)\n",
    "rb_users = preprocess_location(rb_users)\n",
    "\n",
    "# Print the length and unique values after preprocessing\n",
    "print(\"\\nAfter preprocessing:\")\n",
    "print(f\"BeerAdvocate Users: {len(ba_users)} rows, {ba_users['location'].nunique()} unique locations\")\n",
    "print(f\"RateBeer Users: {len(rb_users)} rows, {rb_users['location'].nunique()} unique locations\")\n"
   ]
  },
  {
   "cell_type": "markdown",
   "id": "b2c6ce7a",
   "metadata": {},
   "source": [
    "Now we'll merge both dataframes. To do this we'll explore using user_name and user_id to see which achieves a higher overlap of users."
   ]
  },
  {
   "cell_type": "code",
   "execution_count": 8,
   "id": "63d8a282",
   "metadata": {},
   "outputs": [
    {
     "name": "stdout",
     "output_type": "stream",
     "text": [
      "Combined Users by Name and Location:\n",
      "                                           user_name        location  \\\n",
      "0                                           #3cheers  united kingdom   \n",
      "1  (5)</a></i> - , connecticut, usa - jun 17, 201...   united states   \n",
      "2  (5)</a></i> - , connecticut, usa - jun 18, 201...   united states   \n",
      "3  (5)</a></i> - , connecticut, usa - jun 18, 201...   united states   \n",
      "4                                         (m)rated99       australia   \n",
      "\n",
      "   nbr_ratings  nbr_reviews user_id        joined  source  \n",
      "0            1            0  433350  1.479121e+09       1  \n",
      "1            1            0   65919  1.197803e+09       1  \n",
      "2            1            0   65919  1.197803e+09       1  \n",
      "3            1            0   65919  1.197803e+09       1  \n",
      "4            1            0    2641  1.008760e+09       1   169270\n",
      "\n",
      "Combined Users by ID:\n",
      "  user_id  nbr_ratings  nbr_reviews  user_name       joined       location\n",
      "0       2           52            0       wade  955533600.0  united states\n",
      "1       3          219            0      billb  955533600.0  united states\n",
      "2       7           42            0      young  955533600.0  united states\n",
      "3      10            5            0     mark99  955533600.0  united states\n",
      "4      15            1            0  lazarus99  955533600.0  united states 172968\n"
     ]
    }
   ],
   "source": [
    "# Standardize columns by adding 'nbr_reviews' to rb_users with default value 0\n",
    "rb_users['nbr_reviews'] = 0\n",
    "\n",
    "# Add a source column to each dataset\n",
    "ba_users['source'] = 'BA'\n",
    "rb_users['source'] = 'RB'\n",
    "\n",
    "# Ensure columns are in the same order\n",
    "ba_users = ba_users[['nbr_ratings', 'nbr_reviews', 'user_id', 'user_name', 'joined', 'location', 'source']]\n",
    "rb_users = rb_users[['nbr_ratings', 'nbr_reviews', 'user_id', 'user_name', 'joined', 'location', 'source']]\n",
    "\n",
    "# Convert user_name to lowercase\n",
    "ba_users['user_name'] = ba_users['user_name'].str.lower().str.strip()\n",
    "rb_users['user_name'] = rb_users['user_name'].str.lower().str.strip()\n",
    "\n",
    "# Concatenate the DataFrames\n",
    "combined_users = pd.concat([ba_users, rb_users], ignore_index=True)\n",
    "\n",
    "# Handle duplicate users by summing their ratings and reviews using user_name and location\n",
    "combined_users_by_name = combined_users.groupby(['user_name', 'location']).agg({\n",
    "    'nbr_ratings': 'sum',\n",
    "    'nbr_reviews': 'sum',\n",
    "    'user_id': 'first',  # Keep the first user_id\n",
    "    'joined': 'first',   # Keep the first joined date\n",
    "    'source': lambda x: 2 if len(set(x)) > 1 else (0 if 'BA' in x.values else 1)  # Determine the source\n",
    "}).reset_index()\n",
    "\n",
    "# Handle duplicate users by summing their ratings and reviews using user_id\n",
    "combined_users_by_id = combined_users.groupby('user_id').agg({\n",
    "    'nbr_ratings': 'sum',\n",
    "    'nbr_reviews': 'sum',\n",
    "    'user_name': 'first',  # Keep the first user_name\n",
    "    'joined': 'first',     # Keep the first joined date\n",
    "    'location': 'first'    # Keep the first location\n",
    "}).reset_index()\n",
    "\n",
    "# Print the combined DataFrame\n",
    "print(\"Combined Users by Name and Location:\")\n",
    "print(combined_users_by_name.head(), len(combined_users_by_name))\n",
    "\n",
    "print(\"\\nCombined Users by ID:\")\n",
    "print(combined_users_by_id.head(), len(combined_users_by_id))"
   ]
  },
  {
   "cell_type": "markdown",
   "id": "246899a2",
   "metadata": {},
   "source": [
    "### Conclusions on merging both dataframes\n",
    "Originally we had 2 datasets with the following lengths:\n",
    "- BeerAdvocate: 122425 users\n",
    "- RateBeer: 50592 users\n",
    "\n",
    "\n",
    "\n",
    "This comes to a total of 173017 users. (Without taking users on both platforms into account)\n",
    "\n",
    "\n",
    "From these results, we can see the following:\n",
    "- Joining with user_name returns a df with a length of 169270 thus 'merging' 3747 users.\n",
    "- Joining with user_id returns a df with a length of 172968 thus 'merging' 49 users.\n",
    "\n",
    "Thus, we will continue our study with the combined users using the user_name. "
   ]
  },
  {
   "cell_type": "code",
   "execution_count": 9,
   "id": "90f1224f",
   "metadata": {},
   "outputs": [
    {
     "name": "stdout",
     "output_type": "stream",
     "text": [
      "Combined Users by Location:\n",
      "         location  nbr_reviews  nbr_ratings  num_users        joined  source\n",
      "0        abkhazia            0            6          3  1.411496e+09       1\n",
      "1     afghanistan            3           42         13  1.380948e+09       1\n",
      "2         albania            0           11          5  1.257209e+09       1\n",
      "3         algeria            0           39          2  1.415702e+09       1\n",
      "4  american samoa           18           22          5  1.378999e+09       0 197\n",
      "\n",
      "BeerAdvocate Users by Location:\n",
      "         location  nbr_reviews  nbr_ratings  num_users        joined\n",
      "0     afghanistan            3           12          5  1.411986e+09\n",
      "1         albania            0            4          1  1.412676e+09\n",
      "2  american samoa           18           20          4  1.420043e+09\n",
      "3         andorra            5            8          3  1.260586e+09\n",
      "4          angola            4            6          1  1.343124e+09 142\n",
      "\n",
      "RateBeer Users by Location:\n",
      "         location  nbr_reviews  nbr_ratings  num_users        joined\n",
      "0        abkhazia            0            6          3  1.411496e+09\n",
      "1     afghanistan            0           30          8  1.361549e+09\n",
      "2         albania            0            7          4  1.218343e+09\n",
      "3         algeria            0           39          2  1.415702e+09\n",
      "4  american samoa            0            2          1  1.214820e+09 169\n"
     ]
    }
   ],
   "source": [
    "# Segment Users by Location for combined dataset\n",
    "combined_users_by_location = combined_users_by_name.groupby('location').agg({\n",
    "    'nbr_reviews': 'sum',\n",
    "    'nbr_ratings': 'sum',\n",
    "    'user_id': 'count',\n",
    "    'joined': 'mean',\n",
    "    'source': lambda x: x.mode().iloc[0] if not x.mode().empty else None  # Use pandas mode\n",
    "}).rename(columns={'user_id': 'num_users'}).reset_index()\n",
    "\n",
    "\n",
    "\n",
    "# Segment Users by Location for individual datasets\n",
    "ba_users_by_location = ba_users.groupby('location').agg({\n",
    "    'nbr_reviews': 'sum',\n",
    "    'nbr_ratings': 'sum',\n",
    "    'user_id': 'count',\n",
    "    'joined': 'mean'\n",
    "}).rename(columns={'user_id': 'num_users'}).reset_index()\n",
    "\n",
    "rb_users_by_location = rb_users.groupby('location').agg({\n",
    "    'nbr_reviews': 'sum',\n",
    "    'nbr_ratings': 'sum',\n",
    "    'user_id': 'count',\n",
    "    'joined': 'mean'\n",
    "}).rename(columns={'user_id': 'num_users'}).reset_index()\n",
    "\n",
    "# Print the results for combined dataset and the length of the dataset\n",
    "print(\"Combined Users by Location:\")\n",
    "print(combined_users_by_location.head(), len(combined_users_by_location))\n",
    "\n",
    "# Print the results for individual datasets\n",
    "print(\"\\nBeerAdvocate Users by Location:\")  \n",
    "print(ba_users_by_location.head(), len(ba_users_by_location))\n",
    "\n",
    "print(\"\\nRateBeer Users by Location:\")\n",
    "print(rb_users_by_location.head(), len(rb_users_by_location))"
   ]
  },
  {
   "cell_type": "code",
   "execution_count": 10,
   "id": "fbee90fd",
   "metadata": {},
   "outputs": [
    {
     "name": "stdout",
     "output_type": "stream",
     "text": [
      "Combined - Number of Reviews and Ratings by Location:\n",
      "         location  nbr_reviews  nbr_ratings  source\n",
      "0        abkhazia            0            6       1\n",
      "1     afghanistan            3           42       1\n",
      "2         albania            0           11       1\n",
      "3         algeria            0           39       1\n",
      "4  american samoa           18           22       0\n",
      "Combined - Number of Users by Location:\n",
      "         location  num_users\n",
      "0        abkhazia          3\n",
      "1     afghanistan         13\n",
      "2         albania          5\n",
      "3         algeria          2\n",
      "4  american samoa          5\n",
      "BeerAdvocate Users by Location:\n",
      "         location  nbr_reviews  nbr_ratings  num_users        joined\n",
      "0     afghanistan            3           12          5  1.411986e+09\n",
      "1         albania            0            4          1  1.412676e+09\n",
      "2  american samoa           18           20          4  1.420043e+09\n",
      "3         andorra            5            8          3  1.260586e+09\n",
      "4          angola            4            6          1  1.343124e+09\n",
      "RateBeer Users by Location:\n",
      "         location  nbr_reviews  nbr_ratings  num_users        joined\n",
      "0        abkhazia            0            6          3  1.411496e+09\n",
      "1     afghanistan            0           30          8  1.361549e+09\n",
      "2         albania            0            7          4  1.218343e+09\n",
      "3         algeria            0           39          2  1.415702e+09\n",
      "4  american samoa            0            2          1  1.214820e+09\n"
     ]
    }
   ],
   "source": [
    "# Analysis Objectives for combined dataset\n",
    "# Users Analysis: Number of reviews and ratings submitted by users on each site per country\n",
    "print(\"Combined - Number of Reviews and Ratings by Location:\")\n",
    "print(combined_users_by_location[['location', 'nbr_reviews', 'nbr_ratings', 'source']].head())\n",
    "\n",
    "# Users Analysis: Number of users per country\n",
    "print(\"Combined - Number of Users by Location:\")\n",
    "print(combined_users_by_location[['location', 'num_users']].head())\n",
    "\n",
    "# Print the results for individual datasets\n",
    "print(\"BeerAdvocate Users by Location:\")\n",
    "print(ba_users_by_location.head())\n",
    "\n",
    "print(\"RateBeer Users by Location:\")\n",
    "print(rb_users_by_location.head())"
   ]
  },
  {
   "cell_type": "code",
   "execution_count": 11,
   "id": "0b78f909",
   "metadata": {},
   "outputs": [
    {
     "name": "stdout",
     "output_type": "stream",
     "text": [
      "BeerAdvocate - Number of Reviews and Ratings by Location:\n",
      "         location  nbr_reviews  nbr_ratings\n",
      "0     afghanistan            3           12\n",
      "1         albania            0            4\n",
      "2  american samoa           18           20\n",
      "3         andorra            5            8\n",
      "4          angola            4            6\n",
      "RateBeer - Number of Reviews and Ratings by Location:\n",
      "         location  nbr_reviews  nbr_ratings\n",
      "0        abkhazia            0            6\n",
      "1     afghanistan            0           30\n",
      "2         albania            0            7\n",
      "3         algeria            0           39\n",
      "4  american samoa            0            2\n",
      "BeerAdvocate - Number of Users by Location:\n",
      "         location  num_users\n",
      "0     afghanistan          5\n",
      "1         albania          1\n",
      "2  american samoa          4\n",
      "3         andorra          3\n",
      "4          angola          1\n",
      "RateBeer - Number of Users by Location:\n",
      "         location  num_users\n",
      "0        abkhazia          3\n",
      "1     afghanistan          8\n",
      "2         albania          4\n",
      "3         algeria          2\n",
      "4  american samoa          1\n"
     ]
    }
   ],
   "source": [
    "# Analysis Objectives for individual datasets\n",
    "# Users Analysis: Number of reviews and ratings submitted by users on each site per country\n",
    "print(\"BeerAdvocate - Number of Reviews and Ratings by Location:\")\n",
    "print(ba_users_by_location[['location', 'nbr_reviews', 'nbr_ratings']].head())\n",
    "\n",
    "print(\"RateBeer - Number of Reviews and Ratings by Location:\")\n",
    "print(rb_users_by_location[['location', 'nbr_reviews', 'nbr_ratings']].head())\n",
    "\n",
    "# Users Analysis: Number of users per country\n",
    "print(\"BeerAdvocate - Number of Users by Location:\")\n",
    "print(ba_users_by_location[['location', 'num_users']].head())\n",
    "\n",
    "print(\"RateBeer - Number of Users by Location:\")\n",
    "print(rb_users_by_location[['location', 'num_users']].head())"
   ]
  },
  {
   "cell_type": "code",
   "execution_count": 12,
   "id": "93f7db9d",
   "metadata": {},
   "outputs": [
    {
     "data": {
      "text/html": [
       "<div>\n",
       "<style scoped>\n",
       "    .dataframe tbody tr th:only-of-type {\n",
       "        vertical-align: middle;\n",
       "    }\n",
       "\n",
       "    .dataframe tbody tr th {\n",
       "        vertical-align: top;\n",
       "    }\n",
       "\n",
       "    .dataframe thead th {\n",
       "        text-align: right;\n",
       "    }\n",
       "</style>\n",
       "<table border=\"1\" class=\"dataframe\">\n",
       "  <thead>\n",
       "    <tr style=\"text-align: right;\">\n",
       "      <th></th>\n",
       "      <th>location</th>\n",
       "      <th>nbr_reviews</th>\n",
       "      <th>nbr_ratings</th>\n",
       "      <th>num_users</th>\n",
       "      <th>joined</th>\n",
       "      <th>source</th>\n",
       "    </tr>\n",
       "  </thead>\n",
       "  <tbody>\n",
       "    <tr>\n",
       "      <th>0</th>\n",
       "      <td>abkhazia</td>\n",
       "      <td>0</td>\n",
       "      <td>6</td>\n",
       "      <td>3</td>\n",
       "      <td>1.411496e+09</td>\n",
       "      <td>1</td>\n",
       "    </tr>\n",
       "    <tr>\n",
       "      <th>1</th>\n",
       "      <td>afghanistan</td>\n",
       "      <td>3</td>\n",
       "      <td>42</td>\n",
       "      <td>13</td>\n",
       "      <td>1.380948e+09</td>\n",
       "      <td>1</td>\n",
       "    </tr>\n",
       "    <tr>\n",
       "      <th>2</th>\n",
       "      <td>albania</td>\n",
       "      <td>0</td>\n",
       "      <td>11</td>\n",
       "      <td>5</td>\n",
       "      <td>1.257209e+09</td>\n",
       "      <td>1</td>\n",
       "    </tr>\n",
       "    <tr>\n",
       "      <th>3</th>\n",
       "      <td>algeria</td>\n",
       "      <td>0</td>\n",
       "      <td>39</td>\n",
       "      <td>2</td>\n",
       "      <td>1.415702e+09</td>\n",
       "      <td>1</td>\n",
       "    </tr>\n",
       "    <tr>\n",
       "      <th>4</th>\n",
       "      <td>american samoa</td>\n",
       "      <td>18</td>\n",
       "      <td>22</td>\n",
       "      <td>5</td>\n",
       "      <td>1.378999e+09</td>\n",
       "      <td>0</td>\n",
       "    </tr>\n",
       "  </tbody>\n",
       "</table>\n",
       "</div>"
      ],
      "text/plain": [
       "         location  nbr_reviews  nbr_ratings  num_users        joined  source\n",
       "0        abkhazia            0            6          3  1.411496e+09       1\n",
       "1     afghanistan            3           42         13  1.380948e+09       1\n",
       "2         albania            0           11          5  1.257209e+09       1\n",
       "3         algeria            0           39          2  1.415702e+09       1\n",
       "4  american samoa           18           22          5  1.378999e+09       0"
      ]
     },
     "execution_count": 12,
     "metadata": {},
     "output_type": "execute_result"
    }
   ],
   "source": [
    "combined_users_by_location.head()"
   ]
  },
  {
   "cell_type": "code",
   "execution_count": 13,
   "id": "6228256b",
   "metadata": {},
   "outputs": [
    {
     "data": {
      "application/vnd.plotly.v1+json": {
       "config": {
        "plotlyServerURL": "https://plot.ly"
       },
       "data": [
        {
         "coloraxis": "coloraxis",
         "customdata": [
          [
           0,
           6,
           3,
           1411496400,
           1
          ],
          [
           3,
           42,
           13,
           1380947815.3846154,
           1
          ],
          [
           0,
           11,
           5,
           1257209280,
           1
          ],
          [
           0,
           39,
           2,
           1415701800,
           1
          ],
          [
           18,
           22,
           5,
           1378998720,
           0
          ],
          [
           5,
           184,
           12,
           1315981800,
           1
          ],
          [
           4,
           6,
           1,
           1343124000,
           0
          ],
          [
           1,
           1,
           1,
           1466762400,
           0
          ],
          [
           115,
           172,
           8,
           1328221350,
           0
          ],
          [
           3,
           4,
           2,
           1409871600,
           0
          ],
          [
           276,
           587,
           49,
           1358374334.6938775,
           0
          ],
          [
           130,
           1048,
           101,
           1359620019.8019803,
           1
          ],
          [
           0,
           5,
           3,
           1369621200,
           1
          ],
          [
           2,
           27,
           4,
           1428359400,
           0
          ],
          [
           0,
           410,
           3,
           1290739200,
           1
          ],
          [
           25947,
           141082,
           1955,
           1301808037.4424553,
           1
          ],
          [
           522,
           18249,
           151,
           1374110153.642384,
           1
          ],
          [
           0,
           13,
           5,
           1268839440,
           1
          ],
          [
           127,
           144,
           15,
           1299038640,
           0
          ],
          [
           0,
           17,
           2,
           1315047600,
           1
          ],
          [
           8,
           13,
           4,
           1327551300,
           0
          ],
          [
           11,
           8207,
           31,
           1404742993.548387,
           1
          ],
          [
           4053,
           153076,
           1235,
           1329945294.8987854,
           1
          ],
          [
           1,
           14,
           3,
           1419013200,
           1
          ],
          [
           5,
           1632,
           7,
           1339533257.142857,
           0
          ],
          [
           11,
           11,
           2,
           1264802400,
           0
          ],
          [
           57,
           1365,
           7,
           1259502171.4285715,
           1
          ],
          [
           27,
           240,
           40,
           1337740650,
           1
          ],
          [
           0,
           9,
           5,
           1260612720,
           1
          ],
          [
           16,
           19,
           2,
           1340661600,
           0
          ],
          [
           1025,
           23855,
           1051,
           1370960631.7792578,
           1
          ],
          [
           1,
           2,
           1,
           1146304800,
           0
          ],
          [
           19,
           789,
           61,
           1396523449.180328,
           1
          ],
          [
           47,
           50,
           3,
           1293072000,
           0
          ],
          [
           0,
           2,
           1,
           1220263200,
           1
          ],
          [
           42,
           2132,
           12,
           1286821200,
           1
          ],
          [
           126591,
           821005,
           6408,
           1320304213.483146,
           0
          ],
          [
           1,
           47,
           7,
           1248615257.142857,
           1
          ],
          [
           38,
           4148,
           115,
           1325853328.6956522,
           1
          ],
          [
           739,
           3568,
           110,
           1374840392.7272727,
           1
          ],
          [
           0,
           19,
           1,
           1383044400,
           0
          ],
          [
           6,
           697,
           44,
           1362117763.6363637,
           1
          ],
          [
           100,
           284,
           38,
           1355550821.0526316,
           0
          ],
          [
           257,
           37568,
           196,
           1378229987.7551022,
           1
          ],
          [
           0,
           1,
           1,
           1286272800,
           1
          ],
          [
           227,
           3041,
           35,
           1324001622.857143,
           1
          ],
          [
           155,
           28898,
           192,
           1353886856.25,
           1
          ],
          [
           0,
           2,
           2,
           1392157800,
           1
          ],
          [
           462,
           634707,
           1095,
           1275774923.8356164,
           1
          ],
          [
           8,
           2314,
           32,
           1388754787.5,
           0
          ],
          [
           0,
           3,
           1,
           1151056800,
           1
          ],
          [
           3,
           447,
           20,
           1381249980,
           1
          ],
          [
           0,
           7,
           6,
           1179828000,
           1
          ],
          [
           5,
           3360,
           28,
           1319439728.5714285,
           1
          ],
          [
           0,
           6,
           1,
           1439114400,
           0
          ],
          [
           3,
           58427,
           151,
           1397135872.8476822,
           1
          ],
          [
           0,
           162,
           2,
           1327100400,
           0
          ],
          [
           0,
           1,
           1,
           1448017200,
           1
          ],
          [
           3,
           10555,
           12,
           1373646900,
           1
          ],
          [
           94,
           97,
           2,
           1291802400,
           0
          ],
          [
           356,
           208617,
           517,
           1327662139.2649903,
           1
          ],
          [
           3605,
           44620,
           663,
           1386045371.9457014,
           1
          ],
          [
           0,
           17,
           1,
           1450695600,
           1
          ],
          [
           8234,
           256169,
           1246,
           1351718505.939005,
           1
          ],
          [
           0,
           4,
           2,
           1235169000,
           1
          ],
          [
           1,
           1,
           1,
           1275904800,
           0
          ],
          [
           410,
           11296,
           201,
           1369808919.402985,
           1
          ],
          [
           0,
           374,
           1,
           1444557600,
           1
          ],
          [
           5,
           861,
           11,
           1333966581.8181818,
           0
          ],
          [
           7,
           269,
           20,
           1374683580,
           0
          ],
          [
           4,
           5,
           2,
           1447281000,
           0
          ],
          [
           0,
           28,
           2,
           1365849000,
           0
          ],
          [
           0,
           2,
           2,
           1305453600,
           1
          ],
          [
           0,
           116,
           1,
           1290942000,
           0
          ],
          [
           2,
           106,
           6,
           1419531600,
           0
          ],
          [
           711,
           6282,
           59,
           1387139308.4745762,
           1
          ],
          [
           134,
           27226,
           260,
           1366804384.6153846,
           1
          ],
          [
           52,
           3610,
           68,
           1293444423.5294118,
           1
          ],
          [
           151,
           1440,
           62,
           1346535348.387097,
           1
          ],
          [
           3,
           952,
           15,
           1374240720,
           0
          ],
          [
           0,
           1,
           1,
           1356865200,
           1
          ],
          [
           0,
           4,
           2,
           1367402400,
           1
          ],
          [
           1212,
           21003,
           462,
           1363087800,
           1
          ],
          [
           28,
           113,
           10,
           1291155120,
           1
          ],
          [
           82,
           35265,
           107,
           1341578960.7476635,
           1
          ],
          [
           2998,
           66471,
           1058,
           1354688166.3516068,
           1
          ],
          [
           0,
           1,
           1,
           1472637600,
           1
          ],
          [
           0,
           1,
           1,
           1073559600,
           1
          ],
          [
           2685,
           40850,
           256,
           1341080240.625,
           0
          ],
          [
           374,
           1355,
           4,
           1338286500,
           1
          ],
          [
           163,
           173,
           4,
           1427148900,
           1
          ],
          [
           0,
           39,
           2,
           1391508000,
           0
          ],
          [
           3,
           24,
           10,
           1376234640,
           0
          ],
          [
           0,
           2,
           2,
           1335306600,
           1
          ],
          [
           0,
           2,
           2,
           1425551400,
           0
          ],
          [
           0,
           18,
           2,
           1231239600,
           1
          ],
          [
           4,
           6954,
           84,
           1362743357.142857,
           1
          ],
          [
           42,
           266,
           16,
           1345204350,
           0
          ],
          [
           785,
           1154,
           2,
           1317508200,
           0
          ],
          [
           0,
           1,
           1,
           1414580400,
           0
          ],
          [
           0,
           5,
           1,
           1165834800,
           1
          ],
          [
           27,
           4038,
           72,
           1352178300,
           1
          ],
          [
           50,
           3638,
           34,
           1296756423.5294118,
           1
          ],
          [
           0,
           2,
           1,
           1439632800,
           1
          ],
          [
           12,
           88,
           18,
           1384486400,
           1
          ],
          [
           26,
           9237,
           16,
           1349194050,
           1
          ],
          [
           4,
           70,
           13,
           1312054061.5384614,
           1
          ],
          [
           0,
           1,
           1,
           1443693600,
           0
          ],
          [
           2,
           1129,
           3,
           1262658000,
           1
          ],
          [
           1,
           1,
           1,
           1114941600,
           0
          ],
          [
           0,
           21,
           3,
           1346956800,
           1
          ],
          [
           3816,
           15302,
           409,
           1357759029.8288507,
           1
          ],
          [
           0,
           1,
           1,
           1116496800,
           1
          ],
          [
           3,
           5588,
           22,
           1404709036.3636363,
           1
          ],
          [
           0,
           6,
           2,
           1233568800,
           1
          ],
          [
           0,
           2,
           1,
           1497952800,
           1
          ],
          [
           0,
           21,
           6,
           1322835600,
           1
          ],
          [
           0,
           17,
           1,
           1484910000,
           1
          ],
          [
           0,
           15,
           3,
           1422295200,
           1
          ],
          [
           0,
           2215,
           4,
           1272772800,
           0
          ],
          [
           0,
           1,
           1,
           1358161200,
           1
          ],
          [
           0,
           18,
           3,
           1206441600,
           1
          ],
          [
           0,
           15,
           3,
           1340704800,
           1
          ],
          [
           9740,
           286023,
           1338,
           1339108864.573991,
           1
          ],
          [
           1,
           7,
           2,
           1350772200,
           0
          ],
          [
           0,
           26949,
           453,
           1322521231.7880795,
           1
          ],
          [
           5,
           8,
           4,
           1327680000,
           1
          ],
          [
           1,
           6,
           4,
           1341246600,
           1
          ],
          [
           0,
           60,
           2,
           1347705000,
           1
          ],
          [
           0,
           618,
           1,
           1307181600,
           1
          ],
          [
           2,
           6,
           2,
           1395873000,
           0
          ],
          [
           1059,
           234713,
           775,
           1343451144.7741935,
           1
          ],
          [
           0,
           11,
           1,
           1418986800,
           1
          ],
          [
           0,
           28,
           4,
           1219077000,
           1
          ],
          [
           0,
           16,
           3,
           1358936400,
           1
          ],
          [
           265,
           7486,
           41,
           1371259843.902439,
           0
          ],
          [
           2,
           9,
           3,
           1252376400,
           0
          ],
          [
           1,
           102,
           17,
           1396948023.5294118,
           1
          ],
          [
           5,
           368,
           23,
           1388864347.826087,
           1
          ],
          [
           50,
           1339,
           55,
           1320383192.7272727,
           1
          ],
          [
           1219,
           209524,
           1758,
           1427482441.6382253,
           1
          ],
          [
           897,
           11095,
           144,
           1372049025,
           1
          ],
          [
           162,
           1757,
           107,
           1365466340.1869159,
           0
          ],
          [
           3490,
           21602,
           155,
           1396715156.1290324,
           1
          ],
          [
           2218,
           17857,
           383,
           1402784102.3498695,
           1
          ],
          [
           0,
           16,
           1,
           1467108000,
           0
          ],
          [
           0,
           653,
           2,
           1435874400,
           1
          ],
          [
           0,
           1,
           1,
           1384254000,
           1
          ],
          [
           0,
           1,
           1,
           1434103200,
           1
          ],
          [
           0,
           9,
           2,
           1375138800,
           1
          ],
          [
           0,
           64,
           1,
           1306404000,
           1
          ],
          [
           0,
           1,
           1,
           1451818800,
           0
          ],
          [
           424,
           6373,
           120,
           1392821280,
           1
          ],
          [
           0,
           1,
           1,
           1374314400,
           0
          ],
          [
           268,
           1913,
           101,
           1365679140.5940595,
           1
          ],
          [
           1,
           3,
           2,
           1438470000,
           0
          ],
          [
           18,
           32602,
           107,
           1400956082.2429907,
           1
          ],
          [
           663,
           12129,
           145,
           1382619748.9655173,
           1
          ],
          [
           3,
           3,
           1,
           1150365600,
           0
          ],
          [
           574,
           6105,
           209,
           1390799661.244019,
           1
          ],
          [
           16,
           16,
           1,
           1130061600,
           0
          ],
          [
           0,
           816,
           63,
           1392823600,
           1
          ],
          [
           4108,
           70815,
           982,
           1386669086.761711,
           1
          ],
          [
           0,
           1,
           1,
           1459850400,
           0
          ],
          [
           0,
           3,
           1,
           1022580000,
           1
          ],
          [
           114,
           459,
           2,
           1231930800,
           0
          ],
          [
           9067,
           335027,
           1273,
           1331833082.1681068,
           1
          ],
          [
           1447,
           36985,
           252,
           1362367342.857143,
           1
          ],
          [
           0,
           3,
           2,
           1260702000,
           1
          ],
          [
           310,
           3764,
           83,
           1361407489.1566265,
           1
          ],
          [
           92,
           368,
           5,
           1345286160,
           0
          ],
          [
           20,
           48,
           6,
           1264932600,
           1
          ],
          [
           1965,
           16567,
           90,
           1371241920,
           1
          ],
          [
           0,
           1,
           1,
           1352977200,
           1
          ],
          [
           0,
           2,
           1,
           1167390000,
           1
          ],
          [
           4,
           6,
           1,
           1357556400,
           0
          ],
          [
           22,
           35,
           5,
           1316481120,
           0
          ],
          [
           0,
           6,
           5,
           1279793520,
           1
          ],
          [
           61,
           5155,
           135,
           1376696426.6666667,
           1
          ],
          [
           0,
           69,
           1,
           1376388000,
           0
          ],
          [
           0,
           1,
           1,
           1435831200,
           1
          ],
          [
           3,
           17,
           5,
           1329456240,
           0
          ],
          [
           182,
           5502,
           84,
           1392665057.142857,
           1
          ],
          [
           172,
           241,
           10,
           1342018440,
           0
          ],
          [
           27291,
           630180,
           4204,
           1347105455.280685,
           1
          ],
          [
           2241331,
           10578458,
           136912,
           1330471753.6958046,
           0
          ],
          [
           9,
           271,
           16,
           1330154550,
           1
          ],
          [
           1,
           74,
           4,
           1267008300,
           0
          ],
          [
           2,
           4,
           4,
           1254305700,
           0
          ],
          [
           0,
           3,
           3,
           1222280400,
           1
          ],
          [
           2,
           3769,
           18,
           1316543000,
           1
          ],
          [
           28,
           254,
           14,
           1393459200,
           1
          ],
          [
           0,
           1,
           1,
           1149933600,
           1
          ],
          [
           0,
           42,
           15,
           1288572240,
           1
          ],
          [
           0,
           2,
           1,
           1492768800,
           1
          ],
          [
           0,
           2,
           2,
           1166176800,
           1
          ],
          [
           0,
           9,
           5,
           1269632880,
           1
          ]
         ],
         "geo": "geo",
         "hovertemplate": "<b>%{hovertext}</b><br><br>location=%{location}<br>nbr_reviews=%{customdata[0]}<br>nbr_ratings=%{customdata[1]}<br>num_users=%{customdata[2]}<br>joined=%{customdata[3]}<br>source=%{customdata[4]}<br>log_num_users=%{z}<extra></extra>",
         "hovertext": [
          "abkhazia",
          "afghanistan",
          "albania",
          "algeria",
          "american samoa",
          "andorra",
          "angola",
          "anguilla",
          "antarctica",
          "antigua and barbuda",
          "aotearoa",
          "argentina",
          "armenia",
          "aruba",
          "ascension island",
          "australia",
          "austria",
          "azerbaijan",
          "bahamas",
          "bangladesh",
          "barbados",
          "belarus",
          "belgium",
          "belize",
          "bermuda",
          "bhutan",
          "bolivia",
          "bosnia and herzegovina",
          "botswana",
          "bouvet island",
          "brazil",
          "british indian ocean territory",
          "bulgaria",
          "burkina faso",
          "burundi",
          "cambodia",
          "canada",
          "cayman islands",
          "chile",
          "china",
          "christmas island",
          "colombia",
          "costa rica",
          "croatia",
          "cuba",
          "cyprus",
          "czechia",
          "dem rep of congo",
          "denmark",
          "dominican republic",
          "east timor",
          "ecuador",
          "egypt",
          "el salvador",
          "equatorial guinea",
          "estonia",
          "ethiopia",
          "falkland islands",
          "faroe islands",
          "fiji islands",
          "finland",
          "france",
          "french guiana",
          "germany",
          "ghana",
          "gibraltar",
          "greece",
          "greenland",
          "guam",
          "guatemala",
          "guernsey",
          "haiti",
          "hawaii",
          "heard and mcdonald islands",
          "honduras",
          "hong kong",
          "hungary",
          "iceland",
          "india",
          "indonesia",
          "iran",
          "iraq",
          "ireland",
          "isle of man",
          "israel",
          "italy",
          "ivory coast",
          "jamaica",
          "japan",
          "jersey",
          "jordan",
          "kazakhstan",
          "kenya",
          "kosovo",
          "kyrgyzstan",
          "laos",
          "latvia",
          "lebanon",
          "lesotho",
          "liberia",
          "liechtenstein",
          "lithuania",
          "luxembourg",
          "macau",
          "macedonia",
          "malaysia",
          "malta",
          "malvinas",
          "marshall islands",
          "mauritania",
          "mauritius",
          "mexico",
          "micronesia",
          "moldova",
          "monaco",
          "mongolia",
          "montenegro",
          "montserrat",
          "morocco",
          "mozambique",
          "nagorno-karabakh",
          "namibia",
          "nepal",
          "netherlands",
          "new caledonia",
          "new zealand",
          "nicaragua",
          "nigeria",
          "norfolk island",
          "north korea",
          "northern mariana islands",
          "norway",
          "oman",
          "pakistan",
          "palestine",
          "panama",
          "papua new guinea",
          "paraguay",
          "peru",
          "philippines",
          "poland",
          "portugal",
          "puerto rico",
          "romania",
          "russia",
          "rwanda",
          "saint helena",
          "saint lucia",
          "saint vincent and the grenadines",
          "san marino",
          "saudi arabia",
          "senegal",
          "serbia",
          "seychelles",
          "singapore",
          "sint maarten",
          "slovakia",
          "slovenia",
          "solomon islands",
          "south africa",
          "south georgia and south sandwich islands",
          "south korea",
          "spain",
          "sri lanka",
          "sudan",
          "svalbard and jan mayen islands",
          "sweden",
          "switzerland",
          "syria",
          "taiwan",
          "tajikistan",
          "tanzania",
          "thailand",
          "tibet",
          "togo",
          "tokelau",
          "trinidad and tobago",
          "tunisia",
          "turkey",
          "turkmenistan",
          "tuvalu",
          "uganda",
          "ukraine",
          "united arab emirates",
          "united kingdom",
          "united states",
          "uruguay",
          "uzbekistan",
          "vanuatu",
          "vatican city",
          "venezuela",
          "vietnam",
          "virgin islands (british)",
          "virgin islands (u.s.)",
          "yemen",
          "zambia",
          "zimbabwe"
         ],
         "locationmode": "country names",
         "locations": [
          "abkhazia",
          "afghanistan",
          "albania",
          "algeria",
          "american samoa",
          "andorra",
          "angola",
          "anguilla",
          "antarctica",
          "antigua and barbuda",
          "aotearoa",
          "argentina",
          "armenia",
          "aruba",
          "ascension island",
          "australia",
          "austria",
          "azerbaijan",
          "bahamas",
          "bangladesh",
          "barbados",
          "belarus",
          "belgium",
          "belize",
          "bermuda",
          "bhutan",
          "bolivia",
          "bosnia and herzegovina",
          "botswana",
          "bouvet island",
          "brazil",
          "british indian ocean territory",
          "bulgaria",
          "burkina faso",
          "burundi",
          "cambodia",
          "canada",
          "cayman islands",
          "chile",
          "china",
          "christmas island",
          "colombia",
          "costa rica",
          "croatia",
          "cuba",
          "cyprus",
          "czechia",
          "dem rep of congo",
          "denmark",
          "dominican republic",
          "east timor",
          "ecuador",
          "egypt",
          "el salvador",
          "equatorial guinea",
          "estonia",
          "ethiopia",
          "falkland islands",
          "faroe islands",
          "fiji islands",
          "finland",
          "france",
          "french guiana",
          "germany",
          "ghana",
          "gibraltar",
          "greece",
          "greenland",
          "guam",
          "guatemala",
          "guernsey",
          "haiti",
          "hawaii",
          "heard and mcdonald islands",
          "honduras",
          "hong kong",
          "hungary",
          "iceland",
          "india",
          "indonesia",
          "iran",
          "iraq",
          "ireland",
          "isle of man",
          "israel",
          "italy",
          "ivory coast",
          "jamaica",
          "japan",
          "jersey",
          "jordan",
          "kazakhstan",
          "kenya",
          "kosovo",
          "kyrgyzstan",
          "laos",
          "latvia",
          "lebanon",
          "lesotho",
          "liberia",
          "liechtenstein",
          "lithuania",
          "luxembourg",
          "macau",
          "macedonia",
          "malaysia",
          "malta",
          "malvinas",
          "marshall islands",
          "mauritania",
          "mauritius",
          "mexico",
          "micronesia",
          "moldova",
          "monaco",
          "mongolia",
          "montenegro",
          "montserrat",
          "morocco",
          "mozambique",
          "nagorno-karabakh",
          "namibia",
          "nepal",
          "netherlands",
          "new caledonia",
          "new zealand",
          "nicaragua",
          "nigeria",
          "norfolk island",
          "north korea",
          "northern mariana islands",
          "norway",
          "oman",
          "pakistan",
          "palestine",
          "panama",
          "papua new guinea",
          "paraguay",
          "peru",
          "philippines",
          "poland",
          "portugal",
          "puerto rico",
          "romania",
          "russia",
          "rwanda",
          "saint helena",
          "saint lucia",
          "saint vincent and the grenadines",
          "san marino",
          "saudi arabia",
          "senegal",
          "serbia",
          "seychelles",
          "singapore",
          "sint maarten",
          "slovakia",
          "slovenia",
          "solomon islands",
          "south africa",
          "south georgia and south sandwich islands",
          "south korea",
          "spain",
          "sri lanka",
          "sudan",
          "svalbard and jan mayen islands",
          "sweden",
          "switzerland",
          "syria",
          "taiwan",
          "tajikistan",
          "tanzania",
          "thailand",
          "tibet",
          "togo",
          "tokelau",
          "trinidad and tobago",
          "tunisia",
          "turkey",
          "turkmenistan",
          "tuvalu",
          "uganda",
          "ukraine",
          "united arab emirates",
          "united kingdom",
          "united states",
          "uruguay",
          "uzbekistan",
          "vanuatu",
          "vatican city",
          "venezuela",
          "vietnam",
          "virgin islands (british)",
          "virgin islands (u.s.)",
          "yemen",
          "zambia",
          "zimbabwe"
         ],
         "name": "",
         "type": "choropleth",
         "z": [
          1.3862943611198906,
          2.6390573296152584,
          1.791759469228055,
          1.0986122886681098,
          1.791759469228055,
          2.5649493574615367,
          0.6931471805599453,
          0.6931471805599453,
          2.1972245773362196,
          1.0986122886681098,
          3.912023005428146,
          4.624972813284271,
          1.3862943611198906,
          1.6094379124341003,
          1.3862943611198906,
          7.578656850594762,
          5.0238805208462765,
          1.791759469228055,
          2.772588722239781,
          1.0986122886681098,
          1.6094379124341003,
          3.4657359027997265,
          7.119635638017636,
          1.3862943611198906,
          2.0794415416798357,
          1.0986122886681098,
          2.0794415416798357,
          3.713572066704308,
          1.791759469228055,
          1.0986122886681098,
          6.9584483932976555,
          0.6931471805599453,
          4.127134385045092,
          1.3862943611198906,
          0.6931471805599453,
          2.5649493574615367,
          8.765458531504226,
          2.0794415416798357,
          4.7535901911063645,
          4.709530201312334,
          0.6931471805599453,
          3.8066624897703196,
          3.6635616461296463,
          5.2832037287379885,
          0.6931471805599453,
          3.58351893845611,
          5.262690188904886,
          1.0986122886681098,
          6.999422467507961,
          3.4965075614664802,
          0.6931471805599453,
          3.044522437723423,
          1.9459101490553132,
          3.367295829986474,
          0.6931471805599453,
          5.0238805208462765,
          1.0986122886681098,
          0.6931471805599453,
          2.5649493574615367,
          1.0986122886681098,
          6.249975242259483,
          6.498282149476434,
          0.6931471805599453,
          7.1284959456800365,
          1.0986122886681098,
          0.6931471805599453,
          5.308267697401205,
          0.6931471805599453,
          2.4849066497880004,
          3.044522437723423,
          1.0986122886681098,
          1.0986122886681098,
          1.0986122886681098,
          0.6931471805599453,
          1.9459101490553132,
          4.0943445622221,
          5.564520407322694,
          4.23410650459726,
          4.143134726391533,
          2.772588722239781,
          0.6931471805599453,
          1.0986122886681098,
          6.137727054086234,
          2.3978952727983707,
          4.68213122712422,
          6.9650803456014065,
          0.6931471805599453,
          0.6931471805599453,
          5.54907608489522,
          1.6094379124341003,
          1.6094379124341003,
          1.0986122886681098,
          2.3978952727983707,
          1.0986122886681098,
          1.0986122886681098,
          1.0986122886681098,
          4.442651256490317,
          2.833213344056216,
          1.0986122886681098,
          0.6931471805599453,
          0.6931471805599453,
          4.290459441148391,
          3.5553480614894135,
          0.6931471805599453,
          2.9444389791664403,
          2.833213344056216,
          2.6390573296152584,
          0.6931471805599453,
          1.3862943611198906,
          0.6931471805599453,
          1.3862943611198906,
          6.016157159698354,
          0.6931471805599453,
          3.1354942159291497,
          1.0986122886681098,
          0.6931471805599453,
          1.9459101490553132,
          0.6931471805599453,
          1.3862943611198906,
          1.6094379124341003,
          0.6931471805599453,
          1.3862943611198906,
          1.3862943611198906,
          7.199678345691172,
          1.0986122886681098,
          6.118097198041348,
          1.6094379124341003,
          1.6094379124341003,
          1.0986122886681098,
          0.6931471805599453,
          1.0986122886681098,
          6.654152520183219,
          0.6931471805599453,
          1.6094379124341003,
          1.3862943611198906,
          3.7376696182833684,
          1.3862943611198906,
          2.8903717578961645,
          3.1780538303479458,
          4.02535169073515,
          7.472500744737558,
          4.976733742420574,
          4.68213122712422,
          5.049856007249537,
          5.950642552587727,
          0.6931471805599453,
          1.0986122886681098,
          0.6931471805599453,
          0.6931471805599453,
          1.0986122886681098,
          0.6931471805599453,
          0.6931471805599453,
          4.795790545596741,
          0.6931471805599453,
          4.624972813284271,
          1.0986122886681098,
          4.68213122712422,
          4.983606621708336,
          0.6931471805599453,
          5.3471075307174685,
          0.6931471805599453,
          4.1588830833596715,
          6.890609120147166,
          0.6931471805599453,
          0.6931471805599453,
          1.0986122886681098,
          7.149916836132109,
          5.53338948872752,
          1.0986122886681098,
          4.430816798843313,
          1.791759469228055,
          1.9459101490553132,
          4.51085950651685,
          0.6931471805599453,
          0.6931471805599453,
          0.6931471805599453,
          1.791759469228055,
          1.791759469228055,
          4.912654885736052,
          0.6931471805599453,
          0.6931471805599453,
          1.791759469228055,
          4.442651256490317,
          2.3978952727983707,
          8.344029572407049,
          11.82710096659283,
          2.833213344056216,
          1.6094379124341003,
          1.6094379124341003,
          1.3862943611198906,
          2.9444389791664403,
          2.70805020110221,
          0.6931471805599453,
          2.772588722239781,
          0.6931471805599453,
          1.0986122886681098,
          1.791759469228055
         ]
        }
       ],
       "layout": {
        "coloraxis": {
         "colorbar": {
          "ticktext": [
           "1",
           "10",
           "100",
           "1k",
           "10k",
           "100k"
          ],
          "tickvals": [
           0.6931471805599453,
           2.3978952727983707,
           4.61512051684126,
           6.90875477931522,
           9.210440366976517,
           11.51293546492023
          ],
          "title": {
           "text": "Number of Users (Log Scale)"
          }
         },
         "colorscale": [
          [
           0,
           "#0d0887"
          ],
          [
           0.1111111111111111,
           "#46039f"
          ],
          [
           0.2222222222222222,
           "#7201a8"
          ],
          [
           0.3333333333333333,
           "#9c179e"
          ],
          [
           0.4444444444444444,
           "#bd3786"
          ],
          [
           0.5555555555555556,
           "#d8576b"
          ],
          [
           0.6666666666666666,
           "#ed7953"
          ],
          [
           0.7777777777777778,
           "#fb9f3a"
          ],
          [
           0.8888888888888888,
           "#fdca26"
          ],
          [
           1,
           "#f0f921"
          ]
         ]
        },
        "geo": {
         "center": {},
         "coastlinecolor": "Gray",
         "domain": {
          "x": [
           0,
           1
          ],
          "y": [
           0,
           1
          ]
         },
         "showcoastlines": true
        },
        "legend": {
         "tracegroupgap": 0
        },
        "margin": {
         "b": 0,
         "l": 0,
         "r": 0,
         "t": 0
        },
        "template": {
         "data": {
          "bar": [
           {
            "error_x": {
             "color": "#2a3f5f"
            },
            "error_y": {
             "color": "#2a3f5f"
            },
            "marker": {
             "line": {
              "color": "#E5ECF6",
              "width": 0.5
             },
             "pattern": {
              "fillmode": "overlay",
              "size": 10,
              "solidity": 0.2
             }
            },
            "type": "bar"
           }
          ],
          "barpolar": [
           {
            "marker": {
             "line": {
              "color": "#E5ECF6",
              "width": 0.5
             },
             "pattern": {
              "fillmode": "overlay",
              "size": 10,
              "solidity": 0.2
             }
            },
            "type": "barpolar"
           }
          ],
          "carpet": [
           {
            "aaxis": {
             "endlinecolor": "#2a3f5f",
             "gridcolor": "white",
             "linecolor": "white",
             "minorgridcolor": "white",
             "startlinecolor": "#2a3f5f"
            },
            "baxis": {
             "endlinecolor": "#2a3f5f",
             "gridcolor": "white",
             "linecolor": "white",
             "minorgridcolor": "white",
             "startlinecolor": "#2a3f5f"
            },
            "type": "carpet"
           }
          ],
          "choropleth": [
           {
            "colorbar": {
             "outlinewidth": 0,
             "ticks": ""
            },
            "type": "choropleth"
           }
          ],
          "contour": [
           {
            "colorbar": {
             "outlinewidth": 0,
             "ticks": ""
            },
            "colorscale": [
             [
              0,
              "#0d0887"
             ],
             [
              0.1111111111111111,
              "#46039f"
             ],
             [
              0.2222222222222222,
              "#7201a8"
             ],
             [
              0.3333333333333333,
              "#9c179e"
             ],
             [
              0.4444444444444444,
              "#bd3786"
             ],
             [
              0.5555555555555556,
              "#d8576b"
             ],
             [
              0.6666666666666666,
              "#ed7953"
             ],
             [
              0.7777777777777778,
              "#fb9f3a"
             ],
             [
              0.8888888888888888,
              "#fdca26"
             ],
             [
              1,
              "#f0f921"
             ]
            ],
            "type": "contour"
           }
          ],
          "contourcarpet": [
           {
            "colorbar": {
             "outlinewidth": 0,
             "ticks": ""
            },
            "type": "contourcarpet"
           }
          ],
          "heatmap": [
           {
            "colorbar": {
             "outlinewidth": 0,
             "ticks": ""
            },
            "colorscale": [
             [
              0,
              "#0d0887"
             ],
             [
              0.1111111111111111,
              "#46039f"
             ],
             [
              0.2222222222222222,
              "#7201a8"
             ],
             [
              0.3333333333333333,
              "#9c179e"
             ],
             [
              0.4444444444444444,
              "#bd3786"
             ],
             [
              0.5555555555555556,
              "#d8576b"
             ],
             [
              0.6666666666666666,
              "#ed7953"
             ],
             [
              0.7777777777777778,
              "#fb9f3a"
             ],
             [
              0.8888888888888888,
              "#fdca26"
             ],
             [
              1,
              "#f0f921"
             ]
            ],
            "type": "heatmap"
           }
          ],
          "heatmapgl": [
           {
            "colorbar": {
             "outlinewidth": 0,
             "ticks": ""
            },
            "colorscale": [
             [
              0,
              "#0d0887"
             ],
             [
              0.1111111111111111,
              "#46039f"
             ],
             [
              0.2222222222222222,
              "#7201a8"
             ],
             [
              0.3333333333333333,
              "#9c179e"
             ],
             [
              0.4444444444444444,
              "#bd3786"
             ],
             [
              0.5555555555555556,
              "#d8576b"
             ],
             [
              0.6666666666666666,
              "#ed7953"
             ],
             [
              0.7777777777777778,
              "#fb9f3a"
             ],
             [
              0.8888888888888888,
              "#fdca26"
             ],
             [
              1,
              "#f0f921"
             ]
            ],
            "type": "heatmapgl"
           }
          ],
          "histogram": [
           {
            "marker": {
             "pattern": {
              "fillmode": "overlay",
              "size": 10,
              "solidity": 0.2
             }
            },
            "type": "histogram"
           }
          ],
          "histogram2d": [
           {
            "colorbar": {
             "outlinewidth": 0,
             "ticks": ""
            },
            "colorscale": [
             [
              0,
              "#0d0887"
             ],
             [
              0.1111111111111111,
              "#46039f"
             ],
             [
              0.2222222222222222,
              "#7201a8"
             ],
             [
              0.3333333333333333,
              "#9c179e"
             ],
             [
              0.4444444444444444,
              "#bd3786"
             ],
             [
              0.5555555555555556,
              "#d8576b"
             ],
             [
              0.6666666666666666,
              "#ed7953"
             ],
             [
              0.7777777777777778,
              "#fb9f3a"
             ],
             [
              0.8888888888888888,
              "#fdca26"
             ],
             [
              1,
              "#f0f921"
             ]
            ],
            "type": "histogram2d"
           }
          ],
          "histogram2dcontour": [
           {
            "colorbar": {
             "outlinewidth": 0,
             "ticks": ""
            },
            "colorscale": [
             [
              0,
              "#0d0887"
             ],
             [
              0.1111111111111111,
              "#46039f"
             ],
             [
              0.2222222222222222,
              "#7201a8"
             ],
             [
              0.3333333333333333,
              "#9c179e"
             ],
             [
              0.4444444444444444,
              "#bd3786"
             ],
             [
              0.5555555555555556,
              "#d8576b"
             ],
             [
              0.6666666666666666,
              "#ed7953"
             ],
             [
              0.7777777777777778,
              "#fb9f3a"
             ],
             [
              0.8888888888888888,
              "#fdca26"
             ],
             [
              1,
              "#f0f921"
             ]
            ],
            "type": "histogram2dcontour"
           }
          ],
          "mesh3d": [
           {
            "colorbar": {
             "outlinewidth": 0,
             "ticks": ""
            },
            "type": "mesh3d"
           }
          ],
          "parcoords": [
           {
            "line": {
             "colorbar": {
              "outlinewidth": 0,
              "ticks": ""
             }
            },
            "type": "parcoords"
           }
          ],
          "pie": [
           {
            "automargin": true,
            "type": "pie"
           }
          ],
          "scatter": [
           {
            "fillpattern": {
             "fillmode": "overlay",
             "size": 10,
             "solidity": 0.2
            },
            "type": "scatter"
           }
          ],
          "scatter3d": [
           {
            "line": {
             "colorbar": {
              "outlinewidth": 0,
              "ticks": ""
             }
            },
            "marker": {
             "colorbar": {
              "outlinewidth": 0,
              "ticks": ""
             }
            },
            "type": "scatter3d"
           }
          ],
          "scattercarpet": [
           {
            "marker": {
             "colorbar": {
              "outlinewidth": 0,
              "ticks": ""
             }
            },
            "type": "scattercarpet"
           }
          ],
          "scattergeo": [
           {
            "marker": {
             "colorbar": {
              "outlinewidth": 0,
              "ticks": ""
             }
            },
            "type": "scattergeo"
           }
          ],
          "scattergl": [
           {
            "marker": {
             "colorbar": {
              "outlinewidth": 0,
              "ticks": ""
             }
            },
            "type": "scattergl"
           }
          ],
          "scattermapbox": [
           {
            "marker": {
             "colorbar": {
              "outlinewidth": 0,
              "ticks": ""
             }
            },
            "type": "scattermapbox"
           }
          ],
          "scatterpolar": [
           {
            "marker": {
             "colorbar": {
              "outlinewidth": 0,
              "ticks": ""
             }
            },
            "type": "scatterpolar"
           }
          ],
          "scatterpolargl": [
           {
            "marker": {
             "colorbar": {
              "outlinewidth": 0,
              "ticks": ""
             }
            },
            "type": "scatterpolargl"
           }
          ],
          "scatterternary": [
           {
            "marker": {
             "colorbar": {
              "outlinewidth": 0,
              "ticks": ""
             }
            },
            "type": "scatterternary"
           }
          ],
          "surface": [
           {
            "colorbar": {
             "outlinewidth": 0,
             "ticks": ""
            },
            "colorscale": [
             [
              0,
              "#0d0887"
             ],
             [
              0.1111111111111111,
              "#46039f"
             ],
             [
              0.2222222222222222,
              "#7201a8"
             ],
             [
              0.3333333333333333,
              "#9c179e"
             ],
             [
              0.4444444444444444,
              "#bd3786"
             ],
             [
              0.5555555555555556,
              "#d8576b"
             ],
             [
              0.6666666666666666,
              "#ed7953"
             ],
             [
              0.7777777777777778,
              "#fb9f3a"
             ],
             [
              0.8888888888888888,
              "#fdca26"
             ],
             [
              1,
              "#f0f921"
             ]
            ],
            "type": "surface"
           }
          ],
          "table": [
           {
            "cells": {
             "fill": {
              "color": "#EBF0F8"
             },
             "line": {
              "color": "white"
             }
            },
            "header": {
             "fill": {
              "color": "#C8D4E3"
             },
             "line": {
              "color": "white"
             }
            },
            "type": "table"
           }
          ]
         },
         "layout": {
          "annotationdefaults": {
           "arrowcolor": "#2a3f5f",
           "arrowhead": 0,
           "arrowwidth": 1
          },
          "autotypenumbers": "strict",
          "coloraxis": {
           "colorbar": {
            "outlinewidth": 0,
            "ticks": ""
           }
          },
          "colorscale": {
           "diverging": [
            [
             0,
             "#8e0152"
            ],
            [
             0.1,
             "#c51b7d"
            ],
            [
             0.2,
             "#de77ae"
            ],
            [
             0.3,
             "#f1b6da"
            ],
            [
             0.4,
             "#fde0ef"
            ],
            [
             0.5,
             "#f7f7f7"
            ],
            [
             0.6,
             "#e6f5d0"
            ],
            [
             0.7,
             "#b8e186"
            ],
            [
             0.8,
             "#7fbc41"
            ],
            [
             0.9,
             "#4d9221"
            ],
            [
             1,
             "#276419"
            ]
           ],
           "sequential": [
            [
             0,
             "#0d0887"
            ],
            [
             0.1111111111111111,
             "#46039f"
            ],
            [
             0.2222222222222222,
             "#7201a8"
            ],
            [
             0.3333333333333333,
             "#9c179e"
            ],
            [
             0.4444444444444444,
             "#bd3786"
            ],
            [
             0.5555555555555556,
             "#d8576b"
            ],
            [
             0.6666666666666666,
             "#ed7953"
            ],
            [
             0.7777777777777778,
             "#fb9f3a"
            ],
            [
             0.8888888888888888,
             "#fdca26"
            ],
            [
             1,
             "#f0f921"
            ]
           ],
           "sequentialminus": [
            [
             0,
             "#0d0887"
            ],
            [
             0.1111111111111111,
             "#46039f"
            ],
            [
             0.2222222222222222,
             "#7201a8"
            ],
            [
             0.3333333333333333,
             "#9c179e"
            ],
            [
             0.4444444444444444,
             "#bd3786"
            ],
            [
             0.5555555555555556,
             "#d8576b"
            ],
            [
             0.6666666666666666,
             "#ed7953"
            ],
            [
             0.7777777777777778,
             "#fb9f3a"
            ],
            [
             0.8888888888888888,
             "#fdca26"
            ],
            [
             1,
             "#f0f921"
            ]
           ]
          },
          "colorway": [
           "#636efa",
           "#EF553B",
           "#00cc96",
           "#ab63fa",
           "#FFA15A",
           "#19d3f3",
           "#FF6692",
           "#B6E880",
           "#FF97FF",
           "#FECB52"
          ],
          "font": {
           "color": "#2a3f5f"
          },
          "geo": {
           "bgcolor": "white",
           "lakecolor": "white",
           "landcolor": "#E5ECF6",
           "showlakes": true,
           "showland": true,
           "subunitcolor": "white"
          },
          "hoverlabel": {
           "align": "left"
          },
          "hovermode": "closest",
          "mapbox": {
           "style": "light"
          },
          "paper_bgcolor": "white",
          "plot_bgcolor": "#E5ECF6",
          "polar": {
           "angularaxis": {
            "gridcolor": "white",
            "linecolor": "white",
            "ticks": ""
           },
           "bgcolor": "#E5ECF6",
           "radialaxis": {
            "gridcolor": "white",
            "linecolor": "white",
            "ticks": ""
           }
          },
          "scene": {
           "xaxis": {
            "backgroundcolor": "#E5ECF6",
            "gridcolor": "white",
            "gridwidth": 2,
            "linecolor": "white",
            "showbackground": true,
            "ticks": "",
            "zerolinecolor": "white"
           },
           "yaxis": {
            "backgroundcolor": "#E5ECF6",
            "gridcolor": "white",
            "gridwidth": 2,
            "linecolor": "white",
            "showbackground": true,
            "ticks": "",
            "zerolinecolor": "white"
           },
           "zaxis": {
            "backgroundcolor": "#E5ECF6",
            "gridcolor": "white",
            "gridwidth": 2,
            "linecolor": "white",
            "showbackground": true,
            "ticks": "",
            "zerolinecolor": "white"
           }
          },
          "shapedefaults": {
           "line": {
            "color": "#2a3f5f"
           }
          },
          "ternary": {
           "aaxis": {
            "gridcolor": "white",
            "linecolor": "white",
            "ticks": ""
           },
           "baxis": {
            "gridcolor": "white",
            "linecolor": "white",
            "ticks": ""
           },
           "bgcolor": "#E5ECF6",
           "caxis": {
            "gridcolor": "white",
            "linecolor": "white",
            "ticks": ""
           }
          },
          "title": {
           "x": 0.05
          },
          "xaxis": {
           "automargin": true,
           "gridcolor": "white",
           "linecolor": "white",
           "ticks": "",
           "title": {
            "standoff": 15
           },
           "zerolinecolor": "white",
           "zerolinewidth": 2
          },
          "yaxis": {
           "automargin": true,
           "gridcolor": "white",
           "linecolor": "white",
           "ticks": "",
           "title": {
            "standoff": 15
           },
           "zerolinecolor": "white",
           "zerolinewidth": 2
          }
         }
        },
        "title": {
         "text": "Interactive Map of Users by Location (Log Scale)"
        }
       }
      }
     },
     "metadata": {},
     "output_type": "display_data"
    }
   ],
   "source": [
    "df = combined_users_by_location\n",
    "df['log_num_users'] = np.log1p(df['num_users'])  # Apply log(1+x) to handle zero counts\n",
    "\n",
    "# Create an interactive world map with Plotly\n",
    "fig = px.choropleth(\n",
    "    df,\n",
    "    locations=\"location\",\n",
    "    locationmode=\"country names\",\n",
    "    color=\"log_num_users\",  # Use the log scale column for coloring\n",
    "    hover_name=\"location\",\n",
    "    hover_data={\n",
    "        \"nbr_reviews\": True,\n",
    "        \"nbr_ratings\": True,\n",
    "        \"num_users\": True,  # Display the original number of users for clarity\n",
    "        \"joined\": True,\n",
    "        \"source\": True\n",
    "    },\n",
    "    title=\"Interactive Map of Users by Location (Log Scale)\"\n",
    ")\n",
    "\n",
    "# Update layout for better appearance and log-scaled color bar\n",
    "fig.update_geos(showcoastlines=True, coastlinecolor=\"Gray\")\n",
    "fig.update_layout(\n",
    "    margin={\"r\":0,\"t\":0,\"l\":0,\"b\":0},\n",
    "    coloraxis_colorbar={\n",
    "        'title': \"Number of Users (Log Scale)\",\n",
    "        'tickvals': [np.log1p(val) for val in [1, 10, 100, 1000, 10000, 100000]],  # Log scale ticks\n",
    "        'ticktext': ['1', '10', '100', '1k', '10k', '100k']\n",
    "    }\n",
    ")\n",
    "\n",
    "# Display the figure\n",
    "fig.show()\n",
    "fig.write_html(\"interactive_map.html\")"
   ]
  },
  {
   "cell_type": "markdown",
   "id": "e1f61aa7-e115-43af-baca-ee4948b9d8a8",
   "metadata": {},
   "source": [
    "## LOCATION DISTRIBUTION ANALYSIS"
   ]
  },
  {
   "cell_type": "markdown",
   "id": "aa10234f-a30d-4bb1-ac0d-c43224ac0282",
   "metadata": {},
   "source": [
    "## Consideration\n",
    "Here in the end we will add some consideration"
   ]
  }
 ],
 "metadata": {
  "kernelspec": {
   "display_name": "ada",
   "language": "python",
   "name": "python3"
  },
  "language_info": {
   "codemirror_mode": {
    "name": "ipython",
    "version": 3
   },
   "file_extension": ".py",
   "mimetype": "text/x-python",
   "name": "python",
   "nbconvert_exporter": "python",
   "pygments_lexer": "ipython3",
   "version": "3.11.9"
  }
 },
 "nbformat": 4,
 "nbformat_minor": 5
}
