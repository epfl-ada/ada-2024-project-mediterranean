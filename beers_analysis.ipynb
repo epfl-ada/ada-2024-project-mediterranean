{
 "cells": [
  {
   "cell_type": "markdown",
   "metadata": {},
   "source": [
    "# BEERS TIMELINE ANALYSIS"
   ]
  },
  {
   "cell_type": "code",
   "execution_count": 1,
   "metadata": {},
   "outputs": [],
   "source": [
    "import pandas as pd\n",
    "import numpy as np\n",
    "import importlib\n",
    "import matplotlib.pyplot as plt\n",
    "import src.utils.utilities_beers_analysis as utils_beers\n",
    "import seaborn as sns\n",
    "import warnings\n",
    "import plotly.express as px\n",
    "warnings.filterwarnings('ignore')\n",
    "from collections import Counter"
   ]
  },
  {
   "cell_type": "markdown",
   "metadata": {},
   "source": [
    "# Import data"
   ]
  },
  {
   "cell_type": "code",
   "execution_count": 2,
   "metadata": {},
   "outputs": [],
   "source": [
    "original_PATH = 'data/Original'\n",
    "processed_PATH = 'data/Processed'\n",
    "\n",
    "# Loading Data Processed\n",
    "beer_BA = pd.read_csv(processed_PATH + '/BeerAdvocate/beers_processed_dual.csv')\n",
    "breweries_BA = pd.read_csv(processed_PATH + '/BeerAdvocate/breweries_processed.csv')\n",
    "users_BA = pd.read_csv(processed_PATH + '/BeerAdvocate/users_processed.csv')\n",
    "beer_RB = pd.read_csv(processed_PATH + '/RateBeer/beers_processed_dual.csv')\n",
    "breweries_RB = pd.read_csv(processed_PATH + '/RateBeer/breweries_processed.csv')\n",
    "users_RB = pd.read_csv(processed_PATH + '/RateBeer/users_processed.csv')"
   ]
  },
  {
   "cell_type": "markdown",
   "metadata": {},
   "source": [
    "Ensurance of data continuity"
   ]
  },
  {
   "cell_type": "code",
   "execution_count": 3,
   "metadata": {},
   "outputs": [
    {
     "name": "stdout",
     "output_type": "stream",
     "text": [
      "Index(['beer_id', 'beer_name', 'brewery_id', 'brewery_name', 'style', 'abv',\n",
      "       'nbr_ratings', 'avg', 'Style_score', 'Overall_score',\n",
      "       'nbr_matched_valid_ratings', 'location', 'location_region', 'US', 'UK',\n",
      "       'Canada'],\n",
      "      dtype='object')\n",
      "Index(['beer_id', 'beer_name', 'brewery_id', 'brewery_name', 'style', 'abv',\n",
      "       'nbr_ratings', 'avg', 'Style_score', 'Overall_score',\n",
      "       'nbr_matched_valid_ratings', 'location', 'location_region', 'US', 'UK',\n",
      "       'Canada'],\n",
      "      dtype='object')\n",
      "[ True  True  True  True  True  True  True  True  True  True  True  True\n",
      "  True  True  True  True]\n"
     ]
    }
   ],
   "source": [
    "print(beer_BA.columns)\n",
    "print(beer_RB.columns)\n",
    "print(beer_BA.columns == beer_RB.columns)"
   ]
  },
  {
   "cell_type": "markdown",
   "metadata": {},
   "source": [
    "# Initial timeline analysis"
   ]
  },
  {
   "cell_type": "code",
   "execution_count": 4,
   "metadata": {},
   "outputs": [
    {
     "data": {
      "application/vnd.plotly.v1+json": {
       "config": {
        "plotlyServerURL": "https://plot.ly"
       },
       "data": [
        {
         "coloraxis": "coloraxis",
         "customdata": [
          [
           21237
          ],
          [
           10413
          ],
          [
           9123
          ],
          [
           7998
          ],
          [
           7666
          ],
          [
           7447
          ],
          [
           6637
          ],
          [
           6177
          ],
          [
           5710
          ],
          [
           5609
          ],
          [
           5289
          ],
          [
           5054
          ],
          [
           4733
          ],
          [
           4503
          ],
          [
           3762
          ],
          [
           3489
          ],
          [
           3041
          ],
          [
           2675
          ],
          [
           2613
          ],
          [
           2450
          ],
          [
           2394
          ],
          [
           2216
          ],
          [
           1987
          ],
          [
           1657
          ],
          [
           1655
          ],
          [
           1545
          ],
          [
           1369
          ],
          [
           1302
          ],
          [
           1253
          ],
          [
           1065
          ],
          [
           993
          ],
          [
           888
          ],
          [
           881
          ],
          [
           859
          ],
          [
           796
          ],
          [
           718
          ],
          [
           686
          ],
          [
           636
          ],
          [
           636
          ],
          [
           591
          ],
          [
           558
          ],
          [
           533
          ],
          [
           480
          ],
          [
           471
          ],
          [
           462
          ],
          [
           380
          ],
          [
           304
          ],
          [
           240
          ],
          [
           160
          ],
          [
           154
          ]
         ],
         "geo": "geo",
         "hovertemplate": "<b>%{hovertext}</b><br><br>state=%{location}<br>beer_count=%{customdata[0]}<br>log_beer_count=%{z}<extra></extra>",
         "hovertext": [
          "CA",
          "PA",
          "NY",
          "CO",
          "MI",
          "IL",
          "FL",
          "OR",
          "WA",
          "NC",
          "VA",
          "MA",
          "OH",
          "TX",
          "MN",
          "IN",
          "WI",
          "MD",
          "MO",
          "NJ",
          "VT",
          "CT",
          "NH",
          "ME",
          "AZ",
          "GA",
          "SC",
          "NM",
          "KY",
          "ID",
          "TN",
          "MT",
          "AK",
          "DE",
          "IA",
          "NE",
          "KS",
          "RI",
          "NV",
          "AL",
          "LA",
          "WY",
          "UT",
          "OK",
          "SD",
          "HI",
          "AR",
          "WV",
          "MS",
          "ND"
         ],
         "locationmode": "USA-states",
         "locations": [
          "CA",
          "PA",
          "NY",
          "CO",
          "MI",
          "IL",
          "FL",
          "OR",
          "WA",
          "NC",
          "VA",
          "MA",
          "OH",
          "TX",
          "MN",
          "IN",
          "WI",
          "MD",
          "MO",
          "NJ",
          "VT",
          "CT",
          "NH",
          "ME",
          "AZ",
          "GA",
          "SC",
          "NM",
          "KY",
          "ID",
          "TN",
          "MT",
          "AK",
          "DE",
          "IA",
          "NE",
          "KS",
          "RI",
          "NV",
          "AL",
          "LA",
          "WY",
          "UT",
          "OK",
          "SD",
          "HI",
          "AR",
          "WV",
          "MS",
          "ND"
         ],
         "name": "",
         "type": "choropleth",
         "z": [
          9.963547308963792,
          9.250906333722844,
          9.11866358340428,
          8.987071812848821,
          8.944680683558895,
          8.915700818956903,
          8.80056599227992,
          8.728749873478527,
          8.650149418664864,
          8.632305998516742,
          8.573573524852344,
          8.528133131454572,
          8.46252579007393,
          8.412721169819527,
          8.232971790593437,
          8.157657015196472,
          8.020270472819238,
          7.892078421248119,
          7.868636894184167,
          7.804251383528112,
          7.781138509845015,
          7.7039102096163115,
          7.59488438721652,
          7.4133673356952405,
          7.412160334945205,
          7.343426229147367,
          7.222566018822171,
          7.172424577124845,
          7.134093721192866,
          6.97166860472579,
          6.901737206656574,
          6.790097235513905,
          6.782192056006791,
          6.756932389247553,
          6.680854678790215,
          6.577861357721047,
          6.532334292222349,
          6.456769655572163,
          6.456769655572163,
          6.3835066348840055,
          6.326149473155099,
          6.280395838960195,
          6.175867270105761,
          6.156978985585555,
          6.137727054086234,
          5.942799375126701,
          5.720311776607412,
          5.484796933490655,
          5.081404364984463,
          5.043425116919247
         ]
        }
       ],
       "layout": {
        "coloraxis": {
         "colorbar": {
          "ticktext": [
           "1",
           "10",
           "100",
           "1k",
           "10k",
           "100k"
          ],
          "tickvals": [
           0.6931471805599453,
           2.3978952727983707,
           4.61512051684126,
           6.90875477931522,
           9.210440366976517,
           11.51293546492023
          ],
          "title": {
           "text": "Number of Beers (Log Scale)"
          }
         },
         "colorscale": [
          [
           0,
           "#0d0887"
          ],
          [
           0.1111111111111111,
           "#46039f"
          ],
          [
           0.2222222222222222,
           "#7201a8"
          ],
          [
           0.3333333333333333,
           "#9c179e"
          ],
          [
           0.4444444444444444,
           "#bd3786"
          ],
          [
           0.5555555555555556,
           "#d8576b"
          ],
          [
           0.6666666666666666,
           "#ed7953"
          ],
          [
           0.7777777777777778,
           "#fb9f3a"
          ],
          [
           0.8888888888888888,
           "#fdca26"
          ],
          [
           1,
           "#f0f921"
          ]
         ]
        },
        "geo": {
         "center": {},
         "coastlinecolor": "Gray",
         "domain": {
          "x": [
           0,
           1
          ],
          "y": [
           0,
           1
          ]
         },
         "scope": "usa",
         "showcoastlines": true
        },
        "legend": {
         "tracegroupgap": 0
        },
        "margin": {
         "b": 0,
         "l": 0,
         "r": 0,
         "t": 0
        },
        "template": {
         "data": {
          "bar": [
           {
            "error_x": {
             "color": "#2a3f5f"
            },
            "error_y": {
             "color": "#2a3f5f"
            },
            "marker": {
             "line": {
              "color": "#E5ECF6",
              "width": 0.5
             },
             "pattern": {
              "fillmode": "overlay",
              "size": 10,
              "solidity": 0.2
             }
            },
            "type": "bar"
           }
          ],
          "barpolar": [
           {
            "marker": {
             "line": {
              "color": "#E5ECF6",
              "width": 0.5
             },
             "pattern": {
              "fillmode": "overlay",
              "size": 10,
              "solidity": 0.2
             }
            },
            "type": "barpolar"
           }
          ],
          "carpet": [
           {
            "aaxis": {
             "endlinecolor": "#2a3f5f",
             "gridcolor": "white",
             "linecolor": "white",
             "minorgridcolor": "white",
             "startlinecolor": "#2a3f5f"
            },
            "baxis": {
             "endlinecolor": "#2a3f5f",
             "gridcolor": "white",
             "linecolor": "white",
             "minorgridcolor": "white",
             "startlinecolor": "#2a3f5f"
            },
            "type": "carpet"
           }
          ],
          "choropleth": [
           {
            "colorbar": {
             "outlinewidth": 0,
             "ticks": ""
            },
            "type": "choropleth"
           }
          ],
          "contour": [
           {
            "colorbar": {
             "outlinewidth": 0,
             "ticks": ""
            },
            "colorscale": [
             [
              0,
              "#0d0887"
             ],
             [
              0.1111111111111111,
              "#46039f"
             ],
             [
              0.2222222222222222,
              "#7201a8"
             ],
             [
              0.3333333333333333,
              "#9c179e"
             ],
             [
              0.4444444444444444,
              "#bd3786"
             ],
             [
              0.5555555555555556,
              "#d8576b"
             ],
             [
              0.6666666666666666,
              "#ed7953"
             ],
             [
              0.7777777777777778,
              "#fb9f3a"
             ],
             [
              0.8888888888888888,
              "#fdca26"
             ],
             [
              1,
              "#f0f921"
             ]
            ],
            "type": "contour"
           }
          ],
          "contourcarpet": [
           {
            "colorbar": {
             "outlinewidth": 0,
             "ticks": ""
            },
            "type": "contourcarpet"
           }
          ],
          "heatmap": [
           {
            "colorbar": {
             "outlinewidth": 0,
             "ticks": ""
            },
            "colorscale": [
             [
              0,
              "#0d0887"
             ],
             [
              0.1111111111111111,
              "#46039f"
             ],
             [
              0.2222222222222222,
              "#7201a8"
             ],
             [
              0.3333333333333333,
              "#9c179e"
             ],
             [
              0.4444444444444444,
              "#bd3786"
             ],
             [
              0.5555555555555556,
              "#d8576b"
             ],
             [
              0.6666666666666666,
              "#ed7953"
             ],
             [
              0.7777777777777778,
              "#fb9f3a"
             ],
             [
              0.8888888888888888,
              "#fdca26"
             ],
             [
              1,
              "#f0f921"
             ]
            ],
            "type": "heatmap"
           }
          ],
          "heatmapgl": [
           {
            "colorbar": {
             "outlinewidth": 0,
             "ticks": ""
            },
            "colorscale": [
             [
              0,
              "#0d0887"
             ],
             [
              0.1111111111111111,
              "#46039f"
             ],
             [
              0.2222222222222222,
              "#7201a8"
             ],
             [
              0.3333333333333333,
              "#9c179e"
             ],
             [
              0.4444444444444444,
              "#bd3786"
             ],
             [
              0.5555555555555556,
              "#d8576b"
             ],
             [
              0.6666666666666666,
              "#ed7953"
             ],
             [
              0.7777777777777778,
              "#fb9f3a"
             ],
             [
              0.8888888888888888,
              "#fdca26"
             ],
             [
              1,
              "#f0f921"
             ]
            ],
            "type": "heatmapgl"
           }
          ],
          "histogram": [
           {
            "marker": {
             "pattern": {
              "fillmode": "overlay",
              "size": 10,
              "solidity": 0.2
             }
            },
            "type": "histogram"
           }
          ],
          "histogram2d": [
           {
            "colorbar": {
             "outlinewidth": 0,
             "ticks": ""
            },
            "colorscale": [
             [
              0,
              "#0d0887"
             ],
             [
              0.1111111111111111,
              "#46039f"
             ],
             [
              0.2222222222222222,
              "#7201a8"
             ],
             [
              0.3333333333333333,
              "#9c179e"
             ],
             [
              0.4444444444444444,
              "#bd3786"
             ],
             [
              0.5555555555555556,
              "#d8576b"
             ],
             [
              0.6666666666666666,
              "#ed7953"
             ],
             [
              0.7777777777777778,
              "#fb9f3a"
             ],
             [
              0.8888888888888888,
              "#fdca26"
             ],
             [
              1,
              "#f0f921"
             ]
            ],
            "type": "histogram2d"
           }
          ],
          "histogram2dcontour": [
           {
            "colorbar": {
             "outlinewidth": 0,
             "ticks": ""
            },
            "colorscale": [
             [
              0,
              "#0d0887"
             ],
             [
              0.1111111111111111,
              "#46039f"
             ],
             [
              0.2222222222222222,
              "#7201a8"
             ],
             [
              0.3333333333333333,
              "#9c179e"
             ],
             [
              0.4444444444444444,
              "#bd3786"
             ],
             [
              0.5555555555555556,
              "#d8576b"
             ],
             [
              0.6666666666666666,
              "#ed7953"
             ],
             [
              0.7777777777777778,
              "#fb9f3a"
             ],
             [
              0.8888888888888888,
              "#fdca26"
             ],
             [
              1,
              "#f0f921"
             ]
            ],
            "type": "histogram2dcontour"
           }
          ],
          "mesh3d": [
           {
            "colorbar": {
             "outlinewidth": 0,
             "ticks": ""
            },
            "type": "mesh3d"
           }
          ],
          "parcoords": [
           {
            "line": {
             "colorbar": {
              "outlinewidth": 0,
              "ticks": ""
             }
            },
            "type": "parcoords"
           }
          ],
          "pie": [
           {
            "automargin": true,
            "type": "pie"
           }
          ],
          "scatter": [
           {
            "fillpattern": {
             "fillmode": "overlay",
             "size": 10,
             "solidity": 0.2
            },
            "type": "scatter"
           }
          ],
          "scatter3d": [
           {
            "line": {
             "colorbar": {
              "outlinewidth": 0,
              "ticks": ""
             }
            },
            "marker": {
             "colorbar": {
              "outlinewidth": 0,
              "ticks": ""
             }
            },
            "type": "scatter3d"
           }
          ],
          "scattercarpet": [
           {
            "marker": {
             "colorbar": {
              "outlinewidth": 0,
              "ticks": ""
             }
            },
            "type": "scattercarpet"
           }
          ],
          "scattergeo": [
           {
            "marker": {
             "colorbar": {
              "outlinewidth": 0,
              "ticks": ""
             }
            },
            "type": "scattergeo"
           }
          ],
          "scattergl": [
           {
            "marker": {
             "colorbar": {
              "outlinewidth": 0,
              "ticks": ""
             }
            },
            "type": "scattergl"
           }
          ],
          "scattermapbox": [
           {
            "marker": {
             "colorbar": {
              "outlinewidth": 0,
              "ticks": ""
             }
            },
            "type": "scattermapbox"
           }
          ],
          "scatterpolar": [
           {
            "marker": {
             "colorbar": {
              "outlinewidth": 0,
              "ticks": ""
             }
            },
            "type": "scatterpolar"
           }
          ],
          "scatterpolargl": [
           {
            "marker": {
             "colorbar": {
              "outlinewidth": 0,
              "ticks": ""
             }
            },
            "type": "scatterpolargl"
           }
          ],
          "scatterternary": [
           {
            "marker": {
             "colorbar": {
              "outlinewidth": 0,
              "ticks": ""
             }
            },
            "type": "scatterternary"
           }
          ],
          "surface": [
           {
            "colorbar": {
             "outlinewidth": 0,
             "ticks": ""
            },
            "colorscale": [
             [
              0,
              "#0d0887"
             ],
             [
              0.1111111111111111,
              "#46039f"
             ],
             [
              0.2222222222222222,
              "#7201a8"
             ],
             [
              0.3333333333333333,
              "#9c179e"
             ],
             [
              0.4444444444444444,
              "#bd3786"
             ],
             [
              0.5555555555555556,
              "#d8576b"
             ],
             [
              0.6666666666666666,
              "#ed7953"
             ],
             [
              0.7777777777777778,
              "#fb9f3a"
             ],
             [
              0.8888888888888888,
              "#fdca26"
             ],
             [
              1,
              "#f0f921"
             ]
            ],
            "type": "surface"
           }
          ],
          "table": [
           {
            "cells": {
             "fill": {
              "color": "#EBF0F8"
             },
             "line": {
              "color": "white"
             }
            },
            "header": {
             "fill": {
              "color": "#C8D4E3"
             },
             "line": {
              "color": "white"
             }
            },
            "type": "table"
           }
          ]
         },
         "layout": {
          "annotationdefaults": {
           "arrowcolor": "#2a3f5f",
           "arrowhead": 0,
           "arrowwidth": 1
          },
          "autotypenumbers": "strict",
          "coloraxis": {
           "colorbar": {
            "outlinewidth": 0,
            "ticks": ""
           }
          },
          "colorscale": {
           "diverging": [
            [
             0,
             "#8e0152"
            ],
            [
             0.1,
             "#c51b7d"
            ],
            [
             0.2,
             "#de77ae"
            ],
            [
             0.3,
             "#f1b6da"
            ],
            [
             0.4,
             "#fde0ef"
            ],
            [
             0.5,
             "#f7f7f7"
            ],
            [
             0.6,
             "#e6f5d0"
            ],
            [
             0.7,
             "#b8e186"
            ],
            [
             0.8,
             "#7fbc41"
            ],
            [
             0.9,
             "#4d9221"
            ],
            [
             1,
             "#276419"
            ]
           ],
           "sequential": [
            [
             0,
             "#0d0887"
            ],
            [
             0.1111111111111111,
             "#46039f"
            ],
            [
             0.2222222222222222,
             "#7201a8"
            ],
            [
             0.3333333333333333,
             "#9c179e"
            ],
            [
             0.4444444444444444,
             "#bd3786"
            ],
            [
             0.5555555555555556,
             "#d8576b"
            ],
            [
             0.6666666666666666,
             "#ed7953"
            ],
            [
             0.7777777777777778,
             "#fb9f3a"
            ],
            [
             0.8888888888888888,
             "#fdca26"
            ],
            [
             1,
             "#f0f921"
            ]
           ],
           "sequentialminus": [
            [
             0,
             "#0d0887"
            ],
            [
             0.1111111111111111,
             "#46039f"
            ],
            [
             0.2222222222222222,
             "#7201a8"
            ],
            [
             0.3333333333333333,
             "#9c179e"
            ],
            [
             0.4444444444444444,
             "#bd3786"
            ],
            [
             0.5555555555555556,
             "#d8576b"
            ],
            [
             0.6666666666666666,
             "#ed7953"
            ],
            [
             0.7777777777777778,
             "#fb9f3a"
            ],
            [
             0.8888888888888888,
             "#fdca26"
            ],
            [
             1,
             "#f0f921"
            ]
           ]
          },
          "colorway": [
           "#636efa",
           "#EF553B",
           "#00cc96",
           "#ab63fa",
           "#FFA15A",
           "#19d3f3",
           "#FF6692",
           "#B6E880",
           "#FF97FF",
           "#FECB52"
          ],
          "font": {
           "color": "#2a3f5f"
          },
          "geo": {
           "bgcolor": "white",
           "lakecolor": "white",
           "landcolor": "#E5ECF6",
           "showlakes": true,
           "showland": true,
           "subunitcolor": "white"
          },
          "hoverlabel": {
           "align": "left"
          },
          "hovermode": "closest",
          "mapbox": {
           "style": "light"
          },
          "paper_bgcolor": "white",
          "plot_bgcolor": "#E5ECF6",
          "polar": {
           "angularaxis": {
            "gridcolor": "white",
            "linecolor": "white",
            "ticks": ""
           },
           "bgcolor": "#E5ECF6",
           "radialaxis": {
            "gridcolor": "white",
            "linecolor": "white",
            "ticks": ""
           }
          },
          "scene": {
           "xaxis": {
            "backgroundcolor": "#E5ECF6",
            "gridcolor": "white",
            "gridwidth": 2,
            "linecolor": "white",
            "showbackground": true,
            "ticks": "",
            "zerolinecolor": "white"
           },
           "yaxis": {
            "backgroundcolor": "#E5ECF6",
            "gridcolor": "white",
            "gridwidth": 2,
            "linecolor": "white",
            "showbackground": true,
            "ticks": "",
            "zerolinecolor": "white"
           },
           "zaxis": {
            "backgroundcolor": "#E5ECF6",
            "gridcolor": "white",
            "gridwidth": 2,
            "linecolor": "white",
            "showbackground": true,
            "ticks": "",
            "zerolinecolor": "white"
           }
          },
          "shapedefaults": {
           "line": {
            "color": "#2a3f5f"
           }
          },
          "ternary": {
           "aaxis": {
            "gridcolor": "white",
            "linecolor": "white",
            "ticks": ""
           },
           "baxis": {
            "gridcolor": "white",
            "linecolor": "white",
            "ticks": ""
           },
           "bgcolor": "#E5ECF6",
           "caxis": {
            "gridcolor": "white",
            "linecolor": "white",
            "ticks": ""
           }
          },
          "title": {
           "x": 0.05
          },
          "xaxis": {
           "automargin": true,
           "gridcolor": "white",
           "linecolor": "white",
           "ticks": "",
           "title": {
            "standoff": 15
           },
           "zerolinecolor": "white",
           "zerolinewidth": 2
          },
          "yaxis": {
           "automargin": true,
           "gridcolor": "white",
           "linecolor": "white",
           "ticks": "",
           "title": {
            "standoff": 15
           },
           "zerolinecolor": "white",
           "zerolinewidth": 2
          }
         }
        },
        "title": {
         "text": "Number of Beers per State in the US (Log Scale)"
        }
       }
      }
     },
     "metadata": {},
     "output_type": "display_data"
    }
   ],
   "source": [
    "utils_beers.plot_US_map_data(beer_BA)"
   ]
  },
  {
   "cell_type": "code",
   "execution_count": 5,
   "metadata": {},
   "outputs": [
    {
     "data": {
      "application/vnd.plotly.v1+json": {
       "config": {
        "plotlyServerURL": "https://plot.ly"
       },
       "data": [
        {
         "coloraxis": "coloraxis",
         "customdata": [
          [
           22737
          ],
          [
           11832
          ],
          [
           8496
          ],
          [
           7984
          ],
          [
           7573
          ],
          [
           7303
          ],
          [
           7265
          ],
          [
           7216
          ],
          [
           6364
          ],
          [
           6297
          ],
          [
           5746
          ],
          [
           4999
          ],
          [
           4613
          ],
          [
           4547
          ],
          [
           4487
          ],
          [
           4253
          ],
          [
           3674
          ],
          [
           2883
          ],
          [
           2758
          ],
          [
           2684
          ],
          [
           2676
          ],
          [
           2230
          ],
          [
           2187
          ],
          [
           1933
          ],
          [
           1708
          ],
          [
           1635
          ],
          [
           1476
          ],
          [
           1422
          ],
          [
           1376
          ],
          [
           1347
          ],
          [
           1292
          ],
          [
           1165
          ],
          [
           1129
          ],
          [
           1115
          ],
          [
           1006
          ],
          [
           948
          ],
          [
           890
          ],
          [
           825
          ],
          [
           808
          ],
          [
           614
          ],
          [
           608
          ],
          [
           554
          ],
          [
           469
          ],
          [
           448
          ],
          [
           443
          ],
          [
           443
          ],
          [
           368
          ],
          [
           245
          ],
          [
           211
          ],
          [
           207
          ],
          [
           154
          ]
         ],
         "geo": "geo",
         "hovertemplate": "<b>%{hovertext}</b><br><br>state=%{location}<br>beer_count=%{customdata[0]}<br>log_beer_count=%{z}<extra></extra>",
         "hovertext": [
          "CA",
          "CO",
          "PA",
          "NY",
          "WA",
          "OR",
          "MI",
          "IL",
          "FL",
          "OH",
          "VA",
          "NC",
          "IN",
          "MN",
          "WI",
          "TX",
          "MA",
          "MO",
          "MD",
          "NJ",
          "AZ",
          "GA",
          "VT",
          "NH",
          "KY",
          "ID",
          "ME",
          "CT",
          "TN",
          "NV",
          "AK",
          "IA",
          "MT",
          "SC",
          "UT",
          "NM",
          "NE",
          "AL",
          null,
          "KS",
          "DE",
          "WY",
          "OK",
          "RI",
          "WV",
          "LA",
          "HI",
          "AR",
          "SD",
          "ND",
          "MS"
         ],
         "locationmode": "USA-states",
         "locations": [
          "CA",
          "CO",
          "PA",
          "NY",
          "WA",
          "OR",
          "MI",
          "IL",
          "FL",
          "OH",
          "VA",
          "NC",
          "IN",
          "MN",
          "WI",
          "TX",
          "MA",
          "MO",
          "MD",
          "NJ",
          "AZ",
          "GA",
          "VT",
          "NH",
          "KY",
          "ID",
          "ME",
          "CT",
          "TN",
          "NV",
          "AK",
          "IA",
          "MT",
          "SC",
          "UT",
          "NM",
          "NE",
          "AL",
          null,
          "KS",
          "DE",
          "WY",
          "OK",
          "RI",
          "WV",
          "LA",
          "HI",
          "AR",
          "SD",
          "ND",
          "MS"
         ],
         "name": "",
         "type": "choropleth",
         "z": [
          10.031792812689051,
          9.37864751738456,
          9.047468439003541,
          8.985320060649112,
          8.93247660846174,
          8.896177422274805,
          8.890961212781146,
          8.884194633072273,
          8.758569510991506,
          8.74798740166097,
          8.656433258507741,
          8.517193191416238,
          8.4368504387337,
          8.422442854870427,
          8.409162447202533,
          8.355614995760183,
          8.209308411646937,
          7.96693349840484,
          7.922623574217286,
          7.895436006942965,
          7.892452043520352,
          7.7102051944325325,
          7.690743163541872,
          7.56734567601324,
          7.443663683115591,
          7.400009517162692,
          7.29776828253138,
          7.260522598089852,
          7.227662498728654,
          7.206377291472252,
          7.164720378771857,
          7.061334366910438,
          7.029972911706386,
          7.017506142941256,
          6.914730892718563,
          6.855408798609928,
          6.792344427470809,
          6.716594773520978,
          6.695798917058491,
          6.421622267806518,
          6.411818267709897,
          6.318968113746434,
          6.152732694704104,
          6.1070228877422545,
          6.095824562432225,
          6.095824562432225,
          5.910796644040527,
          5.5053315359323625,
          5.356586274672012,
          5.337538079701318,
          5.043425116919247
         ]
        }
       ],
       "layout": {
        "coloraxis": {
         "colorbar": {
          "ticktext": [
           "1",
           "10",
           "100",
           "1k",
           "10k",
           "100k"
          ],
          "tickvals": [
           0.6931471805599453,
           2.3978952727983707,
           4.61512051684126,
           6.90875477931522,
           9.210440366976517,
           11.51293546492023
          ],
          "title": {
           "text": "Number of Beers (Log Scale)"
          }
         },
         "colorscale": [
          [
           0,
           "#0d0887"
          ],
          [
           0.1111111111111111,
           "#46039f"
          ],
          [
           0.2222222222222222,
           "#7201a8"
          ],
          [
           0.3333333333333333,
           "#9c179e"
          ],
          [
           0.4444444444444444,
           "#bd3786"
          ],
          [
           0.5555555555555556,
           "#d8576b"
          ],
          [
           0.6666666666666666,
           "#ed7953"
          ],
          [
           0.7777777777777778,
           "#fb9f3a"
          ],
          [
           0.8888888888888888,
           "#fdca26"
          ],
          [
           1,
           "#f0f921"
          ]
         ]
        },
        "geo": {
         "center": {},
         "coastlinecolor": "Gray",
         "domain": {
          "x": [
           0,
           1
          ],
          "y": [
           0,
           1
          ]
         },
         "scope": "usa",
         "showcoastlines": true
        },
        "legend": {
         "tracegroupgap": 0
        },
        "margin": {
         "b": 0,
         "l": 0,
         "r": 0,
         "t": 0
        },
        "template": {
         "data": {
          "bar": [
           {
            "error_x": {
             "color": "#2a3f5f"
            },
            "error_y": {
             "color": "#2a3f5f"
            },
            "marker": {
             "line": {
              "color": "#E5ECF6",
              "width": 0.5
             },
             "pattern": {
              "fillmode": "overlay",
              "size": 10,
              "solidity": 0.2
             }
            },
            "type": "bar"
           }
          ],
          "barpolar": [
           {
            "marker": {
             "line": {
              "color": "#E5ECF6",
              "width": 0.5
             },
             "pattern": {
              "fillmode": "overlay",
              "size": 10,
              "solidity": 0.2
             }
            },
            "type": "barpolar"
           }
          ],
          "carpet": [
           {
            "aaxis": {
             "endlinecolor": "#2a3f5f",
             "gridcolor": "white",
             "linecolor": "white",
             "minorgridcolor": "white",
             "startlinecolor": "#2a3f5f"
            },
            "baxis": {
             "endlinecolor": "#2a3f5f",
             "gridcolor": "white",
             "linecolor": "white",
             "minorgridcolor": "white",
             "startlinecolor": "#2a3f5f"
            },
            "type": "carpet"
           }
          ],
          "choropleth": [
           {
            "colorbar": {
             "outlinewidth": 0,
             "ticks": ""
            },
            "type": "choropleth"
           }
          ],
          "contour": [
           {
            "colorbar": {
             "outlinewidth": 0,
             "ticks": ""
            },
            "colorscale": [
             [
              0,
              "#0d0887"
             ],
             [
              0.1111111111111111,
              "#46039f"
             ],
             [
              0.2222222222222222,
              "#7201a8"
             ],
             [
              0.3333333333333333,
              "#9c179e"
             ],
             [
              0.4444444444444444,
              "#bd3786"
             ],
             [
              0.5555555555555556,
              "#d8576b"
             ],
             [
              0.6666666666666666,
              "#ed7953"
             ],
             [
              0.7777777777777778,
              "#fb9f3a"
             ],
             [
              0.8888888888888888,
              "#fdca26"
             ],
             [
              1,
              "#f0f921"
             ]
            ],
            "type": "contour"
           }
          ],
          "contourcarpet": [
           {
            "colorbar": {
             "outlinewidth": 0,
             "ticks": ""
            },
            "type": "contourcarpet"
           }
          ],
          "heatmap": [
           {
            "colorbar": {
             "outlinewidth": 0,
             "ticks": ""
            },
            "colorscale": [
             [
              0,
              "#0d0887"
             ],
             [
              0.1111111111111111,
              "#46039f"
             ],
             [
              0.2222222222222222,
              "#7201a8"
             ],
             [
              0.3333333333333333,
              "#9c179e"
             ],
             [
              0.4444444444444444,
              "#bd3786"
             ],
             [
              0.5555555555555556,
              "#d8576b"
             ],
             [
              0.6666666666666666,
              "#ed7953"
             ],
             [
              0.7777777777777778,
              "#fb9f3a"
             ],
             [
              0.8888888888888888,
              "#fdca26"
             ],
             [
              1,
              "#f0f921"
             ]
            ],
            "type": "heatmap"
           }
          ],
          "heatmapgl": [
           {
            "colorbar": {
             "outlinewidth": 0,
             "ticks": ""
            },
            "colorscale": [
             [
              0,
              "#0d0887"
             ],
             [
              0.1111111111111111,
              "#46039f"
             ],
             [
              0.2222222222222222,
              "#7201a8"
             ],
             [
              0.3333333333333333,
              "#9c179e"
             ],
             [
              0.4444444444444444,
              "#bd3786"
             ],
             [
              0.5555555555555556,
              "#d8576b"
             ],
             [
              0.6666666666666666,
              "#ed7953"
             ],
             [
              0.7777777777777778,
              "#fb9f3a"
             ],
             [
              0.8888888888888888,
              "#fdca26"
             ],
             [
              1,
              "#f0f921"
             ]
            ],
            "type": "heatmapgl"
           }
          ],
          "histogram": [
           {
            "marker": {
             "pattern": {
              "fillmode": "overlay",
              "size": 10,
              "solidity": 0.2
             }
            },
            "type": "histogram"
           }
          ],
          "histogram2d": [
           {
            "colorbar": {
             "outlinewidth": 0,
             "ticks": ""
            },
            "colorscale": [
             [
              0,
              "#0d0887"
             ],
             [
              0.1111111111111111,
              "#46039f"
             ],
             [
              0.2222222222222222,
              "#7201a8"
             ],
             [
              0.3333333333333333,
              "#9c179e"
             ],
             [
              0.4444444444444444,
              "#bd3786"
             ],
             [
              0.5555555555555556,
              "#d8576b"
             ],
             [
              0.6666666666666666,
              "#ed7953"
             ],
             [
              0.7777777777777778,
              "#fb9f3a"
             ],
             [
              0.8888888888888888,
              "#fdca26"
             ],
             [
              1,
              "#f0f921"
             ]
            ],
            "type": "histogram2d"
           }
          ],
          "histogram2dcontour": [
           {
            "colorbar": {
             "outlinewidth": 0,
             "ticks": ""
            },
            "colorscale": [
             [
              0,
              "#0d0887"
             ],
             [
              0.1111111111111111,
              "#46039f"
             ],
             [
              0.2222222222222222,
              "#7201a8"
             ],
             [
              0.3333333333333333,
              "#9c179e"
             ],
             [
              0.4444444444444444,
              "#bd3786"
             ],
             [
              0.5555555555555556,
              "#d8576b"
             ],
             [
              0.6666666666666666,
              "#ed7953"
             ],
             [
              0.7777777777777778,
              "#fb9f3a"
             ],
             [
              0.8888888888888888,
              "#fdca26"
             ],
             [
              1,
              "#f0f921"
             ]
            ],
            "type": "histogram2dcontour"
           }
          ],
          "mesh3d": [
           {
            "colorbar": {
             "outlinewidth": 0,
             "ticks": ""
            },
            "type": "mesh3d"
           }
          ],
          "parcoords": [
           {
            "line": {
             "colorbar": {
              "outlinewidth": 0,
              "ticks": ""
             }
            },
            "type": "parcoords"
           }
          ],
          "pie": [
           {
            "automargin": true,
            "type": "pie"
           }
          ],
          "scatter": [
           {
            "fillpattern": {
             "fillmode": "overlay",
             "size": 10,
             "solidity": 0.2
            },
            "type": "scatter"
           }
          ],
          "scatter3d": [
           {
            "line": {
             "colorbar": {
              "outlinewidth": 0,
              "ticks": ""
             }
            },
            "marker": {
             "colorbar": {
              "outlinewidth": 0,
              "ticks": ""
             }
            },
            "type": "scatter3d"
           }
          ],
          "scattercarpet": [
           {
            "marker": {
             "colorbar": {
              "outlinewidth": 0,
              "ticks": ""
             }
            },
            "type": "scattercarpet"
           }
          ],
          "scattergeo": [
           {
            "marker": {
             "colorbar": {
              "outlinewidth": 0,
              "ticks": ""
             }
            },
            "type": "scattergeo"
           }
          ],
          "scattergl": [
           {
            "marker": {
             "colorbar": {
              "outlinewidth": 0,
              "ticks": ""
             }
            },
            "type": "scattergl"
           }
          ],
          "scattermapbox": [
           {
            "marker": {
             "colorbar": {
              "outlinewidth": 0,
              "ticks": ""
             }
            },
            "type": "scattermapbox"
           }
          ],
          "scatterpolar": [
           {
            "marker": {
             "colorbar": {
              "outlinewidth": 0,
              "ticks": ""
             }
            },
            "type": "scatterpolar"
           }
          ],
          "scatterpolargl": [
           {
            "marker": {
             "colorbar": {
              "outlinewidth": 0,
              "ticks": ""
             }
            },
            "type": "scatterpolargl"
           }
          ],
          "scatterternary": [
           {
            "marker": {
             "colorbar": {
              "outlinewidth": 0,
              "ticks": ""
             }
            },
            "type": "scatterternary"
           }
          ],
          "surface": [
           {
            "colorbar": {
             "outlinewidth": 0,
             "ticks": ""
            },
            "colorscale": [
             [
              0,
              "#0d0887"
             ],
             [
              0.1111111111111111,
              "#46039f"
             ],
             [
              0.2222222222222222,
              "#7201a8"
             ],
             [
              0.3333333333333333,
              "#9c179e"
             ],
             [
              0.4444444444444444,
              "#bd3786"
             ],
             [
              0.5555555555555556,
              "#d8576b"
             ],
             [
              0.6666666666666666,
              "#ed7953"
             ],
             [
              0.7777777777777778,
              "#fb9f3a"
             ],
             [
              0.8888888888888888,
              "#fdca26"
             ],
             [
              1,
              "#f0f921"
             ]
            ],
            "type": "surface"
           }
          ],
          "table": [
           {
            "cells": {
             "fill": {
              "color": "#EBF0F8"
             },
             "line": {
              "color": "white"
             }
            },
            "header": {
             "fill": {
              "color": "#C8D4E3"
             },
             "line": {
              "color": "white"
             }
            },
            "type": "table"
           }
          ]
         },
         "layout": {
          "annotationdefaults": {
           "arrowcolor": "#2a3f5f",
           "arrowhead": 0,
           "arrowwidth": 1
          },
          "autotypenumbers": "strict",
          "coloraxis": {
           "colorbar": {
            "outlinewidth": 0,
            "ticks": ""
           }
          },
          "colorscale": {
           "diverging": [
            [
             0,
             "#8e0152"
            ],
            [
             0.1,
             "#c51b7d"
            ],
            [
             0.2,
             "#de77ae"
            ],
            [
             0.3,
             "#f1b6da"
            ],
            [
             0.4,
             "#fde0ef"
            ],
            [
             0.5,
             "#f7f7f7"
            ],
            [
             0.6,
             "#e6f5d0"
            ],
            [
             0.7,
             "#b8e186"
            ],
            [
             0.8,
             "#7fbc41"
            ],
            [
             0.9,
             "#4d9221"
            ],
            [
             1,
             "#276419"
            ]
           ],
           "sequential": [
            [
             0,
             "#0d0887"
            ],
            [
             0.1111111111111111,
             "#46039f"
            ],
            [
             0.2222222222222222,
             "#7201a8"
            ],
            [
             0.3333333333333333,
             "#9c179e"
            ],
            [
             0.4444444444444444,
             "#bd3786"
            ],
            [
             0.5555555555555556,
             "#d8576b"
            ],
            [
             0.6666666666666666,
             "#ed7953"
            ],
            [
             0.7777777777777778,
             "#fb9f3a"
            ],
            [
             0.8888888888888888,
             "#fdca26"
            ],
            [
             1,
             "#f0f921"
            ]
           ],
           "sequentialminus": [
            [
             0,
             "#0d0887"
            ],
            [
             0.1111111111111111,
             "#46039f"
            ],
            [
             0.2222222222222222,
             "#7201a8"
            ],
            [
             0.3333333333333333,
             "#9c179e"
            ],
            [
             0.4444444444444444,
             "#bd3786"
            ],
            [
             0.5555555555555556,
             "#d8576b"
            ],
            [
             0.6666666666666666,
             "#ed7953"
            ],
            [
             0.7777777777777778,
             "#fb9f3a"
            ],
            [
             0.8888888888888888,
             "#fdca26"
            ],
            [
             1,
             "#f0f921"
            ]
           ]
          },
          "colorway": [
           "#636efa",
           "#EF553B",
           "#00cc96",
           "#ab63fa",
           "#FFA15A",
           "#19d3f3",
           "#FF6692",
           "#B6E880",
           "#FF97FF",
           "#FECB52"
          ],
          "font": {
           "color": "#2a3f5f"
          },
          "geo": {
           "bgcolor": "white",
           "lakecolor": "white",
           "landcolor": "#E5ECF6",
           "showlakes": true,
           "showland": true,
           "subunitcolor": "white"
          },
          "hoverlabel": {
           "align": "left"
          },
          "hovermode": "closest",
          "mapbox": {
           "style": "light"
          },
          "paper_bgcolor": "white",
          "plot_bgcolor": "#E5ECF6",
          "polar": {
           "angularaxis": {
            "gridcolor": "white",
            "linecolor": "white",
            "ticks": ""
           },
           "bgcolor": "#E5ECF6",
           "radialaxis": {
            "gridcolor": "white",
            "linecolor": "white",
            "ticks": ""
           }
          },
          "scene": {
           "xaxis": {
            "backgroundcolor": "#E5ECF6",
            "gridcolor": "white",
            "gridwidth": 2,
            "linecolor": "white",
            "showbackground": true,
            "ticks": "",
            "zerolinecolor": "white"
           },
           "yaxis": {
            "backgroundcolor": "#E5ECF6",
            "gridcolor": "white",
            "gridwidth": 2,
            "linecolor": "white",
            "showbackground": true,
            "ticks": "",
            "zerolinecolor": "white"
           },
           "zaxis": {
            "backgroundcolor": "#E5ECF6",
            "gridcolor": "white",
            "gridwidth": 2,
            "linecolor": "white",
            "showbackground": true,
            "ticks": "",
            "zerolinecolor": "white"
           }
          },
          "shapedefaults": {
           "line": {
            "color": "#2a3f5f"
           }
          },
          "ternary": {
           "aaxis": {
            "gridcolor": "white",
            "linecolor": "white",
            "ticks": ""
           },
           "baxis": {
            "gridcolor": "white",
            "linecolor": "white",
            "ticks": ""
           },
           "bgcolor": "#E5ECF6",
           "caxis": {
            "gridcolor": "white",
            "linecolor": "white",
            "ticks": ""
           }
          },
          "title": {
           "x": 0.05
          },
          "xaxis": {
           "automargin": true,
           "gridcolor": "white",
           "linecolor": "white",
           "ticks": "",
           "title": {
            "standoff": 15
           },
           "zerolinecolor": "white",
           "zerolinewidth": 2
          },
          "yaxis": {
           "automargin": true,
           "gridcolor": "white",
           "linecolor": "white",
           "ticks": "",
           "title": {
            "standoff": 15
           },
           "zerolinecolor": "white",
           "zerolinewidth": 2
          }
         }
        },
        "title": {
         "text": "Number of Beers per State in the US (Log Scale)"
        }
       }
      }
     },
     "metadata": {},
     "output_type": "display_data"
    }
   ],
   "source": [
    "utils_beers.plot_US_map_data(beer_RB)"
   ]
  },
  {
   "cell_type": "code",
   "execution_count": 6,
   "metadata": {},
   "outputs": [
    {
     "data": {
      "application/vnd.plotly.v1+json": {
       "config": {
        "plotlyServerURL": "https://plot.ly"
       },
       "data": [
        {
         "coloraxis": "coloraxis",
         "customdata": [
          [
           155290
          ],
          [
           13917
          ],
          [
           9836
          ],
          [
           4829
          ],
          [
           4049
          ],
          [
           2783
          ],
          [
           2377
          ],
          [
           2286
          ],
          [
           2267
          ],
          [
           1601
          ],
          [
           1510
          ],
          [
           1270
          ],
          [
           1223
          ],
          [
           1215
          ],
          [
           1022
          ],
          [
           945
          ],
          [
           877
          ],
          [
           726
          ],
          [
           670
          ],
          [
           630
          ],
          [
           620
          ],
          [
           614
          ],
          [
           472
          ],
          [
           439
          ],
          [
           405
          ],
          [
           233
          ],
          [
           227
          ],
          [
           217
          ],
          [
           207
          ],
          [
           197
          ],
          [
           191
          ],
          [
           186
          ],
          [
           166
          ],
          [
           151
          ],
          [
           149
          ],
          [
           131
          ],
          [
           130
          ],
          [
           127
          ],
          [
           117
          ],
          [
           104
          ],
          [
           100
          ],
          [
           97
          ],
          [
           91
          ],
          [
           86
          ],
          [
           81
          ],
          [
           74
          ],
          [
           72
          ],
          [
           69
          ],
          [
           66
          ],
          [
           65
          ],
          [
           49
          ],
          [
           42
          ],
          [
           42
          ],
          [
           40
          ],
          [
           39
          ],
          [
           37
          ],
          [
           32
          ],
          [
           30
          ],
          [
           27
          ],
          [
           27
          ],
          [
           24
          ],
          [
           23
          ],
          [
           23
          ],
          [
           22
          ],
          [
           22
          ],
          [
           20
          ],
          [
           20
          ],
          [
           18
          ],
          [
           18
          ],
          [
           17
          ],
          [
           17
          ],
          [
           16
          ],
          [
           15
          ],
          [
           15
          ],
          [
           15
          ],
          [
           14
          ],
          [
           12
          ],
          [
           12
          ],
          [
           12
          ],
          [
           12
          ],
          [
           12
          ],
          [
           11
          ],
          [
           11
          ],
          [
           11
          ],
          [
           10
          ],
          [
           10
          ],
          [
           9
          ],
          [
           9
          ],
          [
           9
          ],
          [
           9
          ],
          [
           8
          ],
          [
           8
          ],
          [
           8
          ],
          [
           7
          ],
          [
           7
          ],
          [
           7
          ],
          [
           7
          ],
          [
           7
          ],
          [
           6
          ],
          [
           6
          ],
          [
           6
          ],
          [
           6
          ],
          [
           5
          ],
          [
           5
          ],
          [
           5
          ],
          [
           5
          ],
          [
           5
          ],
          [
           5
          ],
          [
           5
          ],
          [
           5
          ],
          [
           5
          ],
          [
           5
          ],
          [
           5
          ],
          [
           5
          ],
          [
           5
          ],
          [
           4
          ],
          [
           4
          ],
          [
           4
          ],
          [
           4
          ],
          [
           4
          ],
          [
           4
          ],
          [
           4
          ],
          [
           4
          ],
          [
           3
          ],
          [
           3
          ],
          [
           3
          ],
          [
           3
          ],
          [
           3
          ],
          [
           2
          ],
          [
           2
          ],
          [
           2
          ],
          [
           2
          ],
          [
           2
          ],
          [
           2
          ],
          [
           2
          ],
          [
           2
          ],
          [
           2
          ],
          [
           2
          ],
          [
           1
          ],
          [
           1
          ],
          [
           1
          ],
          [
           1
          ],
          [
           1
          ],
          [
           1
          ],
          [
           1
          ],
          [
           1
          ],
          [
           1
          ],
          [
           1
          ],
          [
           1
          ],
          [
           1
          ],
          [
           1
          ],
          [
           1
          ],
          [
           1
          ],
          [
           1
          ],
          [
           1
          ],
          [
           1
          ],
          [
           1
          ]
         ],
         "geo": "geo",
         "hovertemplate": "<b>%{hovertext}</b><br><br>iso_alpha3=%{location}<br>beer_count=%{customdata[0]}<br>log_beer_count=%{z}<extra></extra>",
         "hovertext": [
          "United States",
          "Canada",
          "United Kingdom",
          "Germany",
          "Belgium",
          "Australia",
          "Netherlands",
          "Sweden",
          "Denmark",
          "Italy",
          "France",
          "Japan",
          "Spain",
          "Russia",
          "Brazil",
          "Poland",
          "New Zealand",
          "Czech Republic",
          "Ireland",
          "Mexico",
          "Norway",
          "Austria",
          "Finland",
          "Switzerland",
          "Lithuania",
          "China",
          "Argentina",
          "Estonia",
          "Ukraine",
          "Romania",
          "Portugal",
          "Hungary",
          "South Africa",
          "Greece",
          "Chile",
          "South Korea",
          "Israel",
          "Iceland",
          "Latvia",
          "Philippines",
          "Serbia",
          "India",
          "Bulgaria",
          "Costa Rica",
          "Slovenia",
          "Croatia",
          "Singapore",
          "Colombia",
          "Peru",
          "Belarus",
          "Luxembourg",
          "Puerto Rico",
          "Cambodia",
          "Thailand",
          "Hong Kong",
          "Panama",
          "Kazakhstan",
          "Ecuador",
          "Malta",
          "Isle of Man",
          "Guatemala",
          "Armenia",
          "Lebanon",
          "Jersey",
          "Indonesia",
          "Bahamas",
          "Bosnia and Herzegovina",
          "Jamaica",
          "Sri Lanka",
          "Georgia",
          "Nepal",
          "Ethiopia",
          "Barbados",
          "Faroe Islands",
          "El Salvador",
          "Egypt",
          "Kenya",
          "Uruguay",
          "Nicaragua",
          "Algeria",
          "Albania",
          "Cuba",
          "Namibia",
          "Liechtenstein",
          "Jordan",
          "Cyprus",
          "Andorra",
          "Myanmar",
          "Dominican Republic",
          "Guernsey",
          "Cayman Islands",
          "Belize",
          "Greenland",
          "Turks and Caicos Islands",
          "Saint Lucia",
          "Madagascar",
          "Azerbaijan",
          "Zimbabwe",
          "Uganda",
          "San Marino",
          "Mongolia",
          "Bhutan",
          "Nigeria",
          "Honduras",
          "Guam",
          "Congo",
          "Mauritius",
          "Bermuda",
          "Grenada",
          "Palau",
          "Vanuatu",
          "Uzbekistan",
          "Ghana",
          "New Caledonia",
          "Mozambique",
          "Montenegro",
          "Monaco",
          "French Polynesia",
          "Morocco",
          "Papua New Guinea",
          "Suriname",
          "Curaçao",
          "Malaysia",
          "Pakistan",
          "Aruba",
          "Zambia",
          "Benin",
          "Samoa",
          "Bangladesh",
          "Eritrea",
          "Burkina Faso",
          "Cameroon",
          "Senegal",
          "Gambia",
          "Solomon Islands",
          "Angola",
          "Saint Vincent and The Grenadines",
          "Martinique",
          "Gabon",
          "Togo",
          "Botswana",
          "Cook Islands",
          "Turkmenistan",
          "Lesotho",
          "Guadeloupe",
          "Haiti",
          "Rwanda",
          "South Sudan",
          "Equatorial Guinea",
          "Tajikistan",
          "French Guiana",
          "Tonga",
          "Iraq",
          "Paraguay",
          "Seychelles",
          "Dominica",
          "Malawi"
         ],
         "locationmode": "ISO-3",
         "locations": [
          "USA",
          "CAN",
          "GBR",
          "DEU",
          "BEL",
          "AUS",
          "NLD",
          "SWE",
          "DNK",
          "ITA",
          "FRA",
          "JPN",
          "ESP",
          "RUS",
          "BRA",
          "POL",
          "NZL",
          "CZE",
          "IRL",
          "MEX",
          "NOR",
          "AUT",
          "FIN",
          "CHE",
          "LTU",
          "CHN",
          "ARG",
          "EST",
          "UKR",
          "ROU",
          "PRT",
          "HUN",
          "ZAF",
          "GRC",
          "CHL",
          "KOR",
          "ISR",
          "ISL",
          "LVA",
          "PHL",
          "SRB",
          "IND",
          "BGR",
          "CRI",
          "SVN",
          "HRV",
          "SGP",
          "COL",
          "PER",
          "BLR",
          "LUX",
          "PRI",
          "KHM",
          "THA",
          "HKG",
          "PAN",
          "KAZ",
          "ECU",
          "MLT",
          "IMN",
          "GTM",
          "ARM",
          "LBN",
          "JEY",
          "IDN",
          "BHS",
          "BIH",
          "JAM",
          "LKA",
          "GEO",
          "NPL",
          "ETH",
          "BRB",
          "FRO",
          "SLV",
          "EGY",
          "KEN",
          "URY",
          "NIC",
          "DZA",
          "ALB",
          "CUB",
          "NAM",
          "LIE",
          "JOR",
          "CYP",
          "AND",
          "MMR",
          "DOM",
          "GGY",
          "CYM",
          "BLZ",
          "GRL",
          "TCA",
          "LCA",
          "MDG",
          "AZE",
          "ZWE",
          "UGA",
          "SMR",
          "MNG",
          "BTN",
          "NGA",
          "HND",
          "GUM",
          "COG",
          "MUS",
          "BMU",
          "GRD",
          "PLW",
          "VUT",
          "UZB",
          "GHA",
          "NCL",
          "MOZ",
          "MNE",
          "MCO",
          "PYF",
          "MAR",
          "PNG",
          "SUR",
          "CUW",
          "MYS",
          "PAK",
          "ABW",
          "ZMB",
          "BEN",
          "WSM",
          "BGD",
          "ERI",
          "BFA",
          "CMR",
          "SEN",
          "GMB",
          "SLB",
          "AGO",
          "VCT",
          "MTQ",
          "GAB",
          "TGO",
          "BWA",
          "COK",
          "TKM",
          "LSO",
          "GLP",
          "HTI",
          "RWA",
          "SSD",
          "GNQ",
          "TJK",
          "GUF",
          "TON",
          "IRQ",
          "PRY",
          "SYC",
          "DMA",
          "MWI"
         ],
         "name": "",
         "type": "choropleth",
         "z": [
          11.953056055107186,
          9.540938245404796,
          9.193906065512758,
          8.482601746646619,
          8.306472160100585,
          7.931644021454311,
          7.774015077250727,
          7.734996194022781,
          7.7266536648476425,
          7.379008127628304,
          7.32052696227274,
          7.147559271189454,
          7.1098794630722715,
          7.103322062526113,
          6.930494765951626,
          6.852242569051878,
          6.777646593635117,
          6.588926477533519,
          6.508769136971682,
          6.447305862541213,
          6.431331081933479,
          6.421622267806518,
          6.159095388491933,
          6.0867747269123065,
          6.0063531596017325,
          5.455321115357702,
          5.429345628954441,
          5.384495062789089,
          5.337538079701318,
          5.288267030694535,
          5.2574953720277815,
          5.231108616854587,
          5.117993812416755,
          5.0238805208462765,
          5.0106352940962555,
          4.882801922586371,
          4.875197323201151,
          4.852030263919617,
          4.770684624465665,
          4.653960350157523,
          4.61512051684126,
          4.584967478670572,
          4.5217885770490405,
          4.465908118654584,
          4.406719247264253,
          4.31748811353631,
          4.290459441148391,
          4.248495242049359,
          4.204692619390966,
          4.189654742026425,
          3.912023005428146,
          3.7612001156935624,
          3.7612001156935624,
          3.713572066704308,
          3.6888794541139363,
          3.6375861597263857,
          3.4965075614664802,
          3.4339872044851463,
          3.332204510175204,
          3.332204510175204,
          3.2188758248682006,
          3.1780538303479458,
          3.1780538303479458,
          3.1354942159291497,
          3.1354942159291497,
          3.044522437723423,
          3.044522437723423,
          2.9444389791664403,
          2.9444389791664403,
          2.8903717578961645,
          2.8903717578961645,
          2.833213344056216,
          2.772588722239781,
          2.772588722239781,
          2.772588722239781,
          2.70805020110221,
          2.5649493574615367,
          2.5649493574615367,
          2.5649493574615367,
          2.5649493574615367,
          2.5649493574615367,
          2.4849066497880004,
          2.4849066497880004,
          2.4849066497880004,
          2.3978952727983707,
          2.3978952727983707,
          2.302585092994046,
          2.302585092994046,
          2.302585092994046,
          2.302585092994046,
          2.1972245773362196,
          2.1972245773362196,
          2.1972245773362196,
          2.0794415416798357,
          2.0794415416798357,
          2.0794415416798357,
          2.0794415416798357,
          2.0794415416798357,
          1.9459101490553132,
          1.9459101490553132,
          1.9459101490553132,
          1.9459101490553132,
          1.791759469228055,
          1.791759469228055,
          1.791759469228055,
          1.791759469228055,
          1.791759469228055,
          1.791759469228055,
          1.791759469228055,
          1.791759469228055,
          1.791759469228055,
          1.791759469228055,
          1.791759469228055,
          1.791759469228055,
          1.791759469228055,
          1.6094379124341003,
          1.6094379124341003,
          1.6094379124341003,
          1.6094379124341003,
          1.6094379124341003,
          1.6094379124341003,
          1.6094379124341003,
          1.6094379124341003,
          1.3862943611198906,
          1.3862943611198906,
          1.3862943611198906,
          1.3862943611198906,
          1.3862943611198906,
          1.0986122886681098,
          1.0986122886681098,
          1.0986122886681098,
          1.0986122886681098,
          1.0986122886681098,
          1.0986122886681098,
          1.0986122886681098,
          1.0986122886681098,
          1.0986122886681098,
          1.0986122886681098,
          0.6931471805599453,
          0.6931471805599453,
          0.6931471805599453,
          0.6931471805599453,
          0.6931471805599453,
          0.6931471805599453,
          0.6931471805599453,
          0.6931471805599453,
          0.6931471805599453,
          0.6931471805599453,
          0.6931471805599453,
          0.6931471805599453,
          0.6931471805599453,
          0.6931471805599453,
          0.6931471805599453,
          0.6931471805599453,
          0.6931471805599453,
          0.6931471805599453,
          0.6931471805599453
         ]
        }
       ],
       "layout": {
        "coloraxis": {
         "colorbar": {
          "ticktext": [
           "1",
           "10",
           "100",
           "1k",
           "10k",
           "100k"
          ],
          "tickvals": [
           0.6931471805599453,
           2.3978952727983707,
           4.61512051684126,
           6.90875477931522,
           9.210440366976517,
           11.51293546492023
          ],
          "title": {
           "text": "Number of Beers (Log Scale)"
          }
         },
         "colorscale": [
          [
           0,
           "#0d0887"
          ],
          [
           0.1111111111111111,
           "#46039f"
          ],
          [
           0.2222222222222222,
           "#7201a8"
          ],
          [
           0.3333333333333333,
           "#9c179e"
          ],
          [
           0.4444444444444444,
           "#bd3786"
          ],
          [
           0.5555555555555556,
           "#d8576b"
          ],
          [
           0.6666666666666666,
           "#ed7953"
          ],
          [
           0.7777777777777778,
           "#fb9f3a"
          ],
          [
           0.8888888888888888,
           "#fdca26"
          ],
          [
           1,
           "#f0f921"
          ]
         ]
        },
        "geo": {
         "center": {},
         "coastlinecolor": "Gray",
         "domain": {
          "x": [
           0,
           1
          ],
          "y": [
           0,
           1
          ]
         },
         "showcoastlines": true
        },
        "legend": {
         "tracegroupgap": 0
        },
        "margin": {
         "b": 0,
         "l": 0,
         "r": 0,
         "t": 0
        },
        "template": {
         "data": {
          "bar": [
           {
            "error_x": {
             "color": "#2a3f5f"
            },
            "error_y": {
             "color": "#2a3f5f"
            },
            "marker": {
             "line": {
              "color": "#E5ECF6",
              "width": 0.5
             },
             "pattern": {
              "fillmode": "overlay",
              "size": 10,
              "solidity": 0.2
             }
            },
            "type": "bar"
           }
          ],
          "barpolar": [
           {
            "marker": {
             "line": {
              "color": "#E5ECF6",
              "width": 0.5
             },
             "pattern": {
              "fillmode": "overlay",
              "size": 10,
              "solidity": 0.2
             }
            },
            "type": "barpolar"
           }
          ],
          "carpet": [
           {
            "aaxis": {
             "endlinecolor": "#2a3f5f",
             "gridcolor": "white",
             "linecolor": "white",
             "minorgridcolor": "white",
             "startlinecolor": "#2a3f5f"
            },
            "baxis": {
             "endlinecolor": "#2a3f5f",
             "gridcolor": "white",
             "linecolor": "white",
             "minorgridcolor": "white",
             "startlinecolor": "#2a3f5f"
            },
            "type": "carpet"
           }
          ],
          "choropleth": [
           {
            "colorbar": {
             "outlinewidth": 0,
             "ticks": ""
            },
            "type": "choropleth"
           }
          ],
          "contour": [
           {
            "colorbar": {
             "outlinewidth": 0,
             "ticks": ""
            },
            "colorscale": [
             [
              0,
              "#0d0887"
             ],
             [
              0.1111111111111111,
              "#46039f"
             ],
             [
              0.2222222222222222,
              "#7201a8"
             ],
             [
              0.3333333333333333,
              "#9c179e"
             ],
             [
              0.4444444444444444,
              "#bd3786"
             ],
             [
              0.5555555555555556,
              "#d8576b"
             ],
             [
              0.6666666666666666,
              "#ed7953"
             ],
             [
              0.7777777777777778,
              "#fb9f3a"
             ],
             [
              0.8888888888888888,
              "#fdca26"
             ],
             [
              1,
              "#f0f921"
             ]
            ],
            "type": "contour"
           }
          ],
          "contourcarpet": [
           {
            "colorbar": {
             "outlinewidth": 0,
             "ticks": ""
            },
            "type": "contourcarpet"
           }
          ],
          "heatmap": [
           {
            "colorbar": {
             "outlinewidth": 0,
             "ticks": ""
            },
            "colorscale": [
             [
              0,
              "#0d0887"
             ],
             [
              0.1111111111111111,
              "#46039f"
             ],
             [
              0.2222222222222222,
              "#7201a8"
             ],
             [
              0.3333333333333333,
              "#9c179e"
             ],
             [
              0.4444444444444444,
              "#bd3786"
             ],
             [
              0.5555555555555556,
              "#d8576b"
             ],
             [
              0.6666666666666666,
              "#ed7953"
             ],
             [
              0.7777777777777778,
              "#fb9f3a"
             ],
             [
              0.8888888888888888,
              "#fdca26"
             ],
             [
              1,
              "#f0f921"
             ]
            ],
            "type": "heatmap"
           }
          ],
          "heatmapgl": [
           {
            "colorbar": {
             "outlinewidth": 0,
             "ticks": ""
            },
            "colorscale": [
             [
              0,
              "#0d0887"
             ],
             [
              0.1111111111111111,
              "#46039f"
             ],
             [
              0.2222222222222222,
              "#7201a8"
             ],
             [
              0.3333333333333333,
              "#9c179e"
             ],
             [
              0.4444444444444444,
              "#bd3786"
             ],
             [
              0.5555555555555556,
              "#d8576b"
             ],
             [
              0.6666666666666666,
              "#ed7953"
             ],
             [
              0.7777777777777778,
              "#fb9f3a"
             ],
             [
              0.8888888888888888,
              "#fdca26"
             ],
             [
              1,
              "#f0f921"
             ]
            ],
            "type": "heatmapgl"
           }
          ],
          "histogram": [
           {
            "marker": {
             "pattern": {
              "fillmode": "overlay",
              "size": 10,
              "solidity": 0.2
             }
            },
            "type": "histogram"
           }
          ],
          "histogram2d": [
           {
            "colorbar": {
             "outlinewidth": 0,
             "ticks": ""
            },
            "colorscale": [
             [
              0,
              "#0d0887"
             ],
             [
              0.1111111111111111,
              "#46039f"
             ],
             [
              0.2222222222222222,
              "#7201a8"
             ],
             [
              0.3333333333333333,
              "#9c179e"
             ],
             [
              0.4444444444444444,
              "#bd3786"
             ],
             [
              0.5555555555555556,
              "#d8576b"
             ],
             [
              0.6666666666666666,
              "#ed7953"
             ],
             [
              0.7777777777777778,
              "#fb9f3a"
             ],
             [
              0.8888888888888888,
              "#fdca26"
             ],
             [
              1,
              "#f0f921"
             ]
            ],
            "type": "histogram2d"
           }
          ],
          "histogram2dcontour": [
           {
            "colorbar": {
             "outlinewidth": 0,
             "ticks": ""
            },
            "colorscale": [
             [
              0,
              "#0d0887"
             ],
             [
              0.1111111111111111,
              "#46039f"
             ],
             [
              0.2222222222222222,
              "#7201a8"
             ],
             [
              0.3333333333333333,
              "#9c179e"
             ],
             [
              0.4444444444444444,
              "#bd3786"
             ],
             [
              0.5555555555555556,
              "#d8576b"
             ],
             [
              0.6666666666666666,
              "#ed7953"
             ],
             [
              0.7777777777777778,
              "#fb9f3a"
             ],
             [
              0.8888888888888888,
              "#fdca26"
             ],
             [
              1,
              "#f0f921"
             ]
            ],
            "type": "histogram2dcontour"
           }
          ],
          "mesh3d": [
           {
            "colorbar": {
             "outlinewidth": 0,
             "ticks": ""
            },
            "type": "mesh3d"
           }
          ],
          "parcoords": [
           {
            "line": {
             "colorbar": {
              "outlinewidth": 0,
              "ticks": ""
             }
            },
            "type": "parcoords"
           }
          ],
          "pie": [
           {
            "automargin": true,
            "type": "pie"
           }
          ],
          "scatter": [
           {
            "fillpattern": {
             "fillmode": "overlay",
             "size": 10,
             "solidity": 0.2
            },
            "type": "scatter"
           }
          ],
          "scatter3d": [
           {
            "line": {
             "colorbar": {
              "outlinewidth": 0,
              "ticks": ""
             }
            },
            "marker": {
             "colorbar": {
              "outlinewidth": 0,
              "ticks": ""
             }
            },
            "type": "scatter3d"
           }
          ],
          "scattercarpet": [
           {
            "marker": {
             "colorbar": {
              "outlinewidth": 0,
              "ticks": ""
             }
            },
            "type": "scattercarpet"
           }
          ],
          "scattergeo": [
           {
            "marker": {
             "colorbar": {
              "outlinewidth": 0,
              "ticks": ""
             }
            },
            "type": "scattergeo"
           }
          ],
          "scattergl": [
           {
            "marker": {
             "colorbar": {
              "outlinewidth": 0,
              "ticks": ""
             }
            },
            "type": "scattergl"
           }
          ],
          "scattermapbox": [
           {
            "marker": {
             "colorbar": {
              "outlinewidth": 0,
              "ticks": ""
             }
            },
            "type": "scattermapbox"
           }
          ],
          "scatterpolar": [
           {
            "marker": {
             "colorbar": {
              "outlinewidth": 0,
              "ticks": ""
             }
            },
            "type": "scatterpolar"
           }
          ],
          "scatterpolargl": [
           {
            "marker": {
             "colorbar": {
              "outlinewidth": 0,
              "ticks": ""
             }
            },
            "type": "scatterpolargl"
           }
          ],
          "scatterternary": [
           {
            "marker": {
             "colorbar": {
              "outlinewidth": 0,
              "ticks": ""
             }
            },
            "type": "scatterternary"
           }
          ],
          "surface": [
           {
            "colorbar": {
             "outlinewidth": 0,
             "ticks": ""
            },
            "colorscale": [
             [
              0,
              "#0d0887"
             ],
             [
              0.1111111111111111,
              "#46039f"
             ],
             [
              0.2222222222222222,
              "#7201a8"
             ],
             [
              0.3333333333333333,
              "#9c179e"
             ],
             [
              0.4444444444444444,
              "#bd3786"
             ],
             [
              0.5555555555555556,
              "#d8576b"
             ],
             [
              0.6666666666666666,
              "#ed7953"
             ],
             [
              0.7777777777777778,
              "#fb9f3a"
             ],
             [
              0.8888888888888888,
              "#fdca26"
             ],
             [
              1,
              "#f0f921"
             ]
            ],
            "type": "surface"
           }
          ],
          "table": [
           {
            "cells": {
             "fill": {
              "color": "#EBF0F8"
             },
             "line": {
              "color": "white"
             }
            },
            "header": {
             "fill": {
              "color": "#C8D4E3"
             },
             "line": {
              "color": "white"
             }
            },
            "type": "table"
           }
          ]
         },
         "layout": {
          "annotationdefaults": {
           "arrowcolor": "#2a3f5f",
           "arrowhead": 0,
           "arrowwidth": 1
          },
          "autotypenumbers": "strict",
          "coloraxis": {
           "colorbar": {
            "outlinewidth": 0,
            "ticks": ""
           }
          },
          "colorscale": {
           "diverging": [
            [
             0,
             "#8e0152"
            ],
            [
             0.1,
             "#c51b7d"
            ],
            [
             0.2,
             "#de77ae"
            ],
            [
             0.3,
             "#f1b6da"
            ],
            [
             0.4,
             "#fde0ef"
            ],
            [
             0.5,
             "#f7f7f7"
            ],
            [
             0.6,
             "#e6f5d0"
            ],
            [
             0.7,
             "#b8e186"
            ],
            [
             0.8,
             "#7fbc41"
            ],
            [
             0.9,
             "#4d9221"
            ],
            [
             1,
             "#276419"
            ]
           ],
           "sequential": [
            [
             0,
             "#0d0887"
            ],
            [
             0.1111111111111111,
             "#46039f"
            ],
            [
             0.2222222222222222,
             "#7201a8"
            ],
            [
             0.3333333333333333,
             "#9c179e"
            ],
            [
             0.4444444444444444,
             "#bd3786"
            ],
            [
             0.5555555555555556,
             "#d8576b"
            ],
            [
             0.6666666666666666,
             "#ed7953"
            ],
            [
             0.7777777777777778,
             "#fb9f3a"
            ],
            [
             0.8888888888888888,
             "#fdca26"
            ],
            [
             1,
             "#f0f921"
            ]
           ],
           "sequentialminus": [
            [
             0,
             "#0d0887"
            ],
            [
             0.1111111111111111,
             "#46039f"
            ],
            [
             0.2222222222222222,
             "#7201a8"
            ],
            [
             0.3333333333333333,
             "#9c179e"
            ],
            [
             0.4444444444444444,
             "#bd3786"
            ],
            [
             0.5555555555555556,
             "#d8576b"
            ],
            [
             0.6666666666666666,
             "#ed7953"
            ],
            [
             0.7777777777777778,
             "#fb9f3a"
            ],
            [
             0.8888888888888888,
             "#fdca26"
            ],
            [
             1,
             "#f0f921"
            ]
           ]
          },
          "colorway": [
           "#636efa",
           "#EF553B",
           "#00cc96",
           "#ab63fa",
           "#FFA15A",
           "#19d3f3",
           "#FF6692",
           "#B6E880",
           "#FF97FF",
           "#FECB52"
          ],
          "font": {
           "color": "#2a3f5f"
          },
          "geo": {
           "bgcolor": "white",
           "lakecolor": "white",
           "landcolor": "#E5ECF6",
           "showlakes": true,
           "showland": true,
           "subunitcolor": "white"
          },
          "hoverlabel": {
           "align": "left"
          },
          "hovermode": "closest",
          "mapbox": {
           "style": "light"
          },
          "paper_bgcolor": "white",
          "plot_bgcolor": "#E5ECF6",
          "polar": {
           "angularaxis": {
            "gridcolor": "white",
            "linecolor": "white",
            "ticks": ""
           },
           "bgcolor": "#E5ECF6",
           "radialaxis": {
            "gridcolor": "white",
            "linecolor": "white",
            "ticks": ""
           }
          },
          "scene": {
           "xaxis": {
            "backgroundcolor": "#E5ECF6",
            "gridcolor": "white",
            "gridwidth": 2,
            "linecolor": "white",
            "showbackground": true,
            "ticks": "",
            "zerolinecolor": "white"
           },
           "yaxis": {
            "backgroundcolor": "#E5ECF6",
            "gridcolor": "white",
            "gridwidth": 2,
            "linecolor": "white",
            "showbackground": true,
            "ticks": "",
            "zerolinecolor": "white"
           },
           "zaxis": {
            "backgroundcolor": "#E5ECF6",
            "gridcolor": "white",
            "gridwidth": 2,
            "linecolor": "white",
            "showbackground": true,
            "ticks": "",
            "zerolinecolor": "white"
           }
          },
          "shapedefaults": {
           "line": {
            "color": "#2a3f5f"
           }
          },
          "ternary": {
           "aaxis": {
            "gridcolor": "white",
            "linecolor": "white",
            "ticks": ""
           },
           "baxis": {
            "gridcolor": "white",
            "linecolor": "white",
            "ticks": ""
           },
           "bgcolor": "#E5ECF6",
           "caxis": {
            "gridcolor": "white",
            "linecolor": "white",
            "ticks": ""
           }
          },
          "title": {
           "x": 0.05
          },
          "xaxis": {
           "automargin": true,
           "gridcolor": "white",
           "linecolor": "white",
           "ticks": "",
           "title": {
            "standoff": 15
           },
           "zerolinecolor": "white",
           "zerolinewidth": 2
          },
          "yaxis": {
           "automargin": true,
           "gridcolor": "white",
           "linecolor": "white",
           "ticks": "",
           "title": {
            "standoff": 15
           },
           "zerolinecolor": "white",
           "zerolinewidth": 2
          }
         }
        },
        "title": {
         "text": "Number of Beers per Country (Log Scale)"
        }
       }
      }
     },
     "metadata": {},
     "output_type": "display_data"
    }
   ],
   "source": [
    "utils_beers.plot_world_map_data(beer_BA)"
   ]
  },
  {
   "cell_type": "code",
   "execution_count": 7,
   "metadata": {},
   "outputs": [
    {
     "data": {
      "application/vnd.plotly.v1+json": {
       "config": {
        "plotlyServerURL": "https://plot.ly"
       },
       "data": [
        {
         "coloraxis": "coloraxis",
         "customdata": [
          [
           165643
          ],
          [
           51858
          ],
          [
           20544
          ],
          [
           17755
          ],
          [
           7839
          ],
          [
           6621
          ],
          [
           6613
          ],
          [
           6467
          ],
          [
           6325
          ],
          [
           6003
          ],
          [
           5352
          ],
          [
           5209
          ],
          [
           4764
          ],
          [
           4312
          ],
          [
           4247
          ],
          [
           4159
          ],
          [
           3867
          ],
          [
           3059
          ],
          [
           2916
          ],
          [
           2417
          ],
          [
           2004
          ],
          [
           1438
          ],
          [
           1235
          ],
          [
           1208
          ],
          [
           1054
          ],
          [
           1017
          ],
          [
           993
          ],
          [
           966
          ],
          [
           857
          ],
          [
           825
          ],
          [
           690
          ],
          [
           565
          ],
          [
           537
          ],
          [
           525
          ],
          [
           513
          ],
          [
           466
          ],
          [
           399
          ],
          [
           386
          ],
          [
           375
          ],
          [
           334
          ],
          [
           289
          ],
          [
           278
          ],
          [
           265
          ],
          [
           264
          ],
          [
           261
          ],
          [
           223
          ],
          [
           205
          ],
          [
           166
          ],
          [
           156
          ],
          [
           129
          ],
          [
           124
          ],
          [
           119
          ],
          [
           117
          ],
          [
           114
          ],
          [
           93
          ],
          [
           88
          ],
          [
           87
          ],
          [
           79
          ],
          [
           78
          ],
          [
           68
          ],
          [
           57
          ],
          [
           45
          ],
          [
           45
          ],
          [
           44
          ],
          [
           43
          ],
          [
           42
          ],
          [
           41
          ],
          [
           37
          ],
          [
           36
          ],
          [
           33
          ],
          [
           32
          ],
          [
           32
          ],
          [
           31
          ],
          [
           29
          ],
          [
           28
          ],
          [
           27
          ],
          [
           26
          ],
          [
           25
          ],
          [
           24
          ],
          [
           23
          ],
          [
           23
          ],
          [
           21
          ],
          [
           21
          ],
          [
           20
          ],
          [
           20
          ],
          [
           20
          ],
          [
           20
          ],
          [
           19
          ],
          [
           18
          ],
          [
           17
          ],
          [
           17
          ],
          [
           17
          ],
          [
           17
          ],
          [
           16
          ],
          [
           16
          ],
          [
           16
          ],
          [
           15
          ],
          [
           15
          ],
          [
           15
          ],
          [
           15
          ],
          [
           14
          ],
          [
           14
          ],
          [
           13
          ],
          [
           13
          ],
          [
           13
          ],
          [
           11
          ],
          [
           11
          ],
          [
           11
          ],
          [
           10
          ],
          [
           10
          ],
          [
           10
          ],
          [
           10
          ],
          [
           9
          ],
          [
           9
          ],
          [
           9
          ],
          [
           9
          ],
          [
           9
          ],
          [
           9
          ],
          [
           8
          ],
          [
           8
          ],
          [
           7
          ],
          [
           7
          ],
          [
           7
          ],
          [
           7
          ],
          [
           7
          ],
          [
           6
          ],
          [
           6
          ],
          [
           6
          ],
          [
           5
          ],
          [
           5
          ],
          [
           5
          ],
          [
           5
          ],
          [
           5
          ],
          [
           4
          ],
          [
           4
          ],
          [
           4
          ],
          [
           4
          ],
          [
           4
          ],
          [
           4
          ],
          [
           4
          ],
          [
           4
          ],
          [
           4
          ],
          [
           3
          ],
          [
           3
          ],
          [
           3
          ],
          [
           3
          ],
          [
           3
          ],
          [
           3
          ],
          [
           3
          ],
          [
           3
          ],
          [
           3
          ],
          [
           3
          ],
          [
           3
          ],
          [
           2
          ],
          [
           2
          ],
          [
           2
          ],
          [
           2
          ],
          [
           2
          ],
          [
           2
          ],
          [
           2
          ],
          [
           2
          ],
          [
           2
          ],
          [
           2
          ],
          [
           2
          ],
          [
           1
          ],
          [
           1
          ],
          [
           1
          ],
          [
           1
          ],
          [
           1
          ],
          [
           1
          ],
          [
           1
          ],
          [
           1
          ],
          [
           1
          ],
          [
           1
          ]
         ],
         "geo": "geo",
         "hovertemplate": "<b>%{hovertext}</b><br><br>iso_alpha3=%{location}<br>beer_count=%{customdata[0]}<br>log_beer_count=%{z}<extra></extra>",
         "hovertext": [
          "United States",
          "United Kingdom",
          "Canada",
          "Germany",
          "Denmark",
          "Sweden",
          "Netherlands",
          "Belgium",
          "Italy",
          "Australia",
          "Poland",
          "France",
          "Norway",
          "Switzerland",
          "Japan",
          "Spain",
          "Czech Republic",
          "Finland",
          "New Zealand",
          "Russia",
          "Austria",
          "Brazil",
          "Ireland",
          "Hungary",
          "Estonia",
          "China",
          "Ukraine",
          "Lithuania",
          "Mexico",
          "South Africa",
          "Latvia",
          "Portugal",
          "Belarus",
          "Argentina",
          "Slovenia",
          "Israel",
          "Chile",
          "India",
          "Croatia",
          "Thailand",
          "South Korea",
          "Serbia",
          "Iceland",
          "Romania",
          "Greece",
          "Singapore",
          "Hong Kong",
          "Peru",
          "Bulgaria",
          "Philippines",
          "Ecuador",
          "Colombia",
          "Costa Rica",
          "Bosnia and Herzegovina",
          "Cambodia",
          "Isle of Man",
          "Faroe Islands",
          "Kazakhstan",
          "Luxembourg",
          "Georgia",
          "Guatemala",
          "Uruguay",
          "Albania",
          "El Salvador",
          "Cyprus",
          "Indonesia",
          "Armenia",
          "Malta",
          "Greenland",
          "Kenya",
          "Jersey",
          "Uzbekistan",
          "Puerto Rico",
          "Guernsey",
          "Panama",
          "Egypt",
          "Mauritius",
          "Liechtenstein",
          "Namibia",
          "Andorra",
          "Jamaica",
          "Lebanon",
          "Bahamas",
          "Barbados",
          "Kosovo",
          "Sri Lanka",
          "Malaysia",
          "Nicaragua",
          "Nigeria",
          "Paraguay",
          "San Marino",
          "Azerbaijan",
          "Kyrgyzstan",
          "Myanmar",
          "Cuba",
          "Ethiopia",
          "Algeria",
          "Tunisia",
          "Mongolia",
          "Nepal",
          "Guadeloupe",
          "Jordan",
          "Bhutan",
          "Saint Lucia",
          "Dominican Republic",
          "Ghana",
          "Uganda",
          "New Caledonia",
          "Cameroon",
          "Montenegro",
          "Cayman Islands",
          "Vanuatu",
          "Rwanda",
          "Madagascar",
          "Belize",
          "Morocco",
          "Monaco",
          "Togo",
          "Turkmenistan",
          "Grenada",
          "Mozambique",
          "Cook Islands",
          "Honduras",
          "Burkina Faso",
          "Turks and Caicos Islands",
          "Bermuda",
          "Suriname",
          "Curaçao",
          "Guyana",
          "French Polynesia",
          "Zimbabwe",
          "Pakistan",
          "Martinique",
          "Norfolk Island",
          "Benin",
          "Samoa",
          "Guam",
          "Tonga",
          "Senegal",
          "Seychelles",
          "Malawi",
          "Angola",
          "Gambia",
          "Dominica",
          "French Guiana",
          "Papua New Guinea",
          "Chad",
          "Gabon",
          "Saint Vincent and The Grenadines",
          "Niger",
          "Solomon Islands",
          "Aruba",
          "Palau",
          "Tajikistan",
          "Congo",
          "Botswana",
          "Zambia",
          "Guinea",
          "Iraq",
          "Bangladesh",
          "South Sudan",
          "Burundi",
          "Mali",
          "Central African Republic",
          "Eritrea",
          "Guinea-Bissau",
          "Iran",
          "Saudi Arabia",
          "Haiti",
          "Gibraltar",
          "Sierra Leone",
          "Sao Tome and Principe",
          "Lesotho",
          "Mayotte"
         ],
         "locationmode": "ISO-3",
         "locations": [
          "USA",
          "GBR",
          "CAN",
          "DEU",
          "DNK",
          "SWE",
          "NLD",
          "BEL",
          "ITA",
          "AUS",
          "POL",
          "FRA",
          "NOR",
          "CHE",
          "JPN",
          "ESP",
          "CZE",
          "FIN",
          "NZL",
          "RUS",
          "AUT",
          "BRA",
          "IRL",
          "HUN",
          "EST",
          "CHN",
          "UKR",
          "LTU",
          "MEX",
          "ZAF",
          "LVA",
          "PRT",
          "BLR",
          "ARG",
          "SVN",
          "ISR",
          "CHL",
          "IND",
          "HRV",
          "THA",
          "KOR",
          "SRB",
          "ISL",
          "ROU",
          "GRC",
          "SGP",
          "HKG",
          "PER",
          "BGR",
          "PHL",
          "ECU",
          "COL",
          "CRI",
          "BIH",
          "KHM",
          "IMN",
          "FRO",
          "KAZ",
          "LUX",
          "GEO",
          "GTM",
          "URY",
          "ALB",
          "SLV",
          "CYP",
          "IDN",
          "ARM",
          "MLT",
          "GRL",
          "KEN",
          "JEY",
          "UZB",
          "PRI",
          "GGY",
          "PAN",
          "EGY",
          "MUS",
          "LIE",
          "NAM",
          "AND",
          "JAM",
          "LBN",
          "BHS",
          "BRB",
          "XKX",
          "LKA",
          "MYS",
          "NIC",
          "NGA",
          "PRY",
          "SMR",
          "AZE",
          "KGZ",
          "MMR",
          "CUB",
          "ETH",
          "DZA",
          "TUN",
          "MNG",
          "NPL",
          "GLP",
          "JOR",
          "BTN",
          "LCA",
          "DOM",
          "GHA",
          "UGA",
          "NCL",
          "CMR",
          "MNE",
          "CYM",
          "VUT",
          "RWA",
          "MDG",
          "BLZ",
          "MAR",
          "MCO",
          "TGO",
          "TKM",
          "GRD",
          "MOZ",
          "COK",
          "HND",
          "BFA",
          "TCA",
          "BMU",
          "SUR",
          "CUW",
          "GUY",
          "PYF",
          "ZWE",
          "PAK",
          "MTQ",
          "NFK",
          "BEN",
          "WSM",
          "GUM",
          "TON",
          "SEN",
          "SYC",
          "MWI",
          "AGO",
          "GMB",
          "DMA",
          "GUF",
          "PNG",
          "TCD",
          "GAB",
          "VCT",
          "NER",
          "SLB",
          "ABW",
          "PLW",
          "TJK",
          "COG",
          "BWA",
          "ZMB",
          "GIN",
          "IRQ",
          "BGD",
          "SSD",
          "BDI",
          "MLI",
          "CAF",
          "ERI",
          "GNB",
          "IRN",
          "SAU",
          "HTI",
          "GIB",
          "SLE",
          "STP",
          "LSO",
          "MYT"
         ],
         "name": "",
         "type": "choropleth",
         "z": [
          12.017596186124266,
          10.856283776222593,
          9.93037288131751,
          9.784478765953926,
          8.966994113344454,
          8.798152718107191,
          8.796943893541737,
          8.774622220696997,
          8.752423403865594,
          8.700181192753353,
          8.585412430393381,
          8.558335134747413,
          8.469052816088302,
          8.369388996647842,
          8.354203562921775,
          8.333270353255308,
          8.260492856573185,
          8.026170194946426,
          7.978310969867722,
          7.790696031174738,
          7.60339933974067,
          7.271703706887368,
          7.119635638017636,
          7.097548850614793,
          6.961296045910167,
          6.925595197110468,
          6.901737206656574,
          6.874198495453294,
          6.754604099487962,
          6.716594773520978,
          6.53813982376767,
          6.338594078203183,
          6.2878585601617845,
          6.26530121273771,
          6.2422232654551655,
          6.1463292576688975,
          5.991464547107982,
          5.958424693029782,
          5.929589143389895,
          5.814130531825066,
          5.66988092298052,
          5.631211781821365,
          5.583496308781699,
          5.579729825986222,
          5.568344503761097,
          5.4116460518550396,
          5.327876168789581,
          5.117993812416755,
          5.056245805348308,
          4.867534450455582,
          4.8283137373023015,
          4.787491742782046,
          4.770684624465665,
          4.74493212836325,
          4.543294782270004,
          4.48863636973214,
          4.477336814478207,
          4.382026634673881,
          4.3694478524670215,
          4.23410650459726,
          4.060443010546419,
          3.828641396489095,
          3.828641396489095,
          3.8066624897703196,
          3.784189633918261,
          3.7612001156935624,
          3.7376696182833684,
          3.6375861597263857,
          3.6109179126442243,
          3.5263605246161616,
          3.4965075614664802,
          3.4965075614664802,
          3.4657359027997265,
          3.4011973816621555,
          3.367295829986474,
          3.332204510175204,
          3.295836866004329,
          3.258096538021482,
          3.2188758248682006,
          3.1780538303479458,
          3.1780538303479458,
          3.091042453358316,
          3.091042453358316,
          3.044522437723423,
          3.044522437723423,
          3.044522437723423,
          3.044522437723423,
          2.995732273553991,
          2.9444389791664403,
          2.8903717578961645,
          2.8903717578961645,
          2.8903717578961645,
          2.8903717578961645,
          2.833213344056216,
          2.833213344056216,
          2.833213344056216,
          2.772588722239781,
          2.772588722239781,
          2.772588722239781,
          2.772588722239781,
          2.70805020110221,
          2.70805020110221,
          2.6390573296152584,
          2.6390573296152584,
          2.6390573296152584,
          2.4849066497880004,
          2.4849066497880004,
          2.4849066497880004,
          2.3978952727983707,
          2.3978952727983707,
          2.3978952727983707,
          2.3978952727983707,
          2.302585092994046,
          2.302585092994046,
          2.302585092994046,
          2.302585092994046,
          2.302585092994046,
          2.302585092994046,
          2.1972245773362196,
          2.1972245773362196,
          2.0794415416798357,
          2.0794415416798357,
          2.0794415416798357,
          2.0794415416798357,
          2.0794415416798357,
          1.9459101490553132,
          1.9459101490553132,
          1.9459101490553132,
          1.791759469228055,
          1.791759469228055,
          1.791759469228055,
          1.791759469228055,
          1.791759469228055,
          1.6094379124341003,
          1.6094379124341003,
          1.6094379124341003,
          1.6094379124341003,
          1.6094379124341003,
          1.6094379124341003,
          1.6094379124341003,
          1.6094379124341003,
          1.6094379124341003,
          1.3862943611198906,
          1.3862943611198906,
          1.3862943611198906,
          1.3862943611198906,
          1.3862943611198906,
          1.3862943611198906,
          1.3862943611198906,
          1.3862943611198906,
          1.3862943611198906,
          1.3862943611198906,
          1.3862943611198906,
          1.0986122886681098,
          1.0986122886681098,
          1.0986122886681098,
          1.0986122886681098,
          1.0986122886681098,
          1.0986122886681098,
          1.0986122886681098,
          1.0986122886681098,
          1.0986122886681098,
          1.0986122886681098,
          1.0986122886681098,
          0.6931471805599453,
          0.6931471805599453,
          0.6931471805599453,
          0.6931471805599453,
          0.6931471805599453,
          0.6931471805599453,
          0.6931471805599453,
          0.6931471805599453,
          0.6931471805599453,
          0.6931471805599453
         ]
        }
       ],
       "layout": {
        "coloraxis": {
         "colorbar": {
          "ticktext": [
           "1",
           "10",
           "100",
           "1k",
           "10k",
           "100k"
          ],
          "tickvals": [
           0.6931471805599453,
           2.3978952727983707,
           4.61512051684126,
           6.90875477931522,
           9.210440366976517,
           11.51293546492023
          ],
          "title": {
           "text": "Number of Beers (Log Scale)"
          }
         },
         "colorscale": [
          [
           0,
           "#0d0887"
          ],
          [
           0.1111111111111111,
           "#46039f"
          ],
          [
           0.2222222222222222,
           "#7201a8"
          ],
          [
           0.3333333333333333,
           "#9c179e"
          ],
          [
           0.4444444444444444,
           "#bd3786"
          ],
          [
           0.5555555555555556,
           "#d8576b"
          ],
          [
           0.6666666666666666,
           "#ed7953"
          ],
          [
           0.7777777777777778,
           "#fb9f3a"
          ],
          [
           0.8888888888888888,
           "#fdca26"
          ],
          [
           1,
           "#f0f921"
          ]
         ]
        },
        "geo": {
         "center": {},
         "coastlinecolor": "Gray",
         "domain": {
          "x": [
           0,
           1
          ],
          "y": [
           0,
           1
          ]
         },
         "showcoastlines": true
        },
        "legend": {
         "tracegroupgap": 0
        },
        "margin": {
         "b": 0,
         "l": 0,
         "r": 0,
         "t": 0
        },
        "template": {
         "data": {
          "bar": [
           {
            "error_x": {
             "color": "#2a3f5f"
            },
            "error_y": {
             "color": "#2a3f5f"
            },
            "marker": {
             "line": {
              "color": "#E5ECF6",
              "width": 0.5
             },
             "pattern": {
              "fillmode": "overlay",
              "size": 10,
              "solidity": 0.2
             }
            },
            "type": "bar"
           }
          ],
          "barpolar": [
           {
            "marker": {
             "line": {
              "color": "#E5ECF6",
              "width": 0.5
             },
             "pattern": {
              "fillmode": "overlay",
              "size": 10,
              "solidity": 0.2
             }
            },
            "type": "barpolar"
           }
          ],
          "carpet": [
           {
            "aaxis": {
             "endlinecolor": "#2a3f5f",
             "gridcolor": "white",
             "linecolor": "white",
             "minorgridcolor": "white",
             "startlinecolor": "#2a3f5f"
            },
            "baxis": {
             "endlinecolor": "#2a3f5f",
             "gridcolor": "white",
             "linecolor": "white",
             "minorgridcolor": "white",
             "startlinecolor": "#2a3f5f"
            },
            "type": "carpet"
           }
          ],
          "choropleth": [
           {
            "colorbar": {
             "outlinewidth": 0,
             "ticks": ""
            },
            "type": "choropleth"
           }
          ],
          "contour": [
           {
            "colorbar": {
             "outlinewidth": 0,
             "ticks": ""
            },
            "colorscale": [
             [
              0,
              "#0d0887"
             ],
             [
              0.1111111111111111,
              "#46039f"
             ],
             [
              0.2222222222222222,
              "#7201a8"
             ],
             [
              0.3333333333333333,
              "#9c179e"
             ],
             [
              0.4444444444444444,
              "#bd3786"
             ],
             [
              0.5555555555555556,
              "#d8576b"
             ],
             [
              0.6666666666666666,
              "#ed7953"
             ],
             [
              0.7777777777777778,
              "#fb9f3a"
             ],
             [
              0.8888888888888888,
              "#fdca26"
             ],
             [
              1,
              "#f0f921"
             ]
            ],
            "type": "contour"
           }
          ],
          "contourcarpet": [
           {
            "colorbar": {
             "outlinewidth": 0,
             "ticks": ""
            },
            "type": "contourcarpet"
           }
          ],
          "heatmap": [
           {
            "colorbar": {
             "outlinewidth": 0,
             "ticks": ""
            },
            "colorscale": [
             [
              0,
              "#0d0887"
             ],
             [
              0.1111111111111111,
              "#46039f"
             ],
             [
              0.2222222222222222,
              "#7201a8"
             ],
             [
              0.3333333333333333,
              "#9c179e"
             ],
             [
              0.4444444444444444,
              "#bd3786"
             ],
             [
              0.5555555555555556,
              "#d8576b"
             ],
             [
              0.6666666666666666,
              "#ed7953"
             ],
             [
              0.7777777777777778,
              "#fb9f3a"
             ],
             [
              0.8888888888888888,
              "#fdca26"
             ],
             [
              1,
              "#f0f921"
             ]
            ],
            "type": "heatmap"
           }
          ],
          "heatmapgl": [
           {
            "colorbar": {
             "outlinewidth": 0,
             "ticks": ""
            },
            "colorscale": [
             [
              0,
              "#0d0887"
             ],
             [
              0.1111111111111111,
              "#46039f"
             ],
             [
              0.2222222222222222,
              "#7201a8"
             ],
             [
              0.3333333333333333,
              "#9c179e"
             ],
             [
              0.4444444444444444,
              "#bd3786"
             ],
             [
              0.5555555555555556,
              "#d8576b"
             ],
             [
              0.6666666666666666,
              "#ed7953"
             ],
             [
              0.7777777777777778,
              "#fb9f3a"
             ],
             [
              0.8888888888888888,
              "#fdca26"
             ],
             [
              1,
              "#f0f921"
             ]
            ],
            "type": "heatmapgl"
           }
          ],
          "histogram": [
           {
            "marker": {
             "pattern": {
              "fillmode": "overlay",
              "size": 10,
              "solidity": 0.2
             }
            },
            "type": "histogram"
           }
          ],
          "histogram2d": [
           {
            "colorbar": {
             "outlinewidth": 0,
             "ticks": ""
            },
            "colorscale": [
             [
              0,
              "#0d0887"
             ],
             [
              0.1111111111111111,
              "#46039f"
             ],
             [
              0.2222222222222222,
              "#7201a8"
             ],
             [
              0.3333333333333333,
              "#9c179e"
             ],
             [
              0.4444444444444444,
              "#bd3786"
             ],
             [
              0.5555555555555556,
              "#d8576b"
             ],
             [
              0.6666666666666666,
              "#ed7953"
             ],
             [
              0.7777777777777778,
              "#fb9f3a"
             ],
             [
              0.8888888888888888,
              "#fdca26"
             ],
             [
              1,
              "#f0f921"
             ]
            ],
            "type": "histogram2d"
           }
          ],
          "histogram2dcontour": [
           {
            "colorbar": {
             "outlinewidth": 0,
             "ticks": ""
            },
            "colorscale": [
             [
              0,
              "#0d0887"
             ],
             [
              0.1111111111111111,
              "#46039f"
             ],
             [
              0.2222222222222222,
              "#7201a8"
             ],
             [
              0.3333333333333333,
              "#9c179e"
             ],
             [
              0.4444444444444444,
              "#bd3786"
             ],
             [
              0.5555555555555556,
              "#d8576b"
             ],
             [
              0.6666666666666666,
              "#ed7953"
             ],
             [
              0.7777777777777778,
              "#fb9f3a"
             ],
             [
              0.8888888888888888,
              "#fdca26"
             ],
             [
              1,
              "#f0f921"
             ]
            ],
            "type": "histogram2dcontour"
           }
          ],
          "mesh3d": [
           {
            "colorbar": {
             "outlinewidth": 0,
             "ticks": ""
            },
            "type": "mesh3d"
           }
          ],
          "parcoords": [
           {
            "line": {
             "colorbar": {
              "outlinewidth": 0,
              "ticks": ""
             }
            },
            "type": "parcoords"
           }
          ],
          "pie": [
           {
            "automargin": true,
            "type": "pie"
           }
          ],
          "scatter": [
           {
            "fillpattern": {
             "fillmode": "overlay",
             "size": 10,
             "solidity": 0.2
            },
            "type": "scatter"
           }
          ],
          "scatter3d": [
           {
            "line": {
             "colorbar": {
              "outlinewidth": 0,
              "ticks": ""
             }
            },
            "marker": {
             "colorbar": {
              "outlinewidth": 0,
              "ticks": ""
             }
            },
            "type": "scatter3d"
           }
          ],
          "scattercarpet": [
           {
            "marker": {
             "colorbar": {
              "outlinewidth": 0,
              "ticks": ""
             }
            },
            "type": "scattercarpet"
           }
          ],
          "scattergeo": [
           {
            "marker": {
             "colorbar": {
              "outlinewidth": 0,
              "ticks": ""
             }
            },
            "type": "scattergeo"
           }
          ],
          "scattergl": [
           {
            "marker": {
             "colorbar": {
              "outlinewidth": 0,
              "ticks": ""
             }
            },
            "type": "scattergl"
           }
          ],
          "scattermapbox": [
           {
            "marker": {
             "colorbar": {
              "outlinewidth": 0,
              "ticks": ""
             }
            },
            "type": "scattermapbox"
           }
          ],
          "scatterpolar": [
           {
            "marker": {
             "colorbar": {
              "outlinewidth": 0,
              "ticks": ""
             }
            },
            "type": "scatterpolar"
           }
          ],
          "scatterpolargl": [
           {
            "marker": {
             "colorbar": {
              "outlinewidth": 0,
              "ticks": ""
             }
            },
            "type": "scatterpolargl"
           }
          ],
          "scatterternary": [
           {
            "marker": {
             "colorbar": {
              "outlinewidth": 0,
              "ticks": ""
             }
            },
            "type": "scatterternary"
           }
          ],
          "surface": [
           {
            "colorbar": {
             "outlinewidth": 0,
             "ticks": ""
            },
            "colorscale": [
             [
              0,
              "#0d0887"
             ],
             [
              0.1111111111111111,
              "#46039f"
             ],
             [
              0.2222222222222222,
              "#7201a8"
             ],
             [
              0.3333333333333333,
              "#9c179e"
             ],
             [
              0.4444444444444444,
              "#bd3786"
             ],
             [
              0.5555555555555556,
              "#d8576b"
             ],
             [
              0.6666666666666666,
              "#ed7953"
             ],
             [
              0.7777777777777778,
              "#fb9f3a"
             ],
             [
              0.8888888888888888,
              "#fdca26"
             ],
             [
              1,
              "#f0f921"
             ]
            ],
            "type": "surface"
           }
          ],
          "table": [
           {
            "cells": {
             "fill": {
              "color": "#EBF0F8"
             },
             "line": {
              "color": "white"
             }
            },
            "header": {
             "fill": {
              "color": "#C8D4E3"
             },
             "line": {
              "color": "white"
             }
            },
            "type": "table"
           }
          ]
         },
         "layout": {
          "annotationdefaults": {
           "arrowcolor": "#2a3f5f",
           "arrowhead": 0,
           "arrowwidth": 1
          },
          "autotypenumbers": "strict",
          "coloraxis": {
           "colorbar": {
            "outlinewidth": 0,
            "ticks": ""
           }
          },
          "colorscale": {
           "diverging": [
            [
             0,
             "#8e0152"
            ],
            [
             0.1,
             "#c51b7d"
            ],
            [
             0.2,
             "#de77ae"
            ],
            [
             0.3,
             "#f1b6da"
            ],
            [
             0.4,
             "#fde0ef"
            ],
            [
             0.5,
             "#f7f7f7"
            ],
            [
             0.6,
             "#e6f5d0"
            ],
            [
             0.7,
             "#b8e186"
            ],
            [
             0.8,
             "#7fbc41"
            ],
            [
             0.9,
             "#4d9221"
            ],
            [
             1,
             "#276419"
            ]
           ],
           "sequential": [
            [
             0,
             "#0d0887"
            ],
            [
             0.1111111111111111,
             "#46039f"
            ],
            [
             0.2222222222222222,
             "#7201a8"
            ],
            [
             0.3333333333333333,
             "#9c179e"
            ],
            [
             0.4444444444444444,
             "#bd3786"
            ],
            [
             0.5555555555555556,
             "#d8576b"
            ],
            [
             0.6666666666666666,
             "#ed7953"
            ],
            [
             0.7777777777777778,
             "#fb9f3a"
            ],
            [
             0.8888888888888888,
             "#fdca26"
            ],
            [
             1,
             "#f0f921"
            ]
           ],
           "sequentialminus": [
            [
             0,
             "#0d0887"
            ],
            [
             0.1111111111111111,
             "#46039f"
            ],
            [
             0.2222222222222222,
             "#7201a8"
            ],
            [
             0.3333333333333333,
             "#9c179e"
            ],
            [
             0.4444444444444444,
             "#bd3786"
            ],
            [
             0.5555555555555556,
             "#d8576b"
            ],
            [
             0.6666666666666666,
             "#ed7953"
            ],
            [
             0.7777777777777778,
             "#fb9f3a"
            ],
            [
             0.8888888888888888,
             "#fdca26"
            ],
            [
             1,
             "#f0f921"
            ]
           ]
          },
          "colorway": [
           "#636efa",
           "#EF553B",
           "#00cc96",
           "#ab63fa",
           "#FFA15A",
           "#19d3f3",
           "#FF6692",
           "#B6E880",
           "#FF97FF",
           "#FECB52"
          ],
          "font": {
           "color": "#2a3f5f"
          },
          "geo": {
           "bgcolor": "white",
           "lakecolor": "white",
           "landcolor": "#E5ECF6",
           "showlakes": true,
           "showland": true,
           "subunitcolor": "white"
          },
          "hoverlabel": {
           "align": "left"
          },
          "hovermode": "closest",
          "mapbox": {
           "style": "light"
          },
          "paper_bgcolor": "white",
          "plot_bgcolor": "#E5ECF6",
          "polar": {
           "angularaxis": {
            "gridcolor": "white",
            "linecolor": "white",
            "ticks": ""
           },
           "bgcolor": "#E5ECF6",
           "radialaxis": {
            "gridcolor": "white",
            "linecolor": "white",
            "ticks": ""
           }
          },
          "scene": {
           "xaxis": {
            "backgroundcolor": "#E5ECF6",
            "gridcolor": "white",
            "gridwidth": 2,
            "linecolor": "white",
            "showbackground": true,
            "ticks": "",
            "zerolinecolor": "white"
           },
           "yaxis": {
            "backgroundcolor": "#E5ECF6",
            "gridcolor": "white",
            "gridwidth": 2,
            "linecolor": "white",
            "showbackground": true,
            "ticks": "",
            "zerolinecolor": "white"
           },
           "zaxis": {
            "backgroundcolor": "#E5ECF6",
            "gridcolor": "white",
            "gridwidth": 2,
            "linecolor": "white",
            "showbackground": true,
            "ticks": "",
            "zerolinecolor": "white"
           }
          },
          "shapedefaults": {
           "line": {
            "color": "#2a3f5f"
           }
          },
          "ternary": {
           "aaxis": {
            "gridcolor": "white",
            "linecolor": "white",
            "ticks": ""
           },
           "baxis": {
            "gridcolor": "white",
            "linecolor": "white",
            "ticks": ""
           },
           "bgcolor": "#E5ECF6",
           "caxis": {
            "gridcolor": "white",
            "linecolor": "white",
            "ticks": ""
           }
          },
          "title": {
           "x": 0.05
          },
          "xaxis": {
           "automargin": true,
           "gridcolor": "white",
           "linecolor": "white",
           "ticks": "",
           "title": {
            "standoff": 15
           },
           "zerolinecolor": "white",
           "zerolinewidth": 2
          },
          "yaxis": {
           "automargin": true,
           "gridcolor": "white",
           "linecolor": "white",
           "ticks": "",
           "title": {
            "standoff": 15
           },
           "zerolinecolor": "white",
           "zerolinewidth": 2
          }
         }
        },
        "title": {
         "text": "Number of Beers per Country (Log Scale)"
        }
       }
      }
     },
     "metadata": {},
     "output_type": "display_data"
    }
   ],
   "source": [
    "utils_beers.plot_world_map_data(beer_RB)"
   ]
  }
 ],
 "metadata": {
  "kernelspec": {
   "display_name": "ada",
   "language": "python",
   "name": "python3"
  },
  "language_info": {
   "codemirror_mode": {
    "name": "ipython",
    "version": 3
   },
   "file_extension": ".py",
   "mimetype": "text/x-python",
   "name": "python",
   "nbconvert_exporter": "python",
   "pygments_lexer": "ipython3",
   "version": "3.11.10"
  }
 },
 "nbformat": 4,
 "nbformat_minor": 2
}
