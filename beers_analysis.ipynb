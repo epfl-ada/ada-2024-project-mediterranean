{
 "cells": [
  {
   "cell_type": "markdown",
   "metadata": {},
   "source": [
    "# **BEERS ANALYSIS**"
   ]
  },
  {
   "cell_type": "code",
   "execution_count": 42,
   "metadata": {},
   "outputs": [],
   "source": [
    "import pandas as pd\n",
    "import numpy as np\n",
    "from datetime import datetime\n",
    "import matplotlib.pyplot as plt\n",
    "import re\n",
    "import math\n",
    "from scipy import stats\n",
    "import seaborn as sns\n",
    "from src.data.utils import *\n",
    "from src.data.utils import dataset_information\n",
    "import plotly.express as px\n",
    "import geopandas as gpd"
   ]
  },
  {
   "cell_type": "markdown",
   "metadata": {},
   "source": [
    "# Files loading"
   ]
  },
  {
   "cell_type": "code",
   "execution_count": 6,
   "metadata": {},
   "outputs": [
    {
     "name": "stderr",
     "output_type": "stream",
     "text": [
      "C:\\Users\\jon\\AppData\\Local\\Temp\\ipykernel_7608\\1950828441.py:1: DtypeWarning: Columns (15) have mixed types. Specify dtype option on import or set low_memory=False.\n",
      "  beers_rate = pd.read_csv(\"data/Processed/RateBeer/beers_processed.csv\", sep=\",\")\n"
     ]
    }
   ],
   "source": [
    "beers_rate = pd.read_csv(\"data/Processed/RateBeer/beers_processed.csv\", sep=\",\")\n",
    "beers_adv = pd.read_csv(\"data/Processed/BeerAdvocate/beers_processed.csv\", sep=\",\")\n",
    "beers = pd.read_csv(\"data/Processed/Matched/beers_processed_matched.csv\", sep=\",\")"
   ]
  },
  {
   "cell_type": "markdown",
   "metadata": {},
   "source": [
    "# Initial analysis"
   ]
  },
  {
   "cell_type": "markdown",
   "metadata": {},
   "source": [
    "Initial inspection of data in the merged dataset:"
   ]
  },
  {
   "cell_type": "code",
   "execution_count": 7,
   "metadata": {},
   "outputs": [
    {
     "name": "stdout",
     "output_type": "stream",
     "text": [
      "\n",
      "\n",
      "########################################################\n",
      "We are starting analysing dataset Global beers matched dataset\n",
      "- Dimension of starting dataset: (28841, 14)\n",
      "- Columns of dataset:  Index(['beer_id', 'beer_name', 'brewery_id', 'brewery_name', 'style',\n",
      "       'nbr_ratings', 'avg', 'abv', 'zscore', 'location', 'location_region',\n",
      "       'US', 'UK', 'Canada'],\n",
      "      dtype='object')\n",
      "- Are all the id unique? Answer: False\n",
      "- Are there some values that are NaN inside the dataset? Answer: False\n",
      "Head: \n",
      "    beer_id                      beer_name  brewery_id  \\\n",
      "0   170855         3 Sheeps Cirque Du Wit       14215   \n",
      "1   222750            3 Sheeps First Kiss       14215   \n",
      "2   494431           3 Sheeps Fresh Coast       14215   \n",
      "3   348887          3 Sheeps Happy Summer       14215   \n",
      "4   182392  3 Sheeps Hello My Name is Joe       14215   \n",
      "\n",
      "               brewery_name                 style  nbr_ratings       avg  abv  \\\n",
      "0  3 Sheeps Brewing Company               Witbier           34  6.553288  4.2   \n",
      "1  3 Sheeps Brewing Company          Imperial IPA           53  8.253968  8.2   \n",
      "2  3 Sheeps Brewing Company     American Pale Ale            5  7.845805  4.8   \n",
      "3  3 Sheeps Brewing Company  India Pale Ale (IPA)           15  8.117914  7.0   \n",
      "4  3 Sheeps Brewing Company             Wheat Ale           43  8.526077  7.7   \n",
      "\n",
      "     zscore       location location_region    US     UK  Canada  \n",
      "0 -0.999444  United States       Wisconsin  True  False   False  \n",
      "1  0.631961  United States       Wisconsin  True  False   False  \n",
      "2  0.675302  United States       Wisconsin  True  False   False  \n",
      "3  0.566154  United States       Wisconsin  True  False   False  \n",
      "4  0.764355  United States       Wisconsin  True  False   False  \n"
     ]
    }
   ],
   "source": [
    "dataset_information(beers, \"Global beers matched dataset\")"
   ]
  },
  {
   "cell_type": "markdown",
   "metadata": {},
   "source": [
    "## Numerical variables"
   ]
  },
  {
   "cell_type": "code",
   "execution_count": 18,
   "metadata": {},
   "outputs": [
    {
     "name": "stdout",
     "output_type": "stream",
     "text": [
      "avg\n",
      "##########################\n",
      "count    28841.000000\n",
      "mean         7.169942\n",
      "std          0.604204\n",
      "min          0.000000\n",
      "25%          6.802721\n",
      "50%          7.097506\n",
      "75%          7.505669\n",
      "max         10.000000\n",
      "Name: avg, dtype: float64\n",
      "##########################\n",
      "nbr_ratings\n",
      "##########################\n",
      "count    28841.000000\n",
      "mean        18.715093\n",
      "std         97.844607\n",
      "min          1.000000\n",
      "25%          2.000000\n",
      "50%          4.000000\n",
      "75%         10.000000\n",
      "max       6844.000000\n",
      "Name: nbr_ratings, dtype: float64\n"
     ]
    }
   ],
   "source": [
    "print(\"avg\\n##########################\")\n",
    "print(beers['avg'].describe())\n",
    "print(\"##########################\\nnbr_ratings\\n##########################\")\n",
    "print(beers['nbr_ratings'].describe())"
   ]
  },
  {
   "cell_type": "code",
   "execution_count": 32,
   "metadata": {},
   "outputs": [
    {
     "data": {
      "text/html": [
       "<div>\n",
       "<style scoped>\n",
       "    .dataframe tbody tr th:only-of-type {\n",
       "        vertical-align: middle;\n",
       "    }\n",
       "\n",
       "    .dataframe tbody tr th {\n",
       "        vertical-align: top;\n",
       "    }\n",
       "\n",
       "    .dataframe thead th {\n",
       "        text-align: right;\n",
       "    }\n",
       "</style>\n",
       "<table border=\"1\" class=\"dataframe\">\n",
       "  <thead>\n",
       "    <tr style=\"text-align: right;\">\n",
       "      <th></th>\n",
       "      <th>beer_id</th>\n",
       "      <th>beer_name</th>\n",
       "      <th>brewery_id</th>\n",
       "      <th>brewery_name</th>\n",
       "      <th>style</th>\n",
       "      <th>nbr_ratings</th>\n",
       "      <th>avg</th>\n",
       "      <th>abv</th>\n",
       "      <th>zscore</th>\n",
       "      <th>location</th>\n",
       "      <th>location_region</th>\n",
       "      <th>US</th>\n",
       "      <th>UK</th>\n",
       "      <th>Canada</th>\n",
       "    </tr>\n",
       "  </thead>\n",
       "  <tbody>\n",
       "  </tbody>\n",
       "</table>\n",
       "</div>"
      ],
      "text/plain": [
       "Empty DataFrame\n",
       "Columns: [beer_id, beer_name, brewery_id, brewery_name, style, nbr_ratings, avg, abv, zscore, location, location_region, US, UK, Canada]\n",
       "Index: []"
      ]
     },
     "execution_count": 32,
     "metadata": {},
     "output_type": "execute_result"
    }
   ],
   "source": [
    "beers_not_usa = beers[beers['US'] == False]\n",
    "\n",
    "beers_not_usa.head()"
   ]
  },
  {
   "cell_type": "code",
   "execution_count": 27,
   "metadata": {},
   "outputs": [
    {
     "data": {
      "image/png": "[encoded data removed]",
      "text/plain": [
       "<Figure size 1800x600 with 3 Axes>"
      ]
     },
     "metadata": {},
     "output_type": "display_data"
    }
   ],
   "source": [
    "fig, (ax1, ax2, ax3) = plt.subplots(1, 3, figsize=(18, 6), constrained_layout=True)\n",
    "\n",
    "\n",
    "sns.histplot(beers['avg'], kde=True, color='teal', ax=ax1)\n",
    "ax1.set_title('Distribution of Average Ratings')\n",
    "ax1.set_xlabel('Average Rating')\n",
    "ax1.set_ylabel('Frequency')\n",
    "ax1.grid(True, linestyle='--', alpha=0.6)\n",
    "\n",
    "sns.histplot(beers['nbr_ratings'], kde=True, color='coral', ax=ax2)\n",
    "ax2.set_title('Distribution of Number of Ratings')\n",
    "ax2.set_xlabel('Number of Ratings')\n",
    "ax2.set_ylabel('Frequency')\n",
    "ax2.grid(True, linestyle='--', alpha=0.6)\n",
    "\n",
    "sns.histplot(beers[beers['US'] == False]['nbr_ratings'], kde=True, color='green', ax=ax3)\n",
    "ax3.set_title('Distribution of Number of Ratings Outside US')\n",
    "ax3.set_xlabel('Number of Ratings')\n",
    "ax3.set_ylabel('Frequency')\n",
    "ax3.grid(True, linestyle='--', alpha=0.6)\n",
    "\n",
    "fig.suptitle('Distributions of Average Ratings and Number of Ratings', fontsize=16)\n",
    "plt.show()"
   ]
  },
  {
   "cell_type": "code",
   "execution_count": 30,
   "metadata": {},
   "outputs": [
    {
     "data": {
      "text/html": [
       "<div>\n",
       "<style scoped>\n",
       "    .dataframe tbody tr th:only-of-type {\n",
       "        vertical-align: middle;\n",
       "    }\n",
       "\n",
       "    .dataframe tbody tr th {\n",
       "        vertical-align: top;\n",
       "    }\n",
       "\n",
       "    .dataframe thead th {\n",
       "        text-align: right;\n",
       "    }\n",
       "</style>\n",
       "<table border=\"1\" class=\"dataframe\">\n",
       "  <thead>\n",
       "    <tr style=\"text-align: right;\">\n",
       "      <th></th>\n",
       "      <th>beer_id</th>\n",
       "      <th>beer_name</th>\n",
       "      <th>brewery_id</th>\n",
       "      <th>brewery_name</th>\n",
       "      <th>style</th>\n",
       "      <th>nbr_ratings</th>\n",
       "      <th>avg</th>\n",
       "      <th>abv</th>\n",
       "      <th>zscore</th>\n",
       "      <th>location</th>\n",
       "      <th>location_region</th>\n",
       "      <th>US</th>\n",
       "      <th>UK</th>\n",
       "      <th>Canada</th>\n",
       "    </tr>\n",
       "  </thead>\n",
       "  <tbody>\n",
       "    <tr>\n",
       "      <th>27824</th>\n",
       "      <td>14232</td>\n",
       "      <td>AleSmith Speedway Stout</td>\n",
       "      <td>396</td>\n",
       "      <td>AleSmith Brewing Company</td>\n",
       "      <td>American Double / Imperial Stout</td>\n",
       "      <td>6844</td>\n",
       "      <td>9.085239</td>\n",
       "      <td>12.0</td>\n",
       "      <td>0.878459</td>\n",
       "      <td>United States</td>\n",
       "      <td>California</td>\n",
       "      <td>True</td>\n",
       "      <td>False</td>\n",
       "      <td>False</td>\n",
       "    </tr>\n",
       "    <tr>\n",
       "      <th>27972</th>\n",
       "      <td>531</td>\n",
       "      <td>Brooklyn Black Chocolate Stout</td>\n",
       "      <td>45</td>\n",
       "      <td>Brooklyn Brewery</td>\n",
       "      <td>Russian Imperial Stout</td>\n",
       "      <td>6676</td>\n",
       "      <td>8.627859</td>\n",
       "      <td>10.0</td>\n",
       "      <td>0.495761</td>\n",
       "      <td>United States</td>\n",
       "      <td>New York</td>\n",
       "      <td>True</td>\n",
       "      <td>False</td>\n",
       "      <td>False</td>\n",
       "    </tr>\n",
       "    <tr>\n",
       "      <th>27986</th>\n",
       "      <td>528</td>\n",
       "      <td>Brooklyn Lager</td>\n",
       "      <td>45</td>\n",
       "      <td>Brooklyn Brewery</td>\n",
       "      <td>American Amber / Red Lager</td>\n",
       "      <td>3643</td>\n",
       "      <td>7.900208</td>\n",
       "      <td>5.2</td>\n",
       "      <td>-0.261546</td>\n",
       "      <td>United States</td>\n",
       "      <td>New York</td>\n",
       "      <td>True</td>\n",
       "      <td>False</td>\n",
       "      <td>False</td>\n",
       "    </tr>\n",
       "    <tr>\n",
       "      <th>7444</th>\n",
       "      <td>531</td>\n",
       "      <td>Brooklyn Black Chocolate Stout</td>\n",
       "      <td>90</td>\n",
       "      <td>Brooklyn Brewery</td>\n",
       "      <td>Imperial Stout</td>\n",
       "      <td>3402</td>\n",
       "      <td>9.024943</td>\n",
       "      <td>10.0</td>\n",
       "      <td>1.045310</td>\n",
       "      <td>United States</td>\n",
       "      <td>New York</td>\n",
       "      <td>True</td>\n",
       "      <td>False</td>\n",
       "      <td>False</td>\n",
       "    </tr>\n",
       "    <tr>\n",
       "      <th>1194</th>\n",
       "      <td>14232</td>\n",
       "      <td>AleSmith Speedway Stout</td>\n",
       "      <td>432</td>\n",
       "      <td>AleSmith Brewing Company</td>\n",
       "      <td>Imperial Stout</td>\n",
       "      <td>2962</td>\n",
       "      <td>9.750567</td>\n",
       "      <td>12.0</td>\n",
       "      <td>1.568054</td>\n",
       "      <td>United States</td>\n",
       "      <td>California</td>\n",
       "      <td>True</td>\n",
       "      <td>False</td>\n",
       "      <td>False</td>\n",
       "    </tr>\n",
       "    <tr>\n",
       "      <th>...</th>\n",
       "      <td>...</td>\n",
       "      <td>...</td>\n",
       "      <td>...</td>\n",
       "      <td>...</td>\n",
       "      <td>...</td>\n",
       "      <td>...</td>\n",
       "      <td>...</td>\n",
       "      <td>...</td>\n",
       "      <td>...</td>\n",
       "      <td>...</td>\n",
       "      <td>...</td>\n",
       "      <td>...</td>\n",
       "      <td>...</td>\n",
       "      <td>...</td>\n",
       "    </tr>\n",
       "    <tr>\n",
       "      <th>28407</th>\n",
       "      <td>154627</td>\n",
       "      <td>Alaskan Freeride APA</td>\n",
       "      <td>429</td>\n",
       "      <td>Alaskan Brewing Co.</td>\n",
       "      <td>American Pale Ale (APA)</td>\n",
       "      <td>613</td>\n",
       "      <td>7.858628</td>\n",
       "      <td>5.3</td>\n",
       "      <td>-0.380415</td>\n",
       "      <td>United States</td>\n",
       "      <td>Alaska</td>\n",
       "      <td>True</td>\n",
       "      <td>False</td>\n",
       "      <td>False</td>\n",
       "    </tr>\n",
       "    <tr>\n",
       "      <th>28350</th>\n",
       "      <td>169849</td>\n",
       "      <td>West Sixth IPA</td>\n",
       "      <td>28764</td>\n",
       "      <td>West Sixth Brewing Company</td>\n",
       "      <td>American IPA</td>\n",
       "      <td>607</td>\n",
       "      <td>8.170478</td>\n",
       "      <td>7.0</td>\n",
       "      <td>-0.001636</td>\n",
       "      <td>United States</td>\n",
       "      <td>Kentucky</td>\n",
       "      <td>True</td>\n",
       "      <td>False</td>\n",
       "      <td>False</td>\n",
       "    </tr>\n",
       "    <tr>\n",
       "      <th>27461</th>\n",
       "      <td>139669</td>\n",
       "      <td>Westbrook India Pale Ale</td>\n",
       "      <td>12402</td>\n",
       "      <td>Westbrook Brewing</td>\n",
       "      <td>India Pale Ale (IPA)</td>\n",
       "      <td>604</td>\n",
       "      <td>8.390023</td>\n",
       "      <td>6.8</td>\n",
       "      <td>0.525743</td>\n",
       "      <td>United States</td>\n",
       "      <td>South Carolina</td>\n",
       "      <td>True</td>\n",
       "      <td>False</td>\n",
       "      <td>False</td>\n",
       "    </tr>\n",
       "    <tr>\n",
       "      <th>20865</th>\n",
       "      <td>145241</td>\n",
       "      <td>Maine Beer Lunch</td>\n",
       "      <td>10659</td>\n",
       "      <td>Maine Beer Company</td>\n",
       "      <td>India Pale Ale (IPA)</td>\n",
       "      <td>599</td>\n",
       "      <td>9.092971</td>\n",
       "      <td>7.0</td>\n",
       "      <td>1.111925</td>\n",
       "      <td>United States</td>\n",
       "      <td>Maine</td>\n",
       "      <td>True</td>\n",
       "      <td>False</td>\n",
       "      <td>False</td>\n",
       "    </tr>\n",
       "    <tr>\n",
       "      <th>18903</th>\n",
       "      <td>161579</td>\n",
       "      <td>Anchorage Galaxy White IPA</td>\n",
       "      <td>12723</td>\n",
       "      <td>Anchorage Brewing Company</td>\n",
       "      <td>India Pale Ale (IPA)</td>\n",
       "      <td>594</td>\n",
       "      <td>8.662132</td>\n",
       "      <td>7.0</td>\n",
       "      <td>0.742243</td>\n",
       "      <td>United States</td>\n",
       "      <td>Alaska</td>\n",
       "      <td>True</td>\n",
       "      <td>False</td>\n",
       "      <td>False</td>\n",
       "    </tr>\n",
       "  </tbody>\n",
       "</table>\n",
       "<p>100 rows × 14 columns</p>\n",
       "</div>"
      ],
      "text/plain": [
       "       beer_id                       beer_name  brewery_id  \\\n",
       "27824    14232         AleSmith Speedway Stout         396   \n",
       "27972      531  Brooklyn Black Chocolate Stout          45   \n",
       "27986      528                  Brooklyn Lager          45   \n",
       "7444       531  Brooklyn Black Chocolate Stout          90   \n",
       "1194     14232         AleSmith Speedway Stout         432   \n",
       "...        ...                             ...         ...   \n",
       "28407   154627            Alaskan Freeride APA         429   \n",
       "28350   169849                  West Sixth IPA       28764   \n",
       "27461   139669        Westbrook India Pale Ale       12402   \n",
       "20865   145241                Maine Beer Lunch       10659   \n",
       "18903   161579      Anchorage Galaxy White IPA       12723   \n",
       "\n",
       "                     brewery_name                             style  \\\n",
       "27824    AleSmith Brewing Company  American Double / Imperial Stout   \n",
       "27972            Brooklyn Brewery            Russian Imperial Stout   \n",
       "27986            Brooklyn Brewery        American Amber / Red Lager   \n",
       "7444             Brooklyn Brewery                    Imperial Stout   \n",
       "1194     AleSmith Brewing Company                    Imperial Stout   \n",
       "...                           ...                               ...   \n",
       "28407         Alaskan Brewing Co.           American Pale Ale (APA)   \n",
       "28350  West Sixth Brewing Company                      American IPA   \n",
       "27461           Westbrook Brewing              India Pale Ale (IPA)   \n",
       "20865          Maine Beer Company              India Pale Ale (IPA)   \n",
       "18903   Anchorage Brewing Company              India Pale Ale (IPA)   \n",
       "\n",
       "       nbr_ratings       avg   abv    zscore       location  location_region  \\\n",
       "27824         6844  9.085239  12.0  0.878459  United States       California   \n",
       "27972         6676  8.627859  10.0  0.495761  United States         New York   \n",
       "27986         3643  7.900208   5.2 -0.261546  United States         New York   \n",
       "7444          3402  9.024943  10.0  1.045310  United States         New York   \n",
       "1194          2962  9.750567  12.0  1.568054  United States       California   \n",
       "...            ...       ...   ...       ...            ...              ...   \n",
       "28407          613  7.858628   5.3 -0.380415  United States           Alaska   \n",
       "28350          607  8.170478   7.0 -0.001636  United States         Kentucky   \n",
       "27461          604  8.390023   6.8  0.525743  United States   South Carolina   \n",
       "20865          599  9.092971   7.0  1.111925  United States            Maine   \n",
       "18903          594  8.662132   7.0  0.742243  United States           Alaska   \n",
       "\n",
       "         US     UK  Canada  \n",
       "27824  True  False   False  \n",
       "27972  True  False   False  \n",
       "27986  True  False   False  \n",
       "7444   True  False   False  \n",
       "1194   True  False   False  \n",
       "...     ...    ...     ...  \n",
       "28407  True  False   False  \n",
       "28350  True  False   False  \n",
       "27461  True  False   False  \n",
       "20865  True  False   False  \n",
       "18903  True  False   False  \n",
       "\n",
       "[100 rows x 14 columns]"
      ]
     },
     "execution_count": 30,
     "metadata": {},
     "output_type": "execute_result"
    }
   ],
   "source": [
    "beers.sort_values(by='nbr_ratings', ascending=False).head(100)"
   ]
  },
  {
   "cell_type": "markdown",
   "metadata": {},
   "source": [
    "There are only US beers."
   ]
  },
  {
   "cell_type": "code",
   "execution_count": 41,
   "metadata": {},
   "outputs": [
    {
     "data": {
      "image/png": "[encoded data removed]",
      "text/plain": [
       "<Figure size 1400x600 with 1 Axes>"
      ]
     },
     "metadata": {},
     "output_type": "display_data"
    }
   ],
   "source": [
    "plt.figure(figsize=(14, 6))\n",
    "sns.barplot(y=beers['location_region'].value_counts().index, \n",
    "            x=beers['location_region'].value_counts().values \n",
    "            )\n",
    "plt.title('Frequency of Each Location in Beers Dataset', fontsize=16)\n",
    "plt.xlabel('Count', fontsize=12)\n",
    "plt.ylabel('Location', fontsize=12)\n",
    "plt.xticks(fontsize=10)\n",
    "plt.yticks(fontsize=5)\n",
    "plt.grid(True, linestyle='--', alpha=0.6)\n",
    "plt.show()"
   ]
  },
  {
   "cell_type": "code",
   "execution_count": 50,
   "metadata": {},
   "outputs": [
    {
     "data": {
      "application/vnd.plotly.v1+json": {
       "config": {
        "plotlyServerURL": "https://plot.ly"
       },
       "data": [
        {
         "coloraxis": "coloraxis",
         "customdata": [
          [
           4015
          ],
          [
           1745
          ],
          [
           1490
          ],
          [
           1477
          ],
          [
           1342
          ],
          [
           1222
          ],
          [
           1174
          ],
          [
           1049
          ],
          [
           1033
          ],
          [
           1023
          ],
          [
           1003
          ],
          [
           867
          ],
          [
           779
          ],
          [
           733
          ],
          [
           638
          ],
          [
           599
          ],
          [
           578
          ],
          [
           576
          ],
          [
           573
          ],
          [
           465
          ],
          [
           440
          ],
          [
           418
          ],
          [
           386
          ],
          [
           337
          ],
          [
           334
          ],
          [
           310
          ],
          [
           285
          ],
          [
           259
          ],
          [
           256
          ],
          [
           249
          ],
          [
           190
          ],
          [
           180
          ],
          [
           166
          ],
          [
           137
          ],
          [
           135
          ],
          [
           133
          ],
          [
           124
          ],
          [
           122
          ],
          [
           114
          ],
          [
           114
          ],
          [
           105
          ],
          [
           102
          ],
          [
           98
          ],
          [
           89
          ],
          [
           87
          ],
          [
           85
          ],
          [
           82
          ],
          [
           73
          ],
          [
           53
          ],
          [
           51
          ],
          [
           50
          ],
          [
           49
          ],
          [
           48
          ],
          [
           47
          ],
          [
           46
          ],
          [
           46
          ],
          [
           44
          ],
          [
           42
          ],
          [
           42
          ],
          [
           41
          ],
          [
           38
          ],
          [
           35
          ],
          [
           34
          ],
          [
           29
          ],
          [
           25
          ],
          [
           24
          ],
          [
           23
          ],
          [
           23
          ],
          [
           22
          ],
          [
           19
          ],
          [
           19
          ],
          [
           18
          ],
          [
           15
          ],
          [
           13
          ],
          [
           13
          ],
          [
           13
          ],
          [
           12
          ],
          [
           12
          ],
          [
           12
          ],
          [
           12
          ],
          [
           11
          ],
          [
           10
          ],
          [
           10
          ],
          [
           9
          ],
          [
           8
          ],
          [
           8
          ],
          [
           5
          ],
          [
           4
          ],
          [
           4
          ],
          [
           2
          ],
          [
           2
          ],
          [
           2
          ],
          [
           2
          ],
          [
           1
          ],
          [
           1
          ],
          [
           1
          ]
         ],
         "geo": "geo",
         "hovertemplate": "<b>%{hovertext}</b><br><br>state=%{location}<br>beer_count=%{customdata[0]}<br>log_beer_count=%{z}<extra></extra>",
         "hovertext": [
          null,
          null,
          null,
          null,
          null,
          null,
          null,
          null,
          null,
          null,
          null,
          null,
          null,
          null,
          null,
          null,
          null,
          null,
          null,
          null,
          null,
          null,
          null,
          null,
          null,
          null,
          null,
          null,
          null,
          null,
          null,
          null,
          null,
          null,
          null,
          null,
          null,
          null,
          null,
          null,
          null,
          "CA",
          null,
          "NH",
          "NY",
          null,
          null,
          "AZ",
          "ME",
          null,
          "MI",
          "TX",
          null,
          null,
          "MA",
          "CT",
          null,
          "OR",
          "GA",
          null,
          null,
          "WI",
          "PA",
          "IL",
          "CO",
          "WA",
          "NC",
          "MN",
          "UT",
          "RI",
          "FL",
          "KY",
          "SC",
          "NJ",
          "VT",
          "AK",
          "VA",
          "MO",
          "IN",
          "NV",
          "OH",
          "IA",
          "MT",
          "LA",
          "MD",
          "KS",
          "OK",
          "AR",
          "TN",
          "WY",
          "AL",
          "DE",
          "NM",
          "WV",
          "NE",
          "ID"
         ],
         "locationmode": "USA-states",
         "locations": [
          null,
          null,
          null,
          null,
          null,
          null,
          null,
          null,
          null,
          null,
          null,
          null,
          null,
          null,
          null,
          null,
          null,
          null,
          null,
          null,
          null,
          null,
          null,
          null,
          null,
          null,
          null,
          null,
          null,
          null,
          null,
          null,
          null,
          null,
          null,
          null,
          null,
          null,
          null,
          null,
          null,
          "CA",
          null,
          "NH",
          "NY",
          null,
          null,
          "AZ",
          "ME",
          null,
          "MI",
          "TX",
          null,
          null,
          "MA",
          "CT",
          null,
          "OR",
          "GA",
          null,
          null,
          "WI",
          "PA",
          "IL",
          "CO",
          "WA",
          "NC",
          "MN",
          "UT",
          "RI",
          "FL",
          "KY",
          "SC",
          "NJ",
          "VT",
          "AK",
          "VA",
          "MO",
          "IN",
          "NV",
          "OH",
          "IA",
          "MT",
          "LA",
          "MD",
          "KS",
          "OK",
          "AR",
          "TN",
          "WY",
          "AL",
          "DE",
          "NM",
          "WV",
          "NE",
          "ID"
         ],
         "name": "",
         "type": "choropleth",
         "z": [
          8.298041661371565,
          7.465082736399547,
          7.307202314764738,
          7.298445101508147,
          7.202661196523238,
          7.109062135687172,
          7.069023426578259,
          6.956545443151569,
          6.9411900550683745,
          6.931471805599453,
          6.911747300251674,
          6.7661917146603505,
          6.659293919683638,
          6.598509028614515,
          6.459904454377535,
          6.396929655216146,
          6.361302477572996,
          6.3578422665081,
          6.352629396319567,
          6.144185634125646,
          6.089044875446846,
          6.037870919922137,
          5.958424693029782,
          5.823045895483019,
          5.814130531825066,
          5.739792912179234,
          5.655991810819852,
          5.560681631015528,
          5.54907608489522,
          5.521460917862246,
          5.25227342804663,
          5.198497031265826,
          5.117993812416755,
          4.927253685157205,
          4.912654885736052,
          4.897839799950911,
          4.8283137373023015,
          4.812184355372417,
          4.74493212836325,
          4.74493212836325,
          4.663439094112067,
          4.634728988229636,
          4.59511985013459,
          4.499809670330265,
          4.477336814478207,
          4.454347296253507,
          4.418840607796598,
          4.30406509320417,
          3.9889840465642745,
          3.9512437185814275,
          3.9318256327243257,
          3.912023005428146,
          3.8918202981106265,
          3.871201010907891,
          3.8501476017100584,
          3.8501476017100584,
          3.8066624897703196,
          3.7612001156935624,
          3.7612001156935624,
          3.7376696182833684,
          3.6635616461296463,
          3.58351893845611,
          3.5553480614894135,
          3.4011973816621555,
          3.258096538021482,
          3.2188758248682006,
          3.1780538303479458,
          3.1780538303479458,
          3.1354942159291497,
          2.995732273553991,
          2.995732273553991,
          2.9444389791664403,
          2.772588722239781,
          2.6390573296152584,
          2.6390573296152584,
          2.6390573296152584,
          2.5649493574615367,
          2.5649493574615367,
          2.5649493574615367,
          2.5649493574615367,
          2.4849066497880004,
          2.3978952727983707,
          2.3978952727983707,
          2.302585092994046,
          2.1972245773362196,
          2.1972245773362196,
          1.791759469228055,
          1.6094379124341003,
          1.6094379124341003,
          1.0986122886681098,
          1.0986122886681098,
          1.0986122886681098,
          1.0986122886681098,
          0.6931471805599453,
          0.6931471805599453,
          0.6931471805599453
         ]
        }
       ],
       "layout": {
        "coloraxis": {
         "colorbar": {
          "ticktext": [
           "1",
           "10",
           "100",
           "1k",
           "10k",
           "100k"
          ],
          "tickvals": [
           0.6931471805599453,
           2.3978952727983707,
           4.61512051684126,
           6.90875477931522,
           9.210440366976517,
           11.51293546492023
          ],
          "title": {
           "text": "Number of Beers (Log Scale)"
          }
         },
         "colorscale": [
          [
           0,
           "#0d0887"
          ],
          [
           0.1111111111111111,
           "#46039f"
          ],
          [
           0.2222222222222222,
           "#7201a8"
          ],
          [
           0.3333333333333333,
           "#9c179e"
          ],
          [
           0.4444444444444444,
           "#bd3786"
          ],
          [
           0.5555555555555556,
           "#d8576b"
          ],
          [
           0.6666666666666666,
           "#ed7953"
          ],
          [
           0.7777777777777778,
           "#fb9f3a"
          ],
          [
           0.8888888888888888,
           "#fdca26"
          ],
          [
           1,
           "#f0f921"
          ]
         ]
        },
        "geo": {
         "center": {},
         "coastlinecolor": "Gray",
         "domain": {
          "x": [
           0,
           1
          ],
          "y": [
           0,
           1
          ]
         },
         "scope": "usa",
         "showcoastlines": true
        },
        "legend": {
         "tracegroupgap": 0
        },
        "margin": {
         "b": 0,
         "l": 0,
         "r": 0,
         "t": 0
        },
        "template": {
         "data": {
          "bar": [
           {
            "error_x": {
             "color": "#2a3f5f"
            },
            "error_y": {
             "color": "#2a3f5f"
            },
            "marker": {
             "line": {
              "color": "#E5ECF6",
              "width": 0.5
             },
             "pattern": {
              "fillmode": "overlay",
              "size": 10,
              "solidity": 0.2
             }
            },
            "type": "bar"
           }
          ],
          "barpolar": [
           {
            "marker": {
             "line": {
              "color": "#E5ECF6",
              "width": 0.5
             },
             "pattern": {
              "fillmode": "overlay",
              "size": 10,
              "solidity": 0.2
             }
            },
            "type": "barpolar"
           }
          ],
          "carpet": [
           {
            "aaxis": {
             "endlinecolor": "#2a3f5f",
             "gridcolor": "white",
             "linecolor": "white",
             "minorgridcolor": "white",
             "startlinecolor": "#2a3f5f"
            },
            "baxis": {
             "endlinecolor": "#2a3f5f",
             "gridcolor": "white",
             "linecolor": "white",
             "minorgridcolor": "white",
             "startlinecolor": "#2a3f5f"
            },
            "type": "carpet"
           }
          ],
          "choropleth": [
           {
            "colorbar": {
             "outlinewidth": 0,
             "ticks": ""
            },
            "type": "choropleth"
           }
          ],
          "contour": [
           {
            "colorbar": {
             "outlinewidth": 0,
             "ticks": ""
            },
            "colorscale": [
             [
              0,
              "#0d0887"
             ],
             [
              0.1111111111111111,
              "#46039f"
             ],
             [
              0.2222222222222222,
              "#7201a8"
             ],
             [
              0.3333333333333333,
              "#9c179e"
             ],
             [
              0.4444444444444444,
              "#bd3786"
             ],
             [
              0.5555555555555556,
              "#d8576b"
             ],
             [
              0.6666666666666666,
              "#ed7953"
             ],
             [
              0.7777777777777778,
              "#fb9f3a"
             ],
             [
              0.8888888888888888,
              "#fdca26"
             ],
             [
              1,
              "#f0f921"
             ]
            ],
            "type": "contour"
           }
          ],
          "contourcarpet": [
           {
            "colorbar": {
             "outlinewidth": 0,
             "ticks": ""
            },
            "type": "contourcarpet"
           }
          ],
          "heatmap": [
           {
            "colorbar": {
             "outlinewidth": 0,
             "ticks": ""
            },
            "colorscale": [
             [
              0,
              "#0d0887"
             ],
             [
              0.1111111111111111,
              "#46039f"
             ],
             [
              0.2222222222222222,
              "#7201a8"
             ],
             [
              0.3333333333333333,
              "#9c179e"
             ],
             [
              0.4444444444444444,
              "#bd3786"
             ],
             [
              0.5555555555555556,
              "#d8576b"
             ],
             [
              0.6666666666666666,
              "#ed7953"
             ],
             [
              0.7777777777777778,
              "#fb9f3a"
             ],
             [
              0.8888888888888888,
              "#fdca26"
             ],
             [
              1,
              "#f0f921"
             ]
            ],
            "type": "heatmap"
           }
          ],
          "heatmapgl": [
           {
            "colorbar": {
             "outlinewidth": 0,
             "ticks": ""
            },
            "colorscale": [
             [
              0,
              "#0d0887"
             ],
             [
              0.1111111111111111,
              "#46039f"
             ],
             [
              0.2222222222222222,
              "#7201a8"
             ],
             [
              0.3333333333333333,
              "#9c179e"
             ],
             [
              0.4444444444444444,
              "#bd3786"
             ],
             [
              0.5555555555555556,
              "#d8576b"
             ],
             [
              0.6666666666666666,
              "#ed7953"
             ],
             [
              0.7777777777777778,
              "#fb9f3a"
             ],
             [
              0.8888888888888888,
              "#fdca26"
             ],
             [
              1,
              "#f0f921"
             ]
            ],
            "type": "heatmapgl"
           }
          ],
          "histogram": [
           {
            "marker": {
             "pattern": {
              "fillmode": "overlay",
              "size": 10,
              "solidity": 0.2
             }
            },
            "type": "histogram"
           }
          ],
          "histogram2d": [
           {
            "colorbar": {
             "outlinewidth": 0,
             "ticks": ""
            },
            "colorscale": [
             [
              0,
              "#0d0887"
             ],
             [
              0.1111111111111111,
              "#46039f"
             ],
             [
              0.2222222222222222,
              "#7201a8"
             ],
             [
              0.3333333333333333,
              "#9c179e"
             ],
             [
              0.4444444444444444,
              "#bd3786"
             ],
             [
              0.5555555555555556,
              "#d8576b"
             ],
             [
              0.6666666666666666,
              "#ed7953"
             ],
             [
              0.7777777777777778,
              "#fb9f3a"
             ],
             [
              0.8888888888888888,
              "#fdca26"
             ],
             [
              1,
              "#f0f921"
             ]
            ],
            "type": "histogram2d"
           }
          ],
          "histogram2dcontour": [
           {
            "colorbar": {
             "outlinewidth": 0,
             "ticks": ""
            },
            "colorscale": [
             [
              0,
              "#0d0887"
             ],
             [
              0.1111111111111111,
              "#46039f"
             ],
             [
              0.2222222222222222,
              "#7201a8"
             ],
             [
              0.3333333333333333,
              "#9c179e"
             ],
             [
              0.4444444444444444,
              "#bd3786"
             ],
             [
              0.5555555555555556,
              "#d8576b"
             ],
             [
              0.6666666666666666,
              "#ed7953"
             ],
             [
              0.7777777777777778,
              "#fb9f3a"
             ],
             [
              0.8888888888888888,
              "#fdca26"
             ],
             [
              1,
              "#f0f921"
             ]
            ],
            "type": "histogram2dcontour"
           }
          ],
          "mesh3d": [
           {
            "colorbar": {
             "outlinewidth": 0,
             "ticks": ""
            },
            "type": "mesh3d"
           }
          ],
          "parcoords": [
           {
            "line": {
             "colorbar": {
              "outlinewidth": 0,
              "ticks": ""
             }
            },
            "type": "parcoords"
           }
          ],
          "pie": [
           {
            "automargin": true,
            "type": "pie"
           }
          ],
          "scatter": [
           {
            "fillpattern": {
             "fillmode": "overlay",
             "size": 10,
             "solidity": 0.2
            },
            "type": "scatter"
           }
          ],
          "scatter3d": [
           {
            "line": {
             "colorbar": {
              "outlinewidth": 0,
              "ticks": ""
             }
            },
            "marker": {
             "colorbar": {
              "outlinewidth": 0,
              "ticks": ""
             }
            },
            "type": "scatter3d"
           }
          ],
          "scattercarpet": [
           {
            "marker": {
             "colorbar": {
              "outlinewidth": 0,
              "ticks": ""
             }
            },
            "type": "scattercarpet"
           }
          ],
          "scattergeo": [
           {
            "marker": {
             "colorbar": {
              "outlinewidth": 0,
              "ticks": ""
             }
            },
            "type": "scattergeo"
           }
          ],
          "scattergl": [
           {
            "marker": {
             "colorbar": {
              "outlinewidth": 0,
              "ticks": ""
             }
            },
            "type": "scattergl"
           }
          ],
          "scattermapbox": [
           {
            "marker": {
             "colorbar": {
              "outlinewidth": 0,
              "ticks": ""
             }
            },
            "type": "scattermapbox"
           }
          ],
          "scatterpolar": [
           {
            "marker": {
             "colorbar": {
              "outlinewidth": 0,
              "ticks": ""
             }
            },
            "type": "scatterpolar"
           }
          ],
          "scatterpolargl": [
           {
            "marker": {
             "colorbar": {
              "outlinewidth": 0,
              "ticks": ""
             }
            },
            "type": "scatterpolargl"
           }
          ],
          "scatterternary": [
           {
            "marker": {
             "colorbar": {
              "outlinewidth": 0,
              "ticks": ""
             }
            },
            "type": "scatterternary"
           }
          ],
          "surface": [
           {
            "colorbar": {
             "outlinewidth": 0,
             "ticks": ""
            },
            "colorscale": [
             [
              0,
              "#0d0887"
             ],
             [
              0.1111111111111111,
              "#46039f"
             ],
             [
              0.2222222222222222,
              "#7201a8"
             ],
             [
              0.3333333333333333,
              "#9c179e"
             ],
             [
              0.4444444444444444,
              "#bd3786"
             ],
             [
              0.5555555555555556,
              "#d8576b"
             ],
             [
              0.6666666666666666,
              "#ed7953"
             ],
             [
              0.7777777777777778,
              "#fb9f3a"
             ],
             [
              0.8888888888888888,
              "#fdca26"
             ],
             [
              1,
              "#f0f921"
             ]
            ],
            "type": "surface"
           }
          ],
          "table": [
           {
            "cells": {
             "fill": {
              "color": "#EBF0F8"
             },
             "line": {
              "color": "white"
             }
            },
            "header": {
             "fill": {
              "color": "#C8D4E3"
             },
             "line": {
              "color": "white"
             }
            },
            "type": "table"
           }
          ]
         },
         "layout": {
          "annotationdefaults": {
           "arrowcolor": "#2a3f5f",
           "arrowhead": 0,
           "arrowwidth": 1
          },
          "autotypenumbers": "strict",
          "coloraxis": {
           "colorbar": {
            "outlinewidth": 0,
            "ticks": ""
           }
          },
          "colorscale": {
           "diverging": [
            [
             0,
             "#8e0152"
            ],
            [
             0.1,
             "#c51b7d"
            ],
            [
             0.2,
             "#de77ae"
            ],
            [
             0.3,
             "#f1b6da"
            ],
            [
             0.4,
             "#fde0ef"
            ],
            [
             0.5,
             "#f7f7f7"
            ],
            [
             0.6,
             "#e6f5d0"
            ],
            [
             0.7,
             "#b8e186"
            ],
            [
             0.8,
             "#7fbc41"
            ],
            [
             0.9,
             "#4d9221"
            ],
            [
             1,
             "#276419"
            ]
           ],
           "sequential": [
            [
             0,
             "#0d0887"
            ],
            [
             0.1111111111111111,
             "#46039f"
            ],
            [
             0.2222222222222222,
             "#7201a8"
            ],
            [
             0.3333333333333333,
             "#9c179e"
            ],
            [
             0.4444444444444444,
             "#bd3786"
            ],
            [
             0.5555555555555556,
             "#d8576b"
            ],
            [
             0.6666666666666666,
             "#ed7953"
            ],
            [
             0.7777777777777778,
             "#fb9f3a"
            ],
            [
             0.8888888888888888,
             "#fdca26"
            ],
            [
             1,
             "#f0f921"
            ]
           ],
           "sequentialminus": [
            [
             0,
             "#0d0887"
            ],
            [
             0.1111111111111111,
             "#46039f"
            ],
            [
             0.2222222222222222,
             "#7201a8"
            ],
            [
             0.3333333333333333,
             "#9c179e"
            ],
            [
             0.4444444444444444,
             "#bd3786"
            ],
            [
             0.5555555555555556,
             "#d8576b"
            ],
            [
             0.6666666666666666,
             "#ed7953"
            ],
            [
             0.7777777777777778,
             "#fb9f3a"
            ],
            [
             0.8888888888888888,
             "#fdca26"
            ],
            [
             1,
             "#f0f921"
            ]
           ]
          },
          "colorway": [
           "#636efa",
           "#EF553B",
           "#00cc96",
           "#ab63fa",
           "#FFA15A",
           "#19d3f3",
           "#FF6692",
           "#B6E880",
           "#FF97FF",
           "#FECB52"
          ],
          "font": {
           "color": "#2a3f5f"
          },
          "geo": {
           "bgcolor": "white",
           "lakecolor": "white",
           "landcolor": "#E5ECF6",
           "showlakes": true,
           "showland": true,
           "subunitcolor": "white"
          },
          "hoverlabel": {
           "align": "left"
          },
          "hovermode": "closest",
          "mapbox": {
           "style": "light"
          },
          "paper_bgcolor": "white",
          "plot_bgcolor": "#E5ECF6",
          "polar": {
           "angularaxis": {
            "gridcolor": "white",
            "linecolor": "white",
            "ticks": ""
           },
           "bgcolor": "#E5ECF6",
           "radialaxis": {
            "gridcolor": "white",
            "linecolor": "white",
            "ticks": ""
           }
          },
          "scene": {
           "xaxis": {
            "backgroundcolor": "#E5ECF6",
            "gridcolor": "white",
            "gridwidth": 2,
            "linecolor": "white",
            "showbackground": true,
            "ticks": "",
            "zerolinecolor": "white"
           },
           "yaxis": {
            "backgroundcolor": "#E5ECF6",
            "gridcolor": "white",
            "gridwidth": 2,
            "linecolor": "white",
            "showbackground": true,
            "ticks": "",
            "zerolinecolor": "white"
           },
           "zaxis": {
            "backgroundcolor": "#E5ECF6",
            "gridcolor": "white",
            "gridwidth": 2,
            "linecolor": "white",
            "showbackground": true,
            "ticks": "",
            "zerolinecolor": "white"
           }
          },
          "shapedefaults": {
           "line": {
            "color": "#2a3f5f"
           }
          },
          "ternary": {
           "aaxis": {
            "gridcolor": "white",
            "linecolor": "white",
            "ticks": ""
           },
           "baxis": {
            "gridcolor": "white",
            "linecolor": "white",
            "ticks": ""
           },
           "bgcolor": "#E5ECF6",
           "caxis": {
            "gridcolor": "white",
            "linecolor": "white",
            "ticks": ""
           }
          },
          "title": {
           "x": 0.05
          },
          "xaxis": {
           "automargin": true,
           "gridcolor": "white",
           "linecolor": "white",
           "ticks": "",
           "title": {
            "standoff": 15
           },
           "zerolinecolor": "white",
           "zerolinewidth": 2
          },
          "yaxis": {
           "automargin": true,
           "gridcolor": "white",
           "linecolor": "white",
           "ticks": "",
           "title": {
            "standoff": 15
           },
           "zerolinecolor": "white",
           "zerolinewidth": 2
          }
         }
        },
        "title": {
         "text": "Number of Beers per State in the US (Log Scale)"
        }
       }
      }
     },
     "metadata": {},
     "output_type": "display_data"
    }
   ],
   "source": [
    "state_counts = beers['location_region'].value_counts().reset_index()\n",
    "state_counts.columns = ['state', 'beer_count']\n",
    "\n",
    "# Map full state names to abbreviations\n",
    "us_state_abbrev = {\n",
    "    'Alabama': 'AL', 'Alaska': 'AK', 'Arizona': 'AZ', 'Arkansas': 'AR', 'California': 'CA',\n",
    "    'Colorado': 'CO', 'Connecticut': 'CT', 'Delaware': 'DE', 'Florida': 'FL', 'Georgia': 'GA',\n",
    "    'Hawaii': 'HI', 'Idaho': 'ID', 'Illinois': 'IL', 'Indiana': 'IN', 'Iowa': 'IA', 'Kansas': 'KS',\n",
    "    'Kentucky': 'KY', 'Louisiana': 'LA', 'Maine': 'ME', 'Maryland': 'MD', 'Massachusetts': 'MA',\n",
    "    'Michigan': 'MI', 'Minnesota': 'MN', 'Mississippi': 'MS', 'Missouri': 'MO', 'Montana': 'MT',\n",
    "    'Nebraska': 'NE', 'Nevada': 'NV', 'New Hampshire': 'NH', 'New Jersey': 'NJ', 'New Mexico': 'NM',\n",
    "    'New York': 'NY', 'North Carolina': 'NC', 'North Dakota': 'ND', 'Ohio': 'OH', 'Oklahoma': 'OK',\n",
    "    'Oregon': 'OR', 'Pennsylvania': 'PA', 'Rhode Island': 'RI', 'South Carolina': 'SC', 'South Dakota': 'SD',\n",
    "    'Tennessee': 'TN', 'Texas': 'TX', 'Utah': 'UT', 'Vermont': 'VT', 'Virginia': 'VA', 'Washington': 'WA',\n",
    "    'West Virginia': 'WV', 'Wisconsin': 'WI', 'Wyoming': 'WY'\n",
    "}\n",
    "\n",
    "# Convert state names to abbreviations\n",
    "state_counts['state'] = state_counts['state'].map(us_state_abbrev)\n",
    "\n",
    "# Calculate log scale for better color differentiation\n",
    "state_counts['log_beer_count'] = np.log1p(state_counts['beer_count'])\n",
    "\n",
    "# Create an interactive map with Plotly for US states\n",
    "fig = px.choropleth(\n",
    "    state_counts,\n",
    "    locations=\"state\",\n",
    "    locationmode=\"USA-states\",  # Use 'USA-states' mode to restrict to US states\n",
    "    color=\"log_beer_count\",     # Log scale column for coloring\n",
    "    hover_name=\"state\",\n",
    "    hover_data={\n",
    "        \"beer_count\": True  # Display the original number of beers for clarity\n",
    "    },\n",
    "    title=\"Number of Beers per State in the US (Log Scale)\"\n",
    ")\n",
    "\n",
    "# Update layout for better appearance and focus on the US\n",
    "fig.update_geos(\n",
    "    scope=\"usa\",  # Restrict to USA\n",
    "    showcoastlines=True,\n",
    "    coastlinecolor=\"Gray\"\n",
    ")\n",
    "fig.update_layout(\n",
    "    margin={\"r\":0,\"t\":0,\"l\":0,\"b\":0},\n",
    "    coloraxis_colorbar={\n",
    "        'title': \"Number of Beers (Log Scale)\",\n",
    "        'tickvals': [np.log1p(val) for val in [1, 10, 100, 1000, 10000, 100000]],  # Log scale ticks\n",
    "        'ticktext': ['1', '10', '100', '1k', '10k', '100k']\n",
    "    }\n",
    ")\n",
    "\n",
    "# Display the figure\n",
    "fig.show()\n",
    "fig.write_html(\"us_beer_map.html\")\n"
   ]
  }
 ],
 "metadata": {
  "kernelspec": {
   "display_name": "ada",
   "language": "python",
   "name": "python3"
  },
  "language_info": {
   "codemirror_mode": {
    "name": "ipython",
    "version": 3
   },
   "file_extension": ".py",
   "mimetype": "text/x-python",
   "name": "python",
   "nbconvert_exporter": "python",
   "pygments_lexer": "ipython3",
   "version": "3.11.10"
  }
 },
 "nbformat": 4,
 "nbformat_minor": 2
}
