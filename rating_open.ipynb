{
 "cells": [
  {
   "cell_type": "code",
   "execution_count": 4,
   "id": "bb80de69-6e5a-4cf5-9072-69b7a79c71a4",
   "metadata": {},
   "outputs": [
    {
     "name": "stdout",
     "output_type": "stream",
     "text": [
      "Data has been saved in: data/birre/BeerAdvocate/ratings_cleaned.csv\n"
     ]
    }
   ],
   "source": [
    "import os\n",
    "import csv\n",
    "\n",
    "def txt_to_csv(input_file, output_file, dataset):\n",
    "    data = []\n",
    "    data_line = []\n",
    "    iteration = 0\n",
    "    features = [\"beer_name\", \"beer_id\", \"brewery_name\", \"brewery_id\", \"style\", \"abv\", \"date\", \"user_name\", \"user_id\", \"appearance\", \"aroma\", \"palate\", \"taste\", \"overall\", \"rating\", \"text\"]\n",
    "    if dataset == \"BA\":\n",
    "        features.append(\"review\")\n",
    "\n",
    "    # Delete the output file if it already exists\n",
    "    if os.path.exists(output_file):\n",
    "        os.remove(output_file)\n",
    "\n",
    "    # Open the input and output files\n",
    "    with open(input_file, 'r', encoding='utf-8') as file:\n",
    "        with open(output_file, 'a', newline='', encoding='utf-8') as csvfile:\n",
    "            writer = csv.writer(csvfile)\n",
    "\n",
    "            # Write the header row with features\n",
    "            writer.writerow(features)\n",
    "\n",
    "            # Process each line in the input file\n",
    "            for line in file:\n",
    "                line = line.strip()\n",
    "\n",
    "                # Empty line indicates the end of a review block\n",
    "                if line == \"\":\n",
    "                    # Write the data in chunks of 10,000 reviews to save memory\n",
    "                    if iteration % 10000 == 0:\n",
    "                        writer.writerows(data)\n",
    "                        data = []  # Clear the list after writing\n",
    "                    else:\n",
    "                        data.append(data_line)\n",
    "                    \n",
    "                    iteration += 1\n",
    "                    \n",
    "                    data_line = []  # Reset for the next review\n",
    "                else:\n",
    "                    # Split line at \": \" to separate key and value\n",
    "                    parts = line.split(\": \", 1)\n",
    "                    if parts[0] == \"text:\":\n",
    "                        data_line.append(\"\")\n",
    "                    else:\n",
    "                        data_line.append(parts[1])\n",
    "\n",
    "            # Write any remaining data to the CSV file\n",
    "            if data:\n",
    "                writer.writerows(data)\n",
    "\n",
    "    print(\"Data has been saved in:\", output_file)\n",
    "\n",
    "# Example usage\n",
    "input_file = 'data/birre/BeerAdvocate/ratings.txt'\n",
    "output_file = 'data/birre/BeerAdvocate/ratings_cleaned.csv'\n",
    "txt_to_csv(input_file, output_file, dataset=\"BA\")\n"
   ]
  },
  {
   "cell_type": "code",
   "execution_count": null,
   "id": "668a915f-2a3b-4647-8c99-55ae04af1c31",
   "metadata": {},
   "outputs": [],
   "source": []
  }
 ],
 "metadata": {
  "kernelspec": {
   "display_name": "Python 3 (ipykernel)",
   "language": "python",
   "name": "python3"
  },
  "language_info": {
   "codemirror_mode": {
    "name": "ipython",
    "version": 3
   },
   "file_extension": ".py",
   "mimetype": "text/x-python",
   "name": "python",
   "nbconvert_exporter": "python",
   "pygments_lexer": "ipython3",
   "version": "3.12.4"
  }
 },
 "nbformat": 4,
 "nbformat_minor": 5
}
